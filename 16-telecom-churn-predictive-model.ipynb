{
 "cells": [
  {
   "cell_type": "markdown",
   "metadata": {},
   "source": [
    "# TripleTen - Predicting Churn for Interconnect, a Telecom Company\n",
    "\n",
    "## **Project Plan**\n",
    "\n",
    "**Overall Summary**\n",
    "\n",
    "The client Interconnect is a telecom company looking for a solution to forecast and address client churn. Our data team has been tasked by the client’s marketing team to predict customer churn in order to offer promotional codes and special plan options to address / reduce customer churn.\n",
    "\n",
    "**About Interconnect**\n",
    "\n",
    "Interconnect provides two primary services: landline communication and internet. Interconnect also provides auxiliary services: internet security, technical support, cloud storage and TV streaming with a movie directory. Interconnect’s customers purchase services on a subscription basis on either a 1- or 2-year contract and are electronically invoiced.\n",
    "\n",
    "**Churn at Interconnect**\n",
    "\n",
    "Churn could be assessed monthly, quarterly or annually and the strategies for addressing each type of churn will vary by timeframe.\n",
    "\n",
    "**Data, Assets and other Resources**\n",
    "\n",
    "Interconnect has provided data including: contract information, customer personal data, internet services, phone services. The data can be used to engineer features for further analysis.\n",
    "\n",
    "**Recommended Scope of Work**\n",
    "\n",
    "*Development of Project Plan:* The Project Plan provides a baseline and high level overview and SOW\n",
    "- Provide a draft of project plan and high level scope of work detailing the project workflow, deliverables and timeline. This requires a preview of the RAW data.\n",
    "- Timing: 1 Day\n",
    "\n",
    "*Data Collection and Exploratory Data Analysis:* An analysis of the RAW data for trends and feature engineering\n",
    "- Examine and analyze data; clean, merge, combine data; standardize data formats; develop descriptive statistics to inform feature engineering and predictive model.\n",
    "- Visualization of trends in the data.\n",
    "- Timing: 2 Days\n",
    "\n",
    "*Feature Engineering:* Creation of new features from the data to inform the predictive model\n",
    "- Create new features based on observable elements and trends in the data. \n",
    "- Develop features to classify users by longevity, and customer loyalty\n",
    "- Timing: 2 Days\n",
    "\n",
    "*Model Selection and Training for Predictive Modeling:* Development of an ML model to predict churn\n",
    "- Select and test a model that will predict customer churn. Data split for training, validation and testing. \n",
    "- Fine tune the model to optimize performance\n",
    "- Evaluate various boosting methodologies to improve accuracy of the model\n",
    "- Timing: 1-2 Days\n",
    "\n",
    "*Quality Assurance / Quality Review:* Check on accuracy of the code and methodology outlined above.\n",
    "- Ensure accuracy and precision of analytics and predictive model via internal review. \n",
    "\n",
    "*Conclusions and Recommendations:* Strategy recommendations for the marketing team based on data findings and churn predictions.\n",
    "- Compile a final set of recommendations and action steps to reduce churn based on analytics and predictive modeling. Provide recommendations for model deployment and monitoring of customer churn. \n",
    "- Timing: 2 Days\n",
    "\n",
    "**Project Timetable (Estimated): 9-10 Days**\n",
    "\n",
    "**Deliverables:** \n",
    "\n",
    "Churn Model\n",
    "- Develop and test churn model with corresponding retention strategy for Marketing Team\n",
    "- Create a set of performance tracking recommendations to monitor post-deployment\n",
    "\n",
    "Performance Indicators:\n",
    "- Model Accuracy Score\n",
    "- ROI on project (description only)\n"
   ]
  },
  {
   "cell_type": "markdown",
   "metadata": {},
   "source": [
    "## Data Collection and Checks for Data Integrity\n",
    "\n",
    "These preliminary checks are insight into the quality of the RAW data and are used to inform the Scope of Work (SOW) above and the anlyses needed to meet the project deliverables."
   ]
  },
  {
   "cell_type": "code",
   "execution_count": 1,
   "metadata": {},
   "outputs": [],
   "source": [
    "# Preliminary import of libraries for data manipulation and EDA\n",
    "\n",
    "import numpy as np\n",
    "import pandas as pd\n",
    "from datetime import datetime"
   ]
  },
  {
   "cell_type": "code",
   "execution_count": 2,
   "metadata": {},
   "outputs": [],
   "source": [
    "# Import secondary libraries for EDA visualization\n",
    "\n",
    "import seaborn as sns\n",
    "import matplotlib.pyplot as plt"
   ]
  },
  {
   "cell_type": "code",
   "execution_count": 3,
   "metadata": {},
   "outputs": [],
   "source": [
    "# Import tools for Encoding categorical variables\n",
    "\n",
    "from sklearn.preprocessing import LabelEncoder\n",
    "\n",
    "le = LabelEncoder()"
   ]
  },
  {
   "cell_type": "code",
   "execution_count": 4,
   "metadata": {},
   "outputs": [],
   "source": [
    "# Import tools for model training\n",
    "\n",
    "from sklearn.model_selection import train_test_split\n",
    "from sklearn.linear_model import LogisticRegression\n",
    "from sklearn.ensemble import RandomForestClassifier\n",
    "from sklearn.metrics import accuracy_score\n",
    "from sklearn.metrics import roc_auc_score \n",
    "from sklearn.metrics import roc_curve\n",
    "from sklearn.model_selection import GridSearchCV\n",
    "\n",
    "# Tools to scale data and prevent data leakage\n",
    "\n",
    "from sklearn.preprocessing import StandardScaler\n",
    "from sklearn.pipeline import Pipeline"
   ]
  },
  {
   "cell_type": "code",
   "execution_count": null,
   "metadata": {},
   "outputs": [],
   "source": []
  },
  {
   "cell_type": "code",
   "execution_count": 5,
   "metadata": {},
   "outputs": [],
   "source": [
    "# Read data files provided by client \n",
    "\n",
    "contract = pd.read_csv('/datasets/final_provider/contract.csv')\n",
    "personal = pd.read_csv('/datasets/final_provider/personal.csv')\n",
    "internet = pd.read_csv('/datasets/final_provider/internet.csv')\n",
    "phone = pd.read_csv('/datasets/final_provider/phone.csv')"
   ]
  },
  {
   "cell_type": "markdown",
   "metadata": {},
   "source": [
    "*Note:* Below are some basic snapshots of each database's header. The data appears standard and coherent."
   ]
  },
  {
   "cell_type": "code",
   "execution_count": 6,
   "metadata": {},
   "outputs": [
    {
     "data": {
      "text/html": [
       "<div>\n",
       "<style scoped>\n",
       "    .dataframe tbody tr th:only-of-type {\n",
       "        vertical-align: middle;\n",
       "    }\n",
       "\n",
       "    .dataframe tbody tr th {\n",
       "        vertical-align: top;\n",
       "    }\n",
       "\n",
       "    .dataframe thead th {\n",
       "        text-align: right;\n",
       "    }\n",
       "</style>\n",
       "<table border=\"1\" class=\"dataframe\">\n",
       "  <thead>\n",
       "    <tr style=\"text-align: right;\">\n",
       "      <th></th>\n",
       "      <th>customerID</th>\n",
       "      <th>BeginDate</th>\n",
       "      <th>EndDate</th>\n",
       "      <th>Type</th>\n",
       "      <th>PaperlessBilling</th>\n",
       "      <th>PaymentMethod</th>\n",
       "      <th>MonthlyCharges</th>\n",
       "      <th>TotalCharges</th>\n",
       "    </tr>\n",
       "  </thead>\n",
       "  <tbody>\n",
       "    <tr>\n",
       "      <th>0</th>\n",
       "      <td>7590-VHVEG</td>\n",
       "      <td>2020-01-01</td>\n",
       "      <td>No</td>\n",
       "      <td>Month-to-month</td>\n",
       "      <td>Yes</td>\n",
       "      <td>Electronic check</td>\n",
       "      <td>29.85</td>\n",
       "      <td>29.85</td>\n",
       "    </tr>\n",
       "    <tr>\n",
       "      <th>1</th>\n",
       "      <td>5575-GNVDE</td>\n",
       "      <td>2017-04-01</td>\n",
       "      <td>No</td>\n",
       "      <td>One year</td>\n",
       "      <td>No</td>\n",
       "      <td>Mailed check</td>\n",
       "      <td>56.95</td>\n",
       "      <td>1889.5</td>\n",
       "    </tr>\n",
       "    <tr>\n",
       "      <th>2</th>\n",
       "      <td>3668-QPYBK</td>\n",
       "      <td>2019-10-01</td>\n",
       "      <td>2019-12-01 00:00:00</td>\n",
       "      <td>Month-to-month</td>\n",
       "      <td>Yes</td>\n",
       "      <td>Mailed check</td>\n",
       "      <td>53.85</td>\n",
       "      <td>108.15</td>\n",
       "    </tr>\n",
       "    <tr>\n",
       "      <th>3</th>\n",
       "      <td>7795-CFOCW</td>\n",
       "      <td>2016-05-01</td>\n",
       "      <td>No</td>\n",
       "      <td>One year</td>\n",
       "      <td>No</td>\n",
       "      <td>Bank transfer (automatic)</td>\n",
       "      <td>42.30</td>\n",
       "      <td>1840.75</td>\n",
       "    </tr>\n",
       "    <tr>\n",
       "      <th>4</th>\n",
       "      <td>9237-HQITU</td>\n",
       "      <td>2019-09-01</td>\n",
       "      <td>2019-11-01 00:00:00</td>\n",
       "      <td>Month-to-month</td>\n",
       "      <td>Yes</td>\n",
       "      <td>Electronic check</td>\n",
       "      <td>70.70</td>\n",
       "      <td>151.65</td>\n",
       "    </tr>\n",
       "  </tbody>\n",
       "</table>\n",
       "</div>"
      ],
      "text/plain": [
       "   customerID   BeginDate              EndDate            Type  \\\n",
       "0  7590-VHVEG  2020-01-01                   No  Month-to-month   \n",
       "1  5575-GNVDE  2017-04-01                   No        One year   \n",
       "2  3668-QPYBK  2019-10-01  2019-12-01 00:00:00  Month-to-month   \n",
       "3  7795-CFOCW  2016-05-01                   No        One year   \n",
       "4  9237-HQITU  2019-09-01  2019-11-01 00:00:00  Month-to-month   \n",
       "\n",
       "  PaperlessBilling              PaymentMethod  MonthlyCharges TotalCharges  \n",
       "0              Yes           Electronic check           29.85        29.85  \n",
       "1               No               Mailed check           56.95       1889.5  \n",
       "2              Yes               Mailed check           53.85       108.15  \n",
       "3               No  Bank transfer (automatic)           42.30      1840.75  \n",
       "4              Yes           Electronic check           70.70       151.65  "
      ]
     },
     "execution_count": 6,
     "metadata": {},
     "output_type": "execute_result"
    }
   ],
   "source": [
    "contract.head()"
   ]
  },
  {
   "cell_type": "code",
   "execution_count": 7,
   "metadata": {},
   "outputs": [
    {
     "data": {
      "text/html": [
       "<div>\n",
       "<style scoped>\n",
       "    .dataframe tbody tr th:only-of-type {\n",
       "        vertical-align: middle;\n",
       "    }\n",
       "\n",
       "    .dataframe tbody tr th {\n",
       "        vertical-align: top;\n",
       "    }\n",
       "\n",
       "    .dataframe thead th {\n",
       "        text-align: right;\n",
       "    }\n",
       "</style>\n",
       "<table border=\"1\" class=\"dataframe\">\n",
       "  <thead>\n",
       "    <tr style=\"text-align: right;\">\n",
       "      <th></th>\n",
       "      <th>customerID</th>\n",
       "      <th>gender</th>\n",
       "      <th>SeniorCitizen</th>\n",
       "      <th>Partner</th>\n",
       "      <th>Dependents</th>\n",
       "    </tr>\n",
       "  </thead>\n",
       "  <tbody>\n",
       "    <tr>\n",
       "      <th>0</th>\n",
       "      <td>7590-VHVEG</td>\n",
       "      <td>Female</td>\n",
       "      <td>0</td>\n",
       "      <td>Yes</td>\n",
       "      <td>No</td>\n",
       "    </tr>\n",
       "    <tr>\n",
       "      <th>1</th>\n",
       "      <td>5575-GNVDE</td>\n",
       "      <td>Male</td>\n",
       "      <td>0</td>\n",
       "      <td>No</td>\n",
       "      <td>No</td>\n",
       "    </tr>\n",
       "    <tr>\n",
       "      <th>2</th>\n",
       "      <td>3668-QPYBK</td>\n",
       "      <td>Male</td>\n",
       "      <td>0</td>\n",
       "      <td>No</td>\n",
       "      <td>No</td>\n",
       "    </tr>\n",
       "    <tr>\n",
       "      <th>3</th>\n",
       "      <td>7795-CFOCW</td>\n",
       "      <td>Male</td>\n",
       "      <td>0</td>\n",
       "      <td>No</td>\n",
       "      <td>No</td>\n",
       "    </tr>\n",
       "    <tr>\n",
       "      <th>4</th>\n",
       "      <td>9237-HQITU</td>\n",
       "      <td>Female</td>\n",
       "      <td>0</td>\n",
       "      <td>No</td>\n",
       "      <td>No</td>\n",
       "    </tr>\n",
       "  </tbody>\n",
       "</table>\n",
       "</div>"
      ],
      "text/plain": [
       "   customerID  gender  SeniorCitizen Partner Dependents\n",
       "0  7590-VHVEG  Female              0     Yes         No\n",
       "1  5575-GNVDE    Male              0      No         No\n",
       "2  3668-QPYBK    Male              0      No         No\n",
       "3  7795-CFOCW    Male              0      No         No\n",
       "4  9237-HQITU  Female              0      No         No"
      ]
     },
     "execution_count": 7,
     "metadata": {},
     "output_type": "execute_result"
    }
   ],
   "source": [
    "personal.head()"
   ]
  },
  {
   "cell_type": "code",
   "execution_count": 8,
   "metadata": {},
   "outputs": [
    {
     "data": {
      "text/html": [
       "<div>\n",
       "<style scoped>\n",
       "    .dataframe tbody tr th:only-of-type {\n",
       "        vertical-align: middle;\n",
       "    }\n",
       "\n",
       "    .dataframe tbody tr th {\n",
       "        vertical-align: top;\n",
       "    }\n",
       "\n",
       "    .dataframe thead th {\n",
       "        text-align: right;\n",
       "    }\n",
       "</style>\n",
       "<table border=\"1\" class=\"dataframe\">\n",
       "  <thead>\n",
       "    <tr style=\"text-align: right;\">\n",
       "      <th></th>\n",
       "      <th>customerID</th>\n",
       "      <th>InternetService</th>\n",
       "      <th>OnlineSecurity</th>\n",
       "      <th>OnlineBackup</th>\n",
       "      <th>DeviceProtection</th>\n",
       "      <th>TechSupport</th>\n",
       "      <th>StreamingTV</th>\n",
       "      <th>StreamingMovies</th>\n",
       "    </tr>\n",
       "  </thead>\n",
       "  <tbody>\n",
       "    <tr>\n",
       "      <th>0</th>\n",
       "      <td>7590-VHVEG</td>\n",
       "      <td>DSL</td>\n",
       "      <td>No</td>\n",
       "      <td>Yes</td>\n",
       "      <td>No</td>\n",
       "      <td>No</td>\n",
       "      <td>No</td>\n",
       "      <td>No</td>\n",
       "    </tr>\n",
       "    <tr>\n",
       "      <th>1</th>\n",
       "      <td>5575-GNVDE</td>\n",
       "      <td>DSL</td>\n",
       "      <td>Yes</td>\n",
       "      <td>No</td>\n",
       "      <td>Yes</td>\n",
       "      <td>No</td>\n",
       "      <td>No</td>\n",
       "      <td>No</td>\n",
       "    </tr>\n",
       "    <tr>\n",
       "      <th>2</th>\n",
       "      <td>3668-QPYBK</td>\n",
       "      <td>DSL</td>\n",
       "      <td>Yes</td>\n",
       "      <td>Yes</td>\n",
       "      <td>No</td>\n",
       "      <td>No</td>\n",
       "      <td>No</td>\n",
       "      <td>No</td>\n",
       "    </tr>\n",
       "    <tr>\n",
       "      <th>3</th>\n",
       "      <td>7795-CFOCW</td>\n",
       "      <td>DSL</td>\n",
       "      <td>Yes</td>\n",
       "      <td>No</td>\n",
       "      <td>Yes</td>\n",
       "      <td>Yes</td>\n",
       "      <td>No</td>\n",
       "      <td>No</td>\n",
       "    </tr>\n",
       "    <tr>\n",
       "      <th>4</th>\n",
       "      <td>9237-HQITU</td>\n",
       "      <td>Fiber optic</td>\n",
       "      <td>No</td>\n",
       "      <td>No</td>\n",
       "      <td>No</td>\n",
       "      <td>No</td>\n",
       "      <td>No</td>\n",
       "      <td>No</td>\n",
       "    </tr>\n",
       "  </tbody>\n",
       "</table>\n",
       "</div>"
      ],
      "text/plain": [
       "   customerID InternetService OnlineSecurity OnlineBackup DeviceProtection  \\\n",
       "0  7590-VHVEG             DSL             No          Yes               No   \n",
       "1  5575-GNVDE             DSL            Yes           No              Yes   \n",
       "2  3668-QPYBK             DSL            Yes          Yes               No   \n",
       "3  7795-CFOCW             DSL            Yes           No              Yes   \n",
       "4  9237-HQITU     Fiber optic             No           No               No   \n",
       "\n",
       "  TechSupport StreamingTV StreamingMovies  \n",
       "0          No          No              No  \n",
       "1          No          No              No  \n",
       "2          No          No              No  \n",
       "3         Yes          No              No  \n",
       "4          No          No              No  "
      ]
     },
     "execution_count": 8,
     "metadata": {},
     "output_type": "execute_result"
    }
   ],
   "source": [
    "internet.head()"
   ]
  },
  {
   "cell_type": "code",
   "execution_count": 9,
   "metadata": {},
   "outputs": [
    {
     "data": {
      "text/html": [
       "<div>\n",
       "<style scoped>\n",
       "    .dataframe tbody tr th:only-of-type {\n",
       "        vertical-align: middle;\n",
       "    }\n",
       "\n",
       "    .dataframe tbody tr th {\n",
       "        vertical-align: top;\n",
       "    }\n",
       "\n",
       "    .dataframe thead th {\n",
       "        text-align: right;\n",
       "    }\n",
       "</style>\n",
       "<table border=\"1\" class=\"dataframe\">\n",
       "  <thead>\n",
       "    <tr style=\"text-align: right;\">\n",
       "      <th></th>\n",
       "      <th>customerID</th>\n",
       "      <th>MultipleLines</th>\n",
       "    </tr>\n",
       "  </thead>\n",
       "  <tbody>\n",
       "    <tr>\n",
       "      <th>0</th>\n",
       "      <td>5575-GNVDE</td>\n",
       "      <td>No</td>\n",
       "    </tr>\n",
       "    <tr>\n",
       "      <th>1</th>\n",
       "      <td>3668-QPYBK</td>\n",
       "      <td>No</td>\n",
       "    </tr>\n",
       "    <tr>\n",
       "      <th>2</th>\n",
       "      <td>9237-HQITU</td>\n",
       "      <td>No</td>\n",
       "    </tr>\n",
       "    <tr>\n",
       "      <th>3</th>\n",
       "      <td>9305-CDSKC</td>\n",
       "      <td>Yes</td>\n",
       "    </tr>\n",
       "    <tr>\n",
       "      <th>4</th>\n",
       "      <td>1452-KIOVK</td>\n",
       "      <td>Yes</td>\n",
       "    </tr>\n",
       "  </tbody>\n",
       "</table>\n",
       "</div>"
      ],
      "text/plain": [
       "   customerID MultipleLines\n",
       "0  5575-GNVDE            No\n",
       "1  3668-QPYBK            No\n",
       "2  9237-HQITU            No\n",
       "3  9305-CDSKC           Yes\n",
       "4  1452-KIOVK           Yes"
      ]
     },
     "execution_count": 9,
     "metadata": {},
     "output_type": "execute_result"
    }
   ],
   "source": [
    "phone.head()"
   ]
  },
  {
   "cell_type": "markdown",
   "metadata": {},
   "source": [
    "*Note:* Data is readable and consistent and requires minor formatting adjustments in order to streamline analysis."
   ]
  },
  {
   "cell_type": "markdown",
   "metadata": {},
   "source": [
    "*Note:* Further information on each dataset can be found below, including number of entries, columns, and data types. We recognize that the customerID can be used as a unique identifier across the datasets provided. Personal info does not need to be obfuscated and clients are not identifiable. Data may need to be encoded via OHE or other encoding methodology for analysis."
   ]
  },
  {
   "cell_type": "markdown",
   "metadata": {},
   "source": [
    "### Information about data types"
   ]
  },
  {
   "cell_type": "code",
   "execution_count": 10,
   "metadata": {
    "scrolled": true
   },
   "outputs": [
    {
     "name": "stdout",
     "output_type": "stream",
     "text": [
      "<class 'pandas.core.frame.DataFrame'>\n",
      "RangeIndex: 7043 entries, 0 to 7042\n",
      "Data columns (total 8 columns):\n",
      " #   Column            Non-Null Count  Dtype  \n",
      "---  ------            --------------  -----  \n",
      " 0   customerID        7043 non-null   object \n",
      " 1   BeginDate         7043 non-null   object \n",
      " 2   EndDate           7043 non-null   object \n",
      " 3   Type              7043 non-null   object \n",
      " 4   PaperlessBilling  7043 non-null   object \n",
      " 5   PaymentMethod     7043 non-null   object \n",
      " 6   MonthlyCharges    7043 non-null   float64\n",
      " 7   TotalCharges      7043 non-null   object \n",
      "dtypes: float64(1), object(7)\n",
      "memory usage: 440.3+ KB\n"
     ]
    }
   ],
   "source": [
    "contract.info()"
   ]
  },
  {
   "cell_type": "code",
   "execution_count": 11,
   "metadata": {},
   "outputs": [
    {
     "name": "stdout",
     "output_type": "stream",
     "text": [
      "<class 'pandas.core.frame.DataFrame'>\n",
      "RangeIndex: 7043 entries, 0 to 7042\n",
      "Data columns (total 5 columns):\n",
      " #   Column         Non-Null Count  Dtype \n",
      "---  ------         --------------  ----- \n",
      " 0   customerID     7043 non-null   object\n",
      " 1   gender         7043 non-null   object\n",
      " 2   SeniorCitizen  7043 non-null   int64 \n",
      " 3   Partner        7043 non-null   object\n",
      " 4   Dependents     7043 non-null   object\n",
      "dtypes: int64(1), object(4)\n",
      "memory usage: 275.2+ KB\n"
     ]
    }
   ],
   "source": [
    "personal.info()"
   ]
  },
  {
   "cell_type": "code",
   "execution_count": 12,
   "metadata": {},
   "outputs": [
    {
     "name": "stdout",
     "output_type": "stream",
     "text": [
      "<class 'pandas.core.frame.DataFrame'>\n",
      "RangeIndex: 5517 entries, 0 to 5516\n",
      "Data columns (total 8 columns):\n",
      " #   Column            Non-Null Count  Dtype \n",
      "---  ------            --------------  ----- \n",
      " 0   customerID        5517 non-null   object\n",
      " 1   InternetService   5517 non-null   object\n",
      " 2   OnlineSecurity    5517 non-null   object\n",
      " 3   OnlineBackup      5517 non-null   object\n",
      " 4   DeviceProtection  5517 non-null   object\n",
      " 5   TechSupport       5517 non-null   object\n",
      " 6   StreamingTV       5517 non-null   object\n",
      " 7   StreamingMovies   5517 non-null   object\n",
      "dtypes: object(8)\n",
      "memory usage: 344.9+ KB\n"
     ]
    }
   ],
   "source": [
    "internet.info()"
   ]
  },
  {
   "cell_type": "code",
   "execution_count": 13,
   "metadata": {},
   "outputs": [
    {
     "name": "stdout",
     "output_type": "stream",
     "text": [
      "<class 'pandas.core.frame.DataFrame'>\n",
      "RangeIndex: 6361 entries, 0 to 6360\n",
      "Data columns (total 2 columns):\n",
      " #   Column         Non-Null Count  Dtype \n",
      "---  ------         --------------  ----- \n",
      " 0   customerID     6361 non-null   object\n",
      " 1   MultipleLines  6361 non-null   object\n",
      "dtypes: object(2)\n",
      "memory usage: 99.5+ KB\n"
     ]
    }
   ],
   "source": [
    "phone.info()"
   ]
  },
  {
   "cell_type": "markdown",
   "metadata": {},
   "source": [
    "### Data Examination / Cleaning"
   ]
  },
  {
   "cell_type": "markdown",
   "metadata": {},
   "source": [
    "Below are two important checks to ensure that 1) each data entry is unique and 2) that there are no null values in the current data set. Conclusively there are no duplicates or null values."
   ]
  },
  {
   "cell_type": "code",
   "execution_count": 14,
   "metadata": {},
   "outputs": [],
   "source": [
    "def duplicates_check(df):\n",
    "    \"\"\"\n",
    "    Check for duplicate rows.\n",
    "\n",
    "    Parameters:\n",
    "    df (pandas.DataFrame): The DataFrame to check for duplicates.\n",
    "\n",
    "    Returns:\n",
    "    pandas.DataFrame: DataFrame with duplicate rows. Returns empty DataFrame if no duplicates\n",
    "    \"\"\"\n",
    "    # Check for duplicate rows\n",
    "    duplicate_rows = df[df.duplicated()]\n",
    "    \n",
    "    # If there are duplicate rows, return them\n",
    "    if not duplicate_rows.empty:\n",
    "        return duplicate_rows\n",
    "    else:\n",
    "        return print(\"No duplicate rows found.\") # If no duplicates, return with print message"
   ]
  },
  {
   "cell_type": "code",
   "execution_count": 15,
   "metadata": {},
   "outputs": [
    {
     "name": "stdout",
     "output_type": "stream",
     "text": [
      "No duplicate rows found.\n"
     ]
    }
   ],
   "source": [
    "duplicates_check(contract)"
   ]
  },
  {
   "cell_type": "code",
   "execution_count": 16,
   "metadata": {},
   "outputs": [
    {
     "name": "stdout",
     "output_type": "stream",
     "text": [
      "No duplicate rows found.\n"
     ]
    }
   ],
   "source": [
    "duplicates_check(personal)"
   ]
  },
  {
   "cell_type": "code",
   "execution_count": 17,
   "metadata": {},
   "outputs": [
    {
     "name": "stdout",
     "output_type": "stream",
     "text": [
      "No duplicate rows found.\n"
     ]
    }
   ],
   "source": [
    "duplicates_check(internet)"
   ]
  },
  {
   "cell_type": "code",
   "execution_count": 18,
   "metadata": {},
   "outputs": [
    {
     "name": "stdout",
     "output_type": "stream",
     "text": [
      "No duplicate rows found.\n"
     ]
    }
   ],
   "source": [
    "duplicates_check(phone)"
   ]
  },
  {
   "cell_type": "code",
   "execution_count": 19,
   "metadata": {},
   "outputs": [],
   "source": [
    "def nan_check(df):\n",
    "    \"\"\"\n",
    "    Check for rows with missing values (NaNs) in a DataFrame.\n",
    "\n",
    "    Parameters:\n",
    "    df (pandas.DataFrame): The DataFrame to check for missing values.\n",
    "\n",
    "    Returns:\n",
    "    pandas.DataFrame: A DataFrame containing the rows with missing values, if any.\n",
    "    \"\"\"\n",
    "    # Check for rows with missing values\n",
    "    missing_value_rows = df[df.isna().any(axis=1)]\n",
    "    \n",
    "    # If there are rows with missing values, return them\n",
    "    if not missing_value_rows.empty:\n",
    "        return missing_value_rows\n",
    "    else:\n",
    "        return print(\"No NaN values found.\") # If no NaN, return with print message"
   ]
  },
  {
   "cell_type": "code",
   "execution_count": 20,
   "metadata": {},
   "outputs": [
    {
     "name": "stdout",
     "output_type": "stream",
     "text": [
      "No NaN values found.\n"
     ]
    }
   ],
   "source": [
    "nan_check(contract)"
   ]
  },
  {
   "cell_type": "code",
   "execution_count": 21,
   "metadata": {},
   "outputs": [
    {
     "name": "stdout",
     "output_type": "stream",
     "text": [
      "No NaN values found.\n"
     ]
    }
   ],
   "source": [
    "nan_check(personal)"
   ]
  },
  {
   "cell_type": "code",
   "execution_count": 22,
   "metadata": {},
   "outputs": [
    {
     "name": "stdout",
     "output_type": "stream",
     "text": [
      "No NaN values found.\n"
     ]
    }
   ],
   "source": [
    "nan_check(internet)"
   ]
  },
  {
   "cell_type": "code",
   "execution_count": 23,
   "metadata": {},
   "outputs": [
    {
     "name": "stdout",
     "output_type": "stream",
     "text": [
      "No NaN values found.\n"
     ]
    }
   ],
   "source": [
    "nan_check(phone)"
   ]
  },
  {
   "cell_type": "markdown",
   "metadata": {},
   "source": [
    "*Note* After the preliminary data checks above, minor modifications to the data are necessary, including standardizing naming and timestamps. The data may require encoding for certain 'yes/no' indicators.\n",
    "\n",
    "The data provided is sufficient for further analysis."
   ]
  },
  {
   "cell_type": "markdown",
   "metadata": {},
   "source": [
    "### Unique Values\n",
    "\n",
    "Below we check for unique values for future reference"
   ]
  },
  {
   "cell_type": "code",
   "execution_count": 24,
   "metadata": {},
   "outputs": [],
   "source": [
    "def unique(df):\n",
    "    \"\"\" Checks for unique values in each column in a data frame \"\"\"\n",
    "    columns = df.columns.tolist()\n",
    "    for column in columns:\n",
    "        print(f\"{column} unique values : {df[column].unique()}\")"
   ]
  },
  {
   "cell_type": "code",
   "execution_count": 25,
   "metadata": {
    "scrolled": false
   },
   "outputs": [
    {
     "name": "stdout",
     "output_type": "stream",
     "text": [
      "customerID unique values : ['7590-VHVEG' '5575-GNVDE' '3668-QPYBK' ... '4801-JZAZL' '8361-LTMKD'\n",
      " '3186-AJIEK']\n",
      "BeginDate unique values : ['2020-01-01' '2017-04-01' '2019-10-01' '2016-05-01' '2019-09-01'\n",
      " '2019-03-01' '2018-04-01' '2019-04-01' '2017-07-01' '2014-12-01'\n",
      " '2019-01-01' '2018-10-01' '2015-04-01' '2015-09-01' '2018-01-01'\n",
      " '2014-05-01' '2015-10-01' '2014-03-01' '2018-05-01' '2019-11-01'\n",
      " '2019-02-01' '2016-01-01' '2017-08-01' '2015-12-01' '2014-02-01'\n",
      " '2018-06-01' '2019-12-01' '2017-11-01' '2019-06-01' '2016-04-01'\n",
      " '2017-02-01' '2018-12-01' '2014-04-01' '2018-09-01' '2014-11-01'\n",
      " '2016-07-01' '2015-02-01' '2018-07-01' '2014-08-01' '2016-03-01'\n",
      " '2018-08-01' '2014-10-01' '2015-06-01' '2016-08-01' '2019-05-01'\n",
      " '2017-03-01' '2016-02-01' '2017-09-01' '2014-09-01' '2017-12-01'\n",
      " '2016-12-01' '2017-06-01' '2015-05-01' '2016-10-01' '2016-09-01'\n",
      " '2019-08-01' '2019-07-01' '2017-05-01' '2017-10-01' '2014-07-01'\n",
      " '2018-03-01' '2015-01-01' '2018-11-01' '2015-03-01' '2018-02-01'\n",
      " '2016-06-01' '2015-08-01' '2015-11-01' '2014-06-01' '2017-01-01'\n",
      " '2015-07-01' '2020-02-01' '2016-11-01' '2013-11-01' '2014-01-01'\n",
      " '2013-10-01' '2013-12-01']\n",
      "EndDate unique values : ['No' '2019-12-01 00:00:00' '2019-11-01 00:00:00' '2019-10-01 00:00:00'\n",
      " '2020-01-01 00:00:00']\n",
      "Type unique values : ['Month-to-month' 'One year' 'Two year']\n",
      "PaperlessBilling unique values : ['Yes' 'No']\n",
      "PaymentMethod unique values : ['Electronic check' 'Mailed check' 'Bank transfer (automatic)'\n",
      " 'Credit card (automatic)']\n",
      "MonthlyCharges unique values : [29.85 56.95 53.85 ... 63.1  44.2  78.7 ]\n",
      "TotalCharges unique values : ['29.85' '1889.5' '108.15' ... '346.45' '306.6' '6844.5']\n"
     ]
    }
   ],
   "source": [
    "unique(contract)"
   ]
  },
  {
   "cell_type": "code",
   "execution_count": 26,
   "metadata": {
    "scrolled": true
   },
   "outputs": [
    {
     "name": "stdout",
     "output_type": "stream",
     "text": [
      "customerID unique values : ['7590-VHVEG' '5575-GNVDE' '3668-QPYBK' ... '4801-JZAZL' '8361-LTMKD'\n",
      " '3186-AJIEK']\n",
      "gender unique values : ['Female' 'Male']\n",
      "SeniorCitizen unique values : [0 1]\n",
      "Partner unique values : ['Yes' 'No']\n",
      "Dependents unique values : ['No' 'Yes']\n"
     ]
    }
   ],
   "source": [
    "unique(personal)"
   ]
  },
  {
   "cell_type": "code",
   "execution_count": 27,
   "metadata": {},
   "outputs": [
    {
     "name": "stdout",
     "output_type": "stream",
     "text": [
      "customerID unique values : ['7590-VHVEG' '5575-GNVDE' '3668-QPYBK' ... '4801-JZAZL' '8361-LTMKD'\n",
      " '3186-AJIEK']\n",
      "InternetService unique values : ['DSL' 'Fiber optic']\n",
      "OnlineSecurity unique values : ['No' 'Yes']\n",
      "OnlineBackup unique values : ['Yes' 'No']\n",
      "DeviceProtection unique values : ['No' 'Yes']\n",
      "TechSupport unique values : ['No' 'Yes']\n",
      "StreamingTV unique values : ['No' 'Yes']\n",
      "StreamingMovies unique values : ['No' 'Yes']\n"
     ]
    }
   ],
   "source": [
    "unique(internet)"
   ]
  },
  {
   "cell_type": "code",
   "execution_count": 28,
   "metadata": {
    "scrolled": true
   },
   "outputs": [
    {
     "name": "stdout",
     "output_type": "stream",
     "text": [
      "customerID unique values : ['5575-GNVDE' '3668-QPYBK' '9237-HQITU' ... '2234-XADUH' '8361-LTMKD'\n",
      " '3186-AJIEK']\n",
      "MultipleLines unique values : ['No' 'Yes']\n"
     ]
    }
   ],
   "source": [
    "unique(phone)"
   ]
  },
  {
   "cell_type": "markdown",
   "metadata": {},
   "source": [
    "### Data Cleaning\n",
    "\n",
    "Below we standaradize the data: lowercase column names, convert data to the appropriate types. For example, Total Charges needs to be converted to float64."
   ]
  },
  {
   "cell_type": "code",
   "execution_count": 29,
   "metadata": {},
   "outputs": [],
   "source": [
    "# Convert all columns to lowercase\n",
    "\n",
    "contract.columns = contract.columns.str.lower()\n",
    "personal.columns = personal.columns.str.lower()\n",
    "internet.columns = internet.columns.str.lower()\n",
    "phone.columns = phone.columns.str.lower()"
   ]
  },
  {
   "cell_type": "code",
   "execution_count": 30,
   "metadata": {},
   "outputs": [],
   "source": [
    "# Convert 'totalcharges' to float, note that there may now be NaN values in the dataframe\n",
    "\n",
    "contract['totalcharges'] = pd.to_numeric(contract['totalcharges'], errors = 'coerce')"
   ]
  },
  {
   "cell_type": "code",
   "execution_count": 31,
   "metadata": {
    "scrolled": true
   },
   "outputs": [
    {
     "data": {
      "text/plain": [
       "customerid           object\n",
       "begindate            object\n",
       "enddate              object\n",
       "type                 object\n",
       "paperlessbilling     object\n",
       "paymentmethod        object\n",
       "monthlycharges      float64\n",
       "totalcharges        float64\n",
       "dtype: object"
      ]
     },
     "execution_count": 31,
     "metadata": {},
     "output_type": "execute_result"
    }
   ],
   "source": [
    "contract.dtypes"
   ]
  },
  {
   "cell_type": "code",
   "execution_count": 32,
   "metadata": {},
   "outputs": [
    {
     "data": {
      "text/html": [
       "<div>\n",
       "<style scoped>\n",
       "    .dataframe tbody tr th:only-of-type {\n",
       "        vertical-align: middle;\n",
       "    }\n",
       "\n",
       "    .dataframe tbody tr th {\n",
       "        vertical-align: top;\n",
       "    }\n",
       "\n",
       "    .dataframe thead th {\n",
       "        text-align: right;\n",
       "    }\n",
       "</style>\n",
       "<table border=\"1\" class=\"dataframe\">\n",
       "  <thead>\n",
       "    <tr style=\"text-align: right;\">\n",
       "      <th></th>\n",
       "      <th>customerid</th>\n",
       "      <th>begindate</th>\n",
       "      <th>enddate</th>\n",
       "      <th>type</th>\n",
       "      <th>paperlessbilling</th>\n",
       "      <th>paymentmethod</th>\n",
       "      <th>monthlycharges</th>\n",
       "      <th>totalcharges</th>\n",
       "    </tr>\n",
       "  </thead>\n",
       "  <tbody>\n",
       "    <tr>\n",
       "      <th>488</th>\n",
       "      <td>4472-LVYGI</td>\n",
       "      <td>2020-02-01</td>\n",
       "      <td>No</td>\n",
       "      <td>Two year</td>\n",
       "      <td>Yes</td>\n",
       "      <td>Bank transfer (automatic)</td>\n",
       "      <td>52.55</td>\n",
       "      <td>NaN</td>\n",
       "    </tr>\n",
       "    <tr>\n",
       "      <th>753</th>\n",
       "      <td>3115-CZMZD</td>\n",
       "      <td>2020-02-01</td>\n",
       "      <td>No</td>\n",
       "      <td>Two year</td>\n",
       "      <td>No</td>\n",
       "      <td>Mailed check</td>\n",
       "      <td>20.25</td>\n",
       "      <td>NaN</td>\n",
       "    </tr>\n",
       "    <tr>\n",
       "      <th>936</th>\n",
       "      <td>5709-LVOEQ</td>\n",
       "      <td>2020-02-01</td>\n",
       "      <td>No</td>\n",
       "      <td>Two year</td>\n",
       "      <td>No</td>\n",
       "      <td>Mailed check</td>\n",
       "      <td>80.85</td>\n",
       "      <td>NaN</td>\n",
       "    </tr>\n",
       "    <tr>\n",
       "      <th>1082</th>\n",
       "      <td>4367-NUYAO</td>\n",
       "      <td>2020-02-01</td>\n",
       "      <td>No</td>\n",
       "      <td>Two year</td>\n",
       "      <td>No</td>\n",
       "      <td>Mailed check</td>\n",
       "      <td>25.75</td>\n",
       "      <td>NaN</td>\n",
       "    </tr>\n",
       "    <tr>\n",
       "      <th>1340</th>\n",
       "      <td>1371-DWPAZ</td>\n",
       "      <td>2020-02-01</td>\n",
       "      <td>No</td>\n",
       "      <td>Two year</td>\n",
       "      <td>No</td>\n",
       "      <td>Credit card (automatic)</td>\n",
       "      <td>56.05</td>\n",
       "      <td>NaN</td>\n",
       "    </tr>\n",
       "    <tr>\n",
       "      <th>3331</th>\n",
       "      <td>7644-OMVMY</td>\n",
       "      <td>2020-02-01</td>\n",
       "      <td>No</td>\n",
       "      <td>Two year</td>\n",
       "      <td>No</td>\n",
       "      <td>Mailed check</td>\n",
       "      <td>19.85</td>\n",
       "      <td>NaN</td>\n",
       "    </tr>\n",
       "    <tr>\n",
       "      <th>3826</th>\n",
       "      <td>3213-VVOLG</td>\n",
       "      <td>2020-02-01</td>\n",
       "      <td>No</td>\n",
       "      <td>Two year</td>\n",
       "      <td>No</td>\n",
       "      <td>Mailed check</td>\n",
       "      <td>25.35</td>\n",
       "      <td>NaN</td>\n",
       "    </tr>\n",
       "    <tr>\n",
       "      <th>4380</th>\n",
       "      <td>2520-SGTTA</td>\n",
       "      <td>2020-02-01</td>\n",
       "      <td>No</td>\n",
       "      <td>Two year</td>\n",
       "      <td>No</td>\n",
       "      <td>Mailed check</td>\n",
       "      <td>20.00</td>\n",
       "      <td>NaN</td>\n",
       "    </tr>\n",
       "    <tr>\n",
       "      <th>5218</th>\n",
       "      <td>2923-ARZLG</td>\n",
       "      <td>2020-02-01</td>\n",
       "      <td>No</td>\n",
       "      <td>One year</td>\n",
       "      <td>Yes</td>\n",
       "      <td>Mailed check</td>\n",
       "      <td>19.70</td>\n",
       "      <td>NaN</td>\n",
       "    </tr>\n",
       "    <tr>\n",
       "      <th>6670</th>\n",
       "      <td>4075-WKNIU</td>\n",
       "      <td>2020-02-01</td>\n",
       "      <td>No</td>\n",
       "      <td>Two year</td>\n",
       "      <td>No</td>\n",
       "      <td>Mailed check</td>\n",
       "      <td>73.35</td>\n",
       "      <td>NaN</td>\n",
       "    </tr>\n",
       "    <tr>\n",
       "      <th>6754</th>\n",
       "      <td>2775-SEFEE</td>\n",
       "      <td>2020-02-01</td>\n",
       "      <td>No</td>\n",
       "      <td>Two year</td>\n",
       "      <td>Yes</td>\n",
       "      <td>Bank transfer (automatic)</td>\n",
       "      <td>61.90</td>\n",
       "      <td>NaN</td>\n",
       "    </tr>\n",
       "  </tbody>\n",
       "</table>\n",
       "</div>"
      ],
      "text/plain": [
       "      customerid   begindate enddate      type paperlessbilling  \\\n",
       "488   4472-LVYGI  2020-02-01      No  Two year              Yes   \n",
       "753   3115-CZMZD  2020-02-01      No  Two year               No   \n",
       "936   5709-LVOEQ  2020-02-01      No  Two year               No   \n",
       "1082  4367-NUYAO  2020-02-01      No  Two year               No   \n",
       "1340  1371-DWPAZ  2020-02-01      No  Two year               No   \n",
       "3331  7644-OMVMY  2020-02-01      No  Two year               No   \n",
       "3826  3213-VVOLG  2020-02-01      No  Two year               No   \n",
       "4380  2520-SGTTA  2020-02-01      No  Two year               No   \n",
       "5218  2923-ARZLG  2020-02-01      No  One year              Yes   \n",
       "6670  4075-WKNIU  2020-02-01      No  Two year               No   \n",
       "6754  2775-SEFEE  2020-02-01      No  Two year              Yes   \n",
       "\n",
       "                  paymentmethod  monthlycharges  totalcharges  \n",
       "488   Bank transfer (automatic)           52.55           NaN  \n",
       "753                Mailed check           20.25           NaN  \n",
       "936                Mailed check           80.85           NaN  \n",
       "1082               Mailed check           25.75           NaN  \n",
       "1340    Credit card (automatic)           56.05           NaN  \n",
       "3331               Mailed check           19.85           NaN  \n",
       "3826               Mailed check           25.35           NaN  \n",
       "4380               Mailed check           20.00           NaN  \n",
       "5218               Mailed check           19.70           NaN  \n",
       "6670               Mailed check           73.35           NaN  \n",
       "6754  Bank transfer (automatic)           61.90           NaN  "
      ]
     },
     "execution_count": 32,
     "metadata": {},
     "output_type": "execute_result"
    }
   ],
   "source": [
    "nan_check(contract)"
   ]
  },
  {
   "cell_type": "code",
   "execution_count": 33,
   "metadata": {
    "scrolled": false
   },
   "outputs": [
    {
     "name": "stdout",
     "output_type": "stream",
     "text": [
      "11\n"
     ]
    }
   ],
   "source": [
    "nan_count = contract['totalcharges'].isna().sum()\n",
    "print(nan_count)"
   ]
  },
  {
   "cell_type": "markdown",
   "metadata": {},
   "source": [
    "Note the above NaN values can be dropped as they represent a very small portion (0.15%) of the total dataset"
   ]
  },
  {
   "cell_type": "code",
   "execution_count": 34,
   "metadata": {},
   "outputs": [],
   "source": [
    "contract = contract.dropna()"
   ]
  },
  {
   "cell_type": "code",
   "execution_count": 35,
   "metadata": {
    "scrolled": true
   },
   "outputs": [
    {
     "name": "stdout",
     "output_type": "stream",
     "text": [
      "<class 'pandas.core.frame.DataFrame'>\n",
      "Int64Index: 7032 entries, 0 to 7042\n",
      "Data columns (total 8 columns):\n",
      " #   Column            Non-Null Count  Dtype  \n",
      "---  ------            --------------  -----  \n",
      " 0   customerid        7032 non-null   object \n",
      " 1   begindate         7032 non-null   object \n",
      " 2   enddate           7032 non-null   object \n",
      " 3   type              7032 non-null   object \n",
      " 4   paperlessbilling  7032 non-null   object \n",
      " 5   paymentmethod     7032 non-null   object \n",
      " 6   monthlycharges    7032 non-null   float64\n",
      " 7   totalcharges      7032 non-null   float64\n",
      "dtypes: float64(2), object(6)\n",
      "memory usage: 494.4+ KB\n"
     ]
    }
   ],
   "source": [
    "contract.info()"
   ]
  },
  {
   "cell_type": "markdown",
   "metadata": {},
   "source": [
    "Below we will define churn as a customer who does not have an end date"
   ]
  },
  {
   "cell_type": "code",
   "execution_count": 36,
   "metadata": {},
   "outputs": [],
   "source": [
    "# Create a column for churn\n",
    "\n",
    "contract['churn'] = np.where(contract['enddate'] == 'No', 'No', 'Yes')"
   ]
  },
  {
   "cell_type": "code",
   "execution_count": 37,
   "metadata": {},
   "outputs": [
    {
     "data": {
      "text/html": [
       "<div>\n",
       "<style scoped>\n",
       "    .dataframe tbody tr th:only-of-type {\n",
       "        vertical-align: middle;\n",
       "    }\n",
       "\n",
       "    .dataframe tbody tr th {\n",
       "        vertical-align: top;\n",
       "    }\n",
       "\n",
       "    .dataframe thead th {\n",
       "        text-align: right;\n",
       "    }\n",
       "</style>\n",
       "<table border=\"1\" class=\"dataframe\">\n",
       "  <thead>\n",
       "    <tr style=\"text-align: right;\">\n",
       "      <th></th>\n",
       "      <th>customerid</th>\n",
       "      <th>begindate</th>\n",
       "      <th>enddate</th>\n",
       "      <th>type</th>\n",
       "      <th>paperlessbilling</th>\n",
       "      <th>paymentmethod</th>\n",
       "      <th>monthlycharges</th>\n",
       "      <th>totalcharges</th>\n",
       "      <th>churn</th>\n",
       "    </tr>\n",
       "  </thead>\n",
       "  <tbody>\n",
       "    <tr>\n",
       "      <th>0</th>\n",
       "      <td>7590-VHVEG</td>\n",
       "      <td>2020-01-01</td>\n",
       "      <td>No</td>\n",
       "      <td>Month-to-month</td>\n",
       "      <td>Yes</td>\n",
       "      <td>Electronic check</td>\n",
       "      <td>29.85</td>\n",
       "      <td>29.85</td>\n",
       "      <td>No</td>\n",
       "    </tr>\n",
       "    <tr>\n",
       "      <th>1</th>\n",
       "      <td>5575-GNVDE</td>\n",
       "      <td>2017-04-01</td>\n",
       "      <td>No</td>\n",
       "      <td>One year</td>\n",
       "      <td>No</td>\n",
       "      <td>Mailed check</td>\n",
       "      <td>56.95</td>\n",
       "      <td>1889.50</td>\n",
       "      <td>No</td>\n",
       "    </tr>\n",
       "    <tr>\n",
       "      <th>2</th>\n",
       "      <td>3668-QPYBK</td>\n",
       "      <td>2019-10-01</td>\n",
       "      <td>2019-12-01 00:00:00</td>\n",
       "      <td>Month-to-month</td>\n",
       "      <td>Yes</td>\n",
       "      <td>Mailed check</td>\n",
       "      <td>53.85</td>\n",
       "      <td>108.15</td>\n",
       "      <td>Yes</td>\n",
       "    </tr>\n",
       "    <tr>\n",
       "      <th>3</th>\n",
       "      <td>7795-CFOCW</td>\n",
       "      <td>2016-05-01</td>\n",
       "      <td>No</td>\n",
       "      <td>One year</td>\n",
       "      <td>No</td>\n",
       "      <td>Bank transfer (automatic)</td>\n",
       "      <td>42.30</td>\n",
       "      <td>1840.75</td>\n",
       "      <td>No</td>\n",
       "    </tr>\n",
       "    <tr>\n",
       "      <th>4</th>\n",
       "      <td>9237-HQITU</td>\n",
       "      <td>2019-09-01</td>\n",
       "      <td>2019-11-01 00:00:00</td>\n",
       "      <td>Month-to-month</td>\n",
       "      <td>Yes</td>\n",
       "      <td>Electronic check</td>\n",
       "      <td>70.70</td>\n",
       "      <td>151.65</td>\n",
       "      <td>Yes</td>\n",
       "    </tr>\n",
       "  </tbody>\n",
       "</table>\n",
       "</div>"
      ],
      "text/plain": [
       "   customerid   begindate              enddate            type  \\\n",
       "0  7590-VHVEG  2020-01-01                   No  Month-to-month   \n",
       "1  5575-GNVDE  2017-04-01                   No        One year   \n",
       "2  3668-QPYBK  2019-10-01  2019-12-01 00:00:00  Month-to-month   \n",
       "3  7795-CFOCW  2016-05-01                   No        One year   \n",
       "4  9237-HQITU  2019-09-01  2019-11-01 00:00:00  Month-to-month   \n",
       "\n",
       "  paperlessbilling              paymentmethod  monthlycharges  totalcharges  \\\n",
       "0              Yes           Electronic check           29.85         29.85   \n",
       "1               No               Mailed check           56.95       1889.50   \n",
       "2              Yes               Mailed check           53.85        108.15   \n",
       "3               No  Bank transfer (automatic)           42.30       1840.75   \n",
       "4              Yes           Electronic check           70.70        151.65   \n",
       "\n",
       "  churn  \n",
       "0    No  \n",
       "1    No  \n",
       "2   Yes  \n",
       "3    No  \n",
       "4   Yes  "
      ]
     },
     "execution_count": 37,
     "metadata": {},
     "output_type": "execute_result"
    }
   ],
   "source": [
    "contract.head()"
   ]
  },
  {
   "cell_type": "markdown",
   "metadata": {},
   "source": [
    "## Exploratory Data Analysis"
   ]
  },
  {
   "cell_type": "markdown",
   "metadata": {},
   "source": [
    "To perform EDA the data sets must me merged into one singular data set; dates must be converted into date time format."
   ]
  },
  {
   "cell_type": "code",
   "execution_count": 38,
   "metadata": {},
   "outputs": [],
   "source": [
    "# Merge data sets into one data frame using contract as the main df\n",
    "\n",
    "# Merge personal into contract\n",
    "df = pd.merge(contract, personal, on='customerid', how='left')\n",
    "\n",
    "# Merge internet information\n",
    "df = pd.merge(df, internet, on='customerid', how='left')\n",
    "\n",
    "# Merge D into the result\n",
    "df = pd.merge(df, phone, on='customerid', how='left')"
   ]
  },
  {
   "cell_type": "code",
   "execution_count": 39,
   "metadata": {
    "scrolled": false
   },
   "outputs": [
    {
     "data": {
      "text/html": [
       "<div>\n",
       "<style scoped>\n",
       "    .dataframe tbody tr th:only-of-type {\n",
       "        vertical-align: middle;\n",
       "    }\n",
       "\n",
       "    .dataframe tbody tr th {\n",
       "        vertical-align: top;\n",
       "    }\n",
       "\n",
       "    .dataframe thead th {\n",
       "        text-align: right;\n",
       "    }\n",
       "</style>\n",
       "<table border=\"1\" class=\"dataframe\">\n",
       "  <thead>\n",
       "    <tr style=\"text-align: right;\">\n",
       "      <th></th>\n",
       "      <th>customerid</th>\n",
       "      <th>begindate</th>\n",
       "      <th>enddate</th>\n",
       "      <th>type</th>\n",
       "      <th>paperlessbilling</th>\n",
       "      <th>paymentmethod</th>\n",
       "      <th>monthlycharges</th>\n",
       "      <th>totalcharges</th>\n",
       "      <th>churn</th>\n",
       "      <th>gender</th>\n",
       "      <th>...</th>\n",
       "      <th>partner</th>\n",
       "      <th>dependents</th>\n",
       "      <th>internetservice</th>\n",
       "      <th>onlinesecurity</th>\n",
       "      <th>onlinebackup</th>\n",
       "      <th>deviceprotection</th>\n",
       "      <th>techsupport</th>\n",
       "      <th>streamingtv</th>\n",
       "      <th>streamingmovies</th>\n",
       "      <th>multiplelines</th>\n",
       "    </tr>\n",
       "  </thead>\n",
       "  <tbody>\n",
       "    <tr>\n",
       "      <th>0</th>\n",
       "      <td>7590-VHVEG</td>\n",
       "      <td>2020-01-01</td>\n",
       "      <td>No</td>\n",
       "      <td>Month-to-month</td>\n",
       "      <td>Yes</td>\n",
       "      <td>Electronic check</td>\n",
       "      <td>29.85</td>\n",
       "      <td>29.85</td>\n",
       "      <td>No</td>\n",
       "      <td>Female</td>\n",
       "      <td>...</td>\n",
       "      <td>Yes</td>\n",
       "      <td>No</td>\n",
       "      <td>DSL</td>\n",
       "      <td>No</td>\n",
       "      <td>Yes</td>\n",
       "      <td>No</td>\n",
       "      <td>No</td>\n",
       "      <td>No</td>\n",
       "      <td>No</td>\n",
       "      <td>NaN</td>\n",
       "    </tr>\n",
       "    <tr>\n",
       "      <th>1</th>\n",
       "      <td>5575-GNVDE</td>\n",
       "      <td>2017-04-01</td>\n",
       "      <td>No</td>\n",
       "      <td>One year</td>\n",
       "      <td>No</td>\n",
       "      <td>Mailed check</td>\n",
       "      <td>56.95</td>\n",
       "      <td>1889.50</td>\n",
       "      <td>No</td>\n",
       "      <td>Male</td>\n",
       "      <td>...</td>\n",
       "      <td>No</td>\n",
       "      <td>No</td>\n",
       "      <td>DSL</td>\n",
       "      <td>Yes</td>\n",
       "      <td>No</td>\n",
       "      <td>Yes</td>\n",
       "      <td>No</td>\n",
       "      <td>No</td>\n",
       "      <td>No</td>\n",
       "      <td>No</td>\n",
       "    </tr>\n",
       "    <tr>\n",
       "      <th>2</th>\n",
       "      <td>3668-QPYBK</td>\n",
       "      <td>2019-10-01</td>\n",
       "      <td>2019-12-01 00:00:00</td>\n",
       "      <td>Month-to-month</td>\n",
       "      <td>Yes</td>\n",
       "      <td>Mailed check</td>\n",
       "      <td>53.85</td>\n",
       "      <td>108.15</td>\n",
       "      <td>Yes</td>\n",
       "      <td>Male</td>\n",
       "      <td>...</td>\n",
       "      <td>No</td>\n",
       "      <td>No</td>\n",
       "      <td>DSL</td>\n",
       "      <td>Yes</td>\n",
       "      <td>Yes</td>\n",
       "      <td>No</td>\n",
       "      <td>No</td>\n",
       "      <td>No</td>\n",
       "      <td>No</td>\n",
       "      <td>No</td>\n",
       "    </tr>\n",
       "    <tr>\n",
       "      <th>3</th>\n",
       "      <td>7795-CFOCW</td>\n",
       "      <td>2016-05-01</td>\n",
       "      <td>No</td>\n",
       "      <td>One year</td>\n",
       "      <td>No</td>\n",
       "      <td>Bank transfer (automatic)</td>\n",
       "      <td>42.30</td>\n",
       "      <td>1840.75</td>\n",
       "      <td>No</td>\n",
       "      <td>Male</td>\n",
       "      <td>...</td>\n",
       "      <td>No</td>\n",
       "      <td>No</td>\n",
       "      <td>DSL</td>\n",
       "      <td>Yes</td>\n",
       "      <td>No</td>\n",
       "      <td>Yes</td>\n",
       "      <td>Yes</td>\n",
       "      <td>No</td>\n",
       "      <td>No</td>\n",
       "      <td>NaN</td>\n",
       "    </tr>\n",
       "    <tr>\n",
       "      <th>4</th>\n",
       "      <td>9237-HQITU</td>\n",
       "      <td>2019-09-01</td>\n",
       "      <td>2019-11-01 00:00:00</td>\n",
       "      <td>Month-to-month</td>\n",
       "      <td>Yes</td>\n",
       "      <td>Electronic check</td>\n",
       "      <td>70.70</td>\n",
       "      <td>151.65</td>\n",
       "      <td>Yes</td>\n",
       "      <td>Female</td>\n",
       "      <td>...</td>\n",
       "      <td>No</td>\n",
       "      <td>No</td>\n",
       "      <td>Fiber optic</td>\n",
       "      <td>No</td>\n",
       "      <td>No</td>\n",
       "      <td>No</td>\n",
       "      <td>No</td>\n",
       "      <td>No</td>\n",
       "      <td>No</td>\n",
       "      <td>No</td>\n",
       "    </tr>\n",
       "  </tbody>\n",
       "</table>\n",
       "<p>5 rows × 21 columns</p>\n",
       "</div>"
      ],
      "text/plain": [
       "   customerid   begindate              enddate            type  \\\n",
       "0  7590-VHVEG  2020-01-01                   No  Month-to-month   \n",
       "1  5575-GNVDE  2017-04-01                   No        One year   \n",
       "2  3668-QPYBK  2019-10-01  2019-12-01 00:00:00  Month-to-month   \n",
       "3  7795-CFOCW  2016-05-01                   No        One year   \n",
       "4  9237-HQITU  2019-09-01  2019-11-01 00:00:00  Month-to-month   \n",
       "\n",
       "  paperlessbilling              paymentmethod  monthlycharges  totalcharges  \\\n",
       "0              Yes           Electronic check           29.85         29.85   \n",
       "1               No               Mailed check           56.95       1889.50   \n",
       "2              Yes               Mailed check           53.85        108.15   \n",
       "3               No  Bank transfer (automatic)           42.30       1840.75   \n",
       "4              Yes           Electronic check           70.70        151.65   \n",
       "\n",
       "  churn  gender  ...  partner dependents internetservice onlinesecurity  \\\n",
       "0    No  Female  ...      Yes         No             DSL             No   \n",
       "1    No    Male  ...       No         No             DSL            Yes   \n",
       "2   Yes    Male  ...       No         No             DSL            Yes   \n",
       "3    No    Male  ...       No         No             DSL            Yes   \n",
       "4   Yes  Female  ...       No         No     Fiber optic             No   \n",
       "\n",
       "  onlinebackup deviceprotection techsupport streamingtv streamingmovies  \\\n",
       "0          Yes               No          No          No              No   \n",
       "1           No              Yes          No          No              No   \n",
       "2          Yes               No          No          No              No   \n",
       "3           No              Yes         Yes          No              No   \n",
       "4           No               No          No          No              No   \n",
       "\n",
       "  multiplelines  \n",
       "0           NaN  \n",
       "1            No  \n",
       "2            No  \n",
       "3           NaN  \n",
       "4            No  \n",
       "\n",
       "[5 rows x 21 columns]"
      ]
     },
     "execution_count": 39,
     "metadata": {},
     "output_type": "execute_result"
    }
   ],
   "source": [
    "df.head()"
   ]
  },
  {
   "cell_type": "code",
   "execution_count": 40,
   "metadata": {
    "scrolled": true
   },
   "outputs": [
    {
     "name": "stdout",
     "output_type": "stream",
     "text": [
      "<class 'pandas.core.frame.DataFrame'>\n",
      "Int64Index: 7032 entries, 0 to 7031\n",
      "Data columns (total 21 columns):\n",
      " #   Column            Non-Null Count  Dtype  \n",
      "---  ------            --------------  -----  \n",
      " 0   customerid        7032 non-null   object \n",
      " 1   begindate         7032 non-null   object \n",
      " 2   enddate           7032 non-null   object \n",
      " 3   type              7032 non-null   object \n",
      " 4   paperlessbilling  7032 non-null   object \n",
      " 5   paymentmethod     7032 non-null   object \n",
      " 6   monthlycharges    7032 non-null   float64\n",
      " 7   totalcharges      7032 non-null   float64\n",
      " 8   churn             7032 non-null   object \n",
      " 9   gender            7032 non-null   object \n",
      " 10  seniorcitizen     7032 non-null   int64  \n",
      " 11  partner           7032 non-null   object \n",
      " 12  dependents        7032 non-null   object \n",
      " 13  internetservice   5512 non-null   object \n",
      " 14  onlinesecurity    5512 non-null   object \n",
      " 15  onlinebackup      5512 non-null   object \n",
      " 16  deviceprotection  5512 non-null   object \n",
      " 17  techsupport       5512 non-null   object \n",
      " 18  streamingtv       5512 non-null   object \n",
      " 19  streamingmovies   5512 non-null   object \n",
      " 20  multiplelines     6352 non-null   object \n",
      "dtypes: float64(2), int64(1), object(18)\n",
      "memory usage: 1.2+ MB\n"
     ]
    }
   ],
   "source": [
    "df.info()"
   ]
  },
  {
   "cell_type": "code",
   "execution_count": 41,
   "metadata": {},
   "outputs": [],
   "source": [
    "df = df.fillna(\"No\")"
   ]
  },
  {
   "cell_type": "code",
   "execution_count": 42,
   "metadata": {
    "scrolled": true
   },
   "outputs": [
    {
     "name": "stdout",
     "output_type": "stream",
     "text": [
      "<class 'pandas.core.frame.DataFrame'>\n",
      "Int64Index: 7032 entries, 0 to 7031\n",
      "Data columns (total 21 columns):\n",
      " #   Column            Non-Null Count  Dtype  \n",
      "---  ------            --------------  -----  \n",
      " 0   customerid        7032 non-null   object \n",
      " 1   begindate         7032 non-null   object \n",
      " 2   enddate           7032 non-null   object \n",
      " 3   type              7032 non-null   object \n",
      " 4   paperlessbilling  7032 non-null   object \n",
      " 5   paymentmethod     7032 non-null   object \n",
      " 6   monthlycharges    7032 non-null   float64\n",
      " 7   totalcharges      7032 non-null   float64\n",
      " 8   churn             7032 non-null   object \n",
      " 9   gender            7032 non-null   object \n",
      " 10  seniorcitizen     7032 non-null   int64  \n",
      " 11  partner           7032 non-null   object \n",
      " 12  dependents        7032 non-null   object \n",
      " 13  internetservice   7032 non-null   object \n",
      " 14  onlinesecurity    7032 non-null   object \n",
      " 15  onlinebackup      7032 non-null   object \n",
      " 16  deviceprotection  7032 non-null   object \n",
      " 17  techsupport       7032 non-null   object \n",
      " 18  streamingtv       7032 non-null   object \n",
      " 19  streamingmovies   7032 non-null   object \n",
      " 20  multiplelines     7032 non-null   object \n",
      "dtypes: float64(2), int64(1), object(18)\n",
      "memory usage: 1.2+ MB\n"
     ]
    }
   ],
   "source": [
    "df.info()"
   ]
  },
  {
   "cell_type": "code",
   "execution_count": 43,
   "metadata": {},
   "outputs": [],
   "source": [
    "# Date time function to convert dates to date time for analysis\n",
    "\n",
    "df['begindate'] = pd.to_datetime(df['begindate'], format='%Y-%m-%d')\n",
    "df['enddate'] = pd.to_datetime(df['enddate'], errors='coerce', format='%Y-%m-%d')"
   ]
  },
  {
   "cell_type": "code",
   "execution_count": 44,
   "metadata": {
    "scrolled": true
   },
   "outputs": [
    {
     "name": "stdout",
     "output_type": "stream",
     "text": [
      "<class 'pandas.core.frame.DataFrame'>\n",
      "Int64Index: 7032 entries, 0 to 7031\n",
      "Data columns (total 21 columns):\n",
      " #   Column            Non-Null Count  Dtype         \n",
      "---  ------            --------------  -----         \n",
      " 0   customerid        7032 non-null   object        \n",
      " 1   begindate         7032 non-null   datetime64[ns]\n",
      " 2   enddate           1869 non-null   datetime64[ns]\n",
      " 3   type              7032 non-null   object        \n",
      " 4   paperlessbilling  7032 non-null   object        \n",
      " 5   paymentmethod     7032 non-null   object        \n",
      " 6   monthlycharges    7032 non-null   float64       \n",
      " 7   totalcharges      7032 non-null   float64       \n",
      " 8   churn             7032 non-null   object        \n",
      " 9   gender            7032 non-null   object        \n",
      " 10  seniorcitizen     7032 non-null   int64         \n",
      " 11  partner           7032 non-null   object        \n",
      " 12  dependents        7032 non-null   object        \n",
      " 13  internetservice   7032 non-null   object        \n",
      " 14  onlinesecurity    7032 non-null   object        \n",
      " 15  onlinebackup      7032 non-null   object        \n",
      " 16  deviceprotection  7032 non-null   object        \n",
      " 17  techsupport       7032 non-null   object        \n",
      " 18  streamingtv       7032 non-null   object        \n",
      " 19  streamingmovies   7032 non-null   object        \n",
      " 20  multiplelines     7032 non-null   object        \n",
      "dtypes: datetime64[ns](2), float64(2), int64(1), object(16)\n",
      "memory usage: 1.2+ MB\n"
     ]
    }
   ],
   "source": [
    "df.info()"
   ]
  },
  {
   "cell_type": "code",
   "execution_count": 45,
   "metadata": {},
   "outputs": [
    {
     "name": "stdout",
     "output_type": "stream",
     "text": [
      "customerid unique values : ['7590-VHVEG' '5575-GNVDE' '3668-QPYBK' ... '4801-JZAZL' '8361-LTMKD'\n",
      " '3186-AJIEK']\n",
      "begindate unique values : ['2020-01-01T00:00:00.000000000' '2017-04-01T00:00:00.000000000'\n",
      " '2019-10-01T00:00:00.000000000' '2016-05-01T00:00:00.000000000'\n",
      " '2019-09-01T00:00:00.000000000' '2019-03-01T00:00:00.000000000'\n",
      " '2018-04-01T00:00:00.000000000' '2019-04-01T00:00:00.000000000'\n",
      " '2017-07-01T00:00:00.000000000' '2014-12-01T00:00:00.000000000'\n",
      " '2019-01-01T00:00:00.000000000' '2018-10-01T00:00:00.000000000'\n",
      " '2015-04-01T00:00:00.000000000' '2015-09-01T00:00:00.000000000'\n",
      " '2018-01-01T00:00:00.000000000' '2014-05-01T00:00:00.000000000'\n",
      " '2015-10-01T00:00:00.000000000' '2014-03-01T00:00:00.000000000'\n",
      " '2018-05-01T00:00:00.000000000' '2019-11-01T00:00:00.000000000'\n",
      " '2019-02-01T00:00:00.000000000' '2016-01-01T00:00:00.000000000'\n",
      " '2017-08-01T00:00:00.000000000' '2015-12-01T00:00:00.000000000'\n",
      " '2014-02-01T00:00:00.000000000' '2018-06-01T00:00:00.000000000'\n",
      " '2019-12-01T00:00:00.000000000' '2017-11-01T00:00:00.000000000'\n",
      " '2019-06-01T00:00:00.000000000' '2016-04-01T00:00:00.000000000'\n",
      " '2017-02-01T00:00:00.000000000' '2018-12-01T00:00:00.000000000'\n",
      " '2014-04-01T00:00:00.000000000' '2018-09-01T00:00:00.000000000'\n",
      " '2014-11-01T00:00:00.000000000' '2016-07-01T00:00:00.000000000'\n",
      " '2015-02-01T00:00:00.000000000' '2018-07-01T00:00:00.000000000'\n",
      " '2014-08-01T00:00:00.000000000' '2016-03-01T00:00:00.000000000'\n",
      " '2018-08-01T00:00:00.000000000' '2014-10-01T00:00:00.000000000'\n",
      " '2015-06-01T00:00:00.000000000' '2016-08-01T00:00:00.000000000'\n",
      " '2019-05-01T00:00:00.000000000' '2017-03-01T00:00:00.000000000'\n",
      " '2016-02-01T00:00:00.000000000' '2017-09-01T00:00:00.000000000'\n",
      " '2014-09-01T00:00:00.000000000' '2017-12-01T00:00:00.000000000'\n",
      " '2016-12-01T00:00:00.000000000' '2017-06-01T00:00:00.000000000'\n",
      " '2015-05-01T00:00:00.000000000' '2016-10-01T00:00:00.000000000'\n",
      " '2016-09-01T00:00:00.000000000' '2019-08-01T00:00:00.000000000'\n",
      " '2019-07-01T00:00:00.000000000' '2017-05-01T00:00:00.000000000'\n",
      " '2017-10-01T00:00:00.000000000' '2014-07-01T00:00:00.000000000'\n",
      " '2018-03-01T00:00:00.000000000' '2015-01-01T00:00:00.000000000'\n",
      " '2018-11-01T00:00:00.000000000' '2015-03-01T00:00:00.000000000'\n",
      " '2018-02-01T00:00:00.000000000' '2016-06-01T00:00:00.000000000'\n",
      " '2015-08-01T00:00:00.000000000' '2015-11-01T00:00:00.000000000'\n",
      " '2014-06-01T00:00:00.000000000' '2017-01-01T00:00:00.000000000'\n",
      " '2015-07-01T00:00:00.000000000' '2016-11-01T00:00:00.000000000'\n",
      " '2013-11-01T00:00:00.000000000' '2014-01-01T00:00:00.000000000'\n",
      " '2013-10-01T00:00:00.000000000' '2013-12-01T00:00:00.000000000']\n",
      "enddate unique values : [                          'NaT' '2019-12-01T00:00:00.000000000'\n",
      " '2019-11-01T00:00:00.000000000' '2019-10-01T00:00:00.000000000'\n",
      " '2020-01-01T00:00:00.000000000']\n",
      "type unique values : ['Month-to-month' 'One year' 'Two year']\n",
      "paperlessbilling unique values : ['Yes' 'No']\n",
      "paymentmethod unique values : ['Electronic check' 'Mailed check' 'Bank transfer (automatic)'\n",
      " 'Credit card (automatic)']\n",
      "monthlycharges unique values : [29.85 56.95 53.85 ... 63.1  44.2  78.7 ]\n",
      "totalcharges unique values : [  29.85 1889.5   108.15 ...  346.45  306.6  6844.5 ]\n",
      "churn unique values : ['No' 'Yes']\n",
      "gender unique values : ['Female' 'Male']\n",
      "seniorcitizen unique values : [0 1]\n",
      "partner unique values : ['Yes' 'No']\n",
      "dependents unique values : ['No' 'Yes']\n",
      "internetservice unique values : ['DSL' 'Fiber optic' 'No']\n",
      "onlinesecurity unique values : ['No' 'Yes']\n",
      "onlinebackup unique values : ['Yes' 'No']\n",
      "deviceprotection unique values : ['No' 'Yes']\n",
      "techsupport unique values : ['No' 'Yes']\n",
      "streamingtv unique values : ['No' 'Yes']\n",
      "streamingmovies unique values : ['No' 'Yes']\n",
      "multiplelines unique values : ['No' 'Yes']\n"
     ]
    }
   ],
   "source": [
    "unique(df)"
   ]
  },
  {
   "cell_type": "markdown",
   "metadata": {},
   "source": [
    "#### EDA Data Dive - Churn in the General Population"
   ]
  },
  {
   "cell_type": "code",
   "execution_count": 46,
   "metadata": {
    "scrolled": true
   },
   "outputs": [
    {
     "data": {
      "text/html": [
       "<div>\n",
       "<style scoped>\n",
       "    .dataframe tbody tr th:only-of-type {\n",
       "        vertical-align: middle;\n",
       "    }\n",
       "\n",
       "    .dataframe tbody tr th {\n",
       "        vertical-align: top;\n",
       "    }\n",
       "\n",
       "    .dataframe thead th {\n",
       "        text-align: right;\n",
       "    }\n",
       "</style>\n",
       "<table border=\"1\" class=\"dataframe\">\n",
       "  <thead>\n",
       "    <tr style=\"text-align: right;\">\n",
       "      <th></th>\n",
       "      <th>monthlycharges</th>\n",
       "      <th>totalcharges</th>\n",
       "      <th>seniorcitizen</th>\n",
       "    </tr>\n",
       "  </thead>\n",
       "  <tbody>\n",
       "    <tr>\n",
       "      <th>count</th>\n",
       "      <td>7032.000000</td>\n",
       "      <td>7032.000000</td>\n",
       "      <td>7032.000000</td>\n",
       "    </tr>\n",
       "    <tr>\n",
       "      <th>mean</th>\n",
       "      <td>64.798208</td>\n",
       "      <td>2283.300441</td>\n",
       "      <td>0.162400</td>\n",
       "    </tr>\n",
       "    <tr>\n",
       "      <th>std</th>\n",
       "      <td>30.085974</td>\n",
       "      <td>2266.771362</td>\n",
       "      <td>0.368844</td>\n",
       "    </tr>\n",
       "    <tr>\n",
       "      <th>min</th>\n",
       "      <td>18.250000</td>\n",
       "      <td>18.800000</td>\n",
       "      <td>0.000000</td>\n",
       "    </tr>\n",
       "    <tr>\n",
       "      <th>25%</th>\n",
       "      <td>35.587500</td>\n",
       "      <td>401.450000</td>\n",
       "      <td>0.000000</td>\n",
       "    </tr>\n",
       "    <tr>\n",
       "      <th>50%</th>\n",
       "      <td>70.350000</td>\n",
       "      <td>1397.475000</td>\n",
       "      <td>0.000000</td>\n",
       "    </tr>\n",
       "    <tr>\n",
       "      <th>75%</th>\n",
       "      <td>89.862500</td>\n",
       "      <td>3794.737500</td>\n",
       "      <td>0.000000</td>\n",
       "    </tr>\n",
       "    <tr>\n",
       "      <th>max</th>\n",
       "      <td>118.750000</td>\n",
       "      <td>8684.800000</td>\n",
       "      <td>1.000000</td>\n",
       "    </tr>\n",
       "  </tbody>\n",
       "</table>\n",
       "</div>"
      ],
      "text/plain": [
       "       monthlycharges  totalcharges  seniorcitizen\n",
       "count     7032.000000   7032.000000    7032.000000\n",
       "mean        64.798208   2283.300441       0.162400\n",
       "std         30.085974   2266.771362       0.368844\n",
       "min         18.250000     18.800000       0.000000\n",
       "25%         35.587500    401.450000       0.000000\n",
       "50%         70.350000   1397.475000       0.000000\n",
       "75%         89.862500   3794.737500       0.000000\n",
       "max        118.750000   8684.800000       1.000000"
      ]
     },
     "execution_count": 46,
     "metadata": {},
     "output_type": "execute_result"
    }
   ],
   "source": [
    "df.describe()"
   ]
  },
  {
   "cell_type": "markdown",
   "metadata": {},
   "source": [
    "Note: The data show average monthly charges of 64.79, ranging from 18.25 - 118.75, and average total charges of 2283.30 for customers in the dataset. \n",
    "- Additionally senior citizen should be encoded, though it is apparent that most customers are not senior citizens."
   ]
  },
  {
   "cell_type": "code",
   "execution_count": 47,
   "metadata": {
    "scrolled": false
   },
   "outputs": [
    {
     "data": {
      "image/png": "[encoded data removed]",
      "text/plain": [
       "<Figure size 300x400 with 1 Axes>"
      ]
     },
     "metadata": {},
     "output_type": "display_data"
    }
   ],
   "source": [
    "plt.figure(figsize=(3,4))\n",
    "ax = sns.countplot(x = df[\"churn\"])\n",
    "plt.show()"
   ]
  },
  {
   "cell_type": "code",
   "execution_count": 48,
   "metadata": {},
   "outputs": [],
   "source": [
    "churn_counts = df['churn'].value_counts()"
   ]
  },
  {
   "cell_type": "code",
   "execution_count": 49,
   "metadata": {
    "scrolled": true
   },
   "outputs": [
    {
     "name": "stdout",
     "output_type": "stream",
     "text": [
      "No     5163\n",
      "Yes    1869\n",
      "Name: churn, dtype: int64\n"
     ]
    }
   ],
   "source": [
    "print(churn_counts)"
   ]
  },
  {
   "cell_type": "markdown",
   "metadata": {},
   "source": [
    "As of 2020-02-01, 1869 or 26% of customers have churned."
   ]
  },
  {
   "cell_type": "markdown",
   "metadata": {},
   "source": [
    "### Household Demographics and Churn"
   ]
  },
  {
   "cell_type": "code",
   "execution_count": 50,
   "metadata": {
    "scrolled": true
   },
   "outputs": [
    {
     "data": {
      "image/png": "[encoded data removed]",
      "text/plain": [
       "<Figure size 300x400 with 1 Axes>"
      ]
     },
     "metadata": {},
     "output_type": "display_data"
    }
   ],
   "source": [
    "plt.figure(figsize=(3, 4))\n",
    "sns.countplot(data=df, x='partner', hue='churn')\n",
    "plt.title('Count of Customers by Partner and Churn')\n",
    "plt.xlabel('Partner')\n",
    "plt.ylabel('Count of Customers')\n",
    "plt.legend(title='Churn')\n",
    "plt.show()"
   ]
  },
  {
   "cell_type": "markdown",
   "metadata": {},
   "source": [
    "Note: Households with partners tend to have lower churn (blue)"
   ]
  },
  {
   "cell_type": "code",
   "execution_count": 51,
   "metadata": {
    "scrolled": false
   },
   "outputs": [
    {
     "data": {
      "image/png": "[encoded data removed]",
      "text/plain": [
       "<Figure size 300x400 with 1 Axes>"
      ]
     },
     "metadata": {},
     "output_type": "display_data"
    }
   ],
   "source": [
    "plt.figure(figsize=(3, 4))\n",
    "sns.countplot(data=df, x='dependents', hue='churn')\n",
    "plt.title('Count of Customers by Dependents and Churn')\n",
    "plt.xlabel('Dependents')\n",
    "plt.ylabel('Count of Customers')\n",
    "plt.legend(title='Churn')\n",
    "plt.show()"
   ]
  },
  {
   "cell_type": "markdown",
   "metadata": {},
   "source": [
    "Note: Households with dependents tend to have lower churn (blue)"
   ]
  },
  {
   "cell_type": "markdown",
   "metadata": {},
   "source": [
    "### Service Offerings and Churn\n",
    "\n",
    "- The following visualizes the relationships between service offerings and churn\n",
    "- Services include: Internet Service, Online Security, Online Backup, Device Protection, Streaming TV, Streaming Movies, and Multiple Lines(Phone Service)"
   ]
  },
  {
   "cell_type": "code",
   "execution_count": 52,
   "metadata": {},
   "outputs": [
    {
     "data": {
      "image/png": "[encoded data removed]",
      "text/plain": [
       "<Figure size 300x400 with 1 Axes>"
      ]
     },
     "metadata": {},
     "output_type": "display_data"
    }
   ],
   "source": [
    "plt.figure(figsize=(3, 4))\n",
    "sns.countplot(data=df, x='internetservice', hue='churn')\n",
    "plt.title('Count of Customers by Internet Service and Churn')\n",
    "plt.xlabel('Internet Service')\n",
    "plt.ylabel('Count of Customers')\n",
    "plt.legend(title='Churn')\n",
    "plt.show()"
   ]
  },
  {
   "cell_type": "code",
   "execution_count": 53,
   "metadata": {},
   "outputs": [
    {
     "data": {
      "image/png": "[encoded data removed]",
      "text/plain": [
       "<Figure size 300x400 with 1 Axes>"
      ]
     },
     "metadata": {},
     "output_type": "display_data"
    }
   ],
   "source": [
    "plt.figure(figsize=(3, 4))\n",
    "sns.countplot(data=df, x='onlinesecurity', hue='churn')\n",
    "plt.title('Count of Customers by Online Security and Churn')\n",
    "plt.xlabel('Online Security')\n",
    "plt.ylabel('Count of Customers')\n",
    "plt.legend(title='Churn')\n",
    "plt.show()"
   ]
  },
  {
   "cell_type": "code",
   "execution_count": 54,
   "metadata": {},
   "outputs": [
    {
     "data": {
      "image/png": "[encoded data removed]",
      "text/plain": [
       "<Figure size 300x400 with 1 Axes>"
      ]
     },
     "metadata": {},
     "output_type": "display_data"
    }
   ],
   "source": [
    "plt.figure(figsize=(3, 4))\n",
    "sns.countplot(data=df, x='onlinebackup', hue='churn')\n",
    "plt.title('Count of Customers by Online Backup and Churn')\n",
    "plt.xlabel('Online Backup')\n",
    "plt.ylabel('Count of Customers')\n",
    "plt.legend(title='Churn')\n",
    "plt.show()"
   ]
  },
  {
   "cell_type": "code",
   "execution_count": 55,
   "metadata": {},
   "outputs": [
    {
     "data": {
      "image/png": "[encoded data removed]",
      "text/plain": [
       "<Figure size 300x400 with 1 Axes>"
      ]
     },
     "metadata": {},
     "output_type": "display_data"
    }
   ],
   "source": [
    "plt.figure(figsize=(3, 4))\n",
    "sns.countplot(data=df, x='deviceprotection', hue='churn')\n",
    "plt.title('Count of Customers by Device Protection and Churn')\n",
    "plt.xlabel('Device Protection')\n",
    "plt.ylabel('Count of Customers')\n",
    "plt.legend(title='Churn')\n",
    "plt.show()"
   ]
  },
  {
   "cell_type": "code",
   "execution_count": 56,
   "metadata": {},
   "outputs": [
    {
     "data": {
      "image/png": "[encoded data removed]",
      "text/plain": [
       "<Figure size 300x400 with 1 Axes>"
      ]
     },
     "metadata": {},
     "output_type": "display_data"
    }
   ],
   "source": [
    "plt.figure(figsize=(3, 4))\n",
    "sns.countplot(data=df, x='streamingtv', hue='churn')\n",
    "plt.title('Count of Customers by Streaming TV and Churn')\n",
    "plt.xlabel('Streaming TV')\n",
    "plt.ylabel('Count of Customers')\n",
    "plt.legend(title='Churn')\n",
    "plt.show()"
   ]
  },
  {
   "cell_type": "code",
   "execution_count": 57,
   "metadata": {},
   "outputs": [
    {
     "data": {
      "image/png": "[encoded data removed]",
      "text/plain": [
       "<Figure size 300x400 with 1 Axes>"
      ]
     },
     "metadata": {},
     "output_type": "display_data"
    }
   ],
   "source": [
    "plt.figure(figsize=(3, 4))\n",
    "sns.countplot(data=df, x='streamingmovies', hue='churn')\n",
    "plt.title('Count of Customers by Streaming Movies and Churn')\n",
    "plt.xlabel('Streaming Movies')\n",
    "plt.ylabel('Count of Customers')\n",
    "plt.legend(title='Churn')\n",
    "plt.show()"
   ]
  },
  {
   "cell_type": "code",
   "execution_count": 58,
   "metadata": {},
   "outputs": [
    {
     "data": {
      "image/png": "[encoded data removed]",
      "text/plain": [
       "<Figure size 300x400 with 1 Axes>"
      ]
     },
     "metadata": {},
     "output_type": "display_data"
    }
   ],
   "source": [
    "plt.figure(figsize=(3, 4))\n",
    "sns.countplot(data=df, x='multiplelines', hue='churn')\n",
    "plt.title('Count of Customers by Multiple Lines and Churn')\n",
    "plt.xlabel('Multiple Lines')\n",
    "plt.ylabel('Count of Customers')\n",
    "plt.legend(title='Churn')\n",
    "plt.show()"
   ]
  },
  {
   "cell_type": "markdown",
   "metadata": {},
   "source": [
    "Further analysis is needed to determine which services correlate with lower churn overall."
   ]
  },
  {
   "cell_type": "markdown",
   "metadata": {},
   "source": [
    "### Customer Payment and Churn"
   ]
  },
  {
   "cell_type": "code",
   "execution_count": 59,
   "metadata": {},
   "outputs": [
    {
     "data": {
      "image/png": "[encoded data removed]",
      "text/plain": [
       "<Figure size 600x400 with 1 Axes>"
      ]
     },
     "metadata": {},
     "output_type": "display_data"
    }
   ],
   "source": [
    "plt.figure(figsize=(6, 4))\n",
    "sns.countplot(data=df, x='type', hue='churn')\n",
    "plt.title('Count of Customers by Type of Contract and Churn')\n",
    "plt.xlabel('Type of Contract')\n",
    "plt.ylabel('Count of Customers')\n",
    "plt.legend(title='Churn')\n",
    "plt.show()"
   ]
  },
  {
   "cell_type": "code",
   "execution_count": 60,
   "metadata": {},
   "outputs": [
    {
     "data": {
      "image/png": "[encoded data removed]",
      "text/plain": [
       "<Figure size 300x400 with 1 Axes>"
      ]
     },
     "metadata": {},
     "output_type": "display_data"
    }
   ],
   "source": [
    "plt.figure(figsize=(3, 4))\n",
    "sns.countplot(data=df, x='paperlessbilling', hue='churn')\n",
    "plt.title('Count of Customers by Type of Billing and Churn')\n",
    "plt.xlabel('Paperless')\n",
    "plt.ylabel('Count of Customers')\n",
    "plt.legend(title='Churn')\n",
    "plt.show()"
   ]
  },
  {
   "cell_type": "code",
   "execution_count": 61,
   "metadata": {},
   "outputs": [
    {
     "data": {
      "image/png": "[encoded data removed]",
      "text/plain": [
       "<Figure size 1000x400 with 1 Axes>"
      ]
     },
     "metadata": {},
     "output_type": "display_data"
    }
   ],
   "source": [
    "plt.figure(figsize=(10, 4))\n",
    "sns.countplot(data=df, x='paymentmethod', hue='churn')\n",
    "plt.title('Count of Customers by Payment Method and Churn')\n",
    "plt.xlabel('Payment Method')\n",
    "plt.ylabel('Count of Customers')\n",
    "plt.legend(title='Churn')\n",
    "plt.show()"
   ]
  },
  {
   "cell_type": "markdown",
   "metadata": {},
   "source": [
    "Further analysis is needed to determine which customer account profiles correlate with lower churn overall."
   ]
  },
  {
   "cell_type": "markdown",
   "metadata": {},
   "source": [
    "## Feature Engineering"
   ]
  },
  {
   "cell_type": "markdown",
   "metadata": {},
   "source": [
    "In addition to the above features, a 'contract length' feature can be derived, showing customer loyalty"
   ]
  },
  {
   "cell_type": "code",
   "execution_count": 62,
   "metadata": {},
   "outputs": [],
   "source": [
    "# Define contract valid date in date time\n",
    "\n",
    "contract_valid_date = pd.to_datetime('2020-02-01 00:00:00')"
   ]
  },
  {
   "cell_type": "code",
   "execution_count": 63,
   "metadata": {},
   "outputs": [],
   "source": [
    "# Create contract length feature\n",
    "\n",
    "df['contract_length'] = np.where(\n",
    "    df['enddate'].isna(), \n",
    "    (contract_valid_date - df['begindate']).dt.days, \n",
    "    (df['enddate'] - df['begindate']).dt.days\n",
    ")"
   ]
  },
  {
   "cell_type": "code",
   "execution_count": 64,
   "metadata": {
    "scrolled": true
   },
   "outputs": [
    {
     "data": {
      "text/html": [
       "<div>\n",
       "<style scoped>\n",
       "    .dataframe tbody tr th:only-of-type {\n",
       "        vertical-align: middle;\n",
       "    }\n",
       "\n",
       "    .dataframe tbody tr th {\n",
       "        vertical-align: top;\n",
       "    }\n",
       "\n",
       "    .dataframe thead th {\n",
       "        text-align: right;\n",
       "    }\n",
       "</style>\n",
       "<table border=\"1\" class=\"dataframe\">\n",
       "  <thead>\n",
       "    <tr style=\"text-align: right;\">\n",
       "      <th></th>\n",
       "      <th>customerid</th>\n",
       "      <th>begindate</th>\n",
       "      <th>enddate</th>\n",
       "      <th>type</th>\n",
       "      <th>paperlessbilling</th>\n",
       "      <th>paymentmethod</th>\n",
       "      <th>monthlycharges</th>\n",
       "      <th>totalcharges</th>\n",
       "      <th>churn</th>\n",
       "      <th>gender</th>\n",
       "      <th>...</th>\n",
       "      <th>dependents</th>\n",
       "      <th>internetservice</th>\n",
       "      <th>onlinesecurity</th>\n",
       "      <th>onlinebackup</th>\n",
       "      <th>deviceprotection</th>\n",
       "      <th>techsupport</th>\n",
       "      <th>streamingtv</th>\n",
       "      <th>streamingmovies</th>\n",
       "      <th>multiplelines</th>\n",
       "      <th>contract_length</th>\n",
       "    </tr>\n",
       "  </thead>\n",
       "  <tbody>\n",
       "    <tr>\n",
       "      <th>0</th>\n",
       "      <td>7590-VHVEG</td>\n",
       "      <td>2020-01-01</td>\n",
       "      <td>NaT</td>\n",
       "      <td>Month-to-month</td>\n",
       "      <td>Yes</td>\n",
       "      <td>Electronic check</td>\n",
       "      <td>29.85</td>\n",
       "      <td>29.85</td>\n",
       "      <td>No</td>\n",
       "      <td>Female</td>\n",
       "      <td>...</td>\n",
       "      <td>No</td>\n",
       "      <td>DSL</td>\n",
       "      <td>No</td>\n",
       "      <td>Yes</td>\n",
       "      <td>No</td>\n",
       "      <td>No</td>\n",
       "      <td>No</td>\n",
       "      <td>No</td>\n",
       "      <td>No</td>\n",
       "      <td>31.0</td>\n",
       "    </tr>\n",
       "    <tr>\n",
       "      <th>1</th>\n",
       "      <td>5575-GNVDE</td>\n",
       "      <td>2017-04-01</td>\n",
       "      <td>NaT</td>\n",
       "      <td>One year</td>\n",
       "      <td>No</td>\n",
       "      <td>Mailed check</td>\n",
       "      <td>56.95</td>\n",
       "      <td>1889.50</td>\n",
       "      <td>No</td>\n",
       "      <td>Male</td>\n",
       "      <td>...</td>\n",
       "      <td>No</td>\n",
       "      <td>DSL</td>\n",
       "      <td>Yes</td>\n",
       "      <td>No</td>\n",
       "      <td>Yes</td>\n",
       "      <td>No</td>\n",
       "      <td>No</td>\n",
       "      <td>No</td>\n",
       "      <td>No</td>\n",
       "      <td>1036.0</td>\n",
       "    </tr>\n",
       "    <tr>\n",
       "      <th>2</th>\n",
       "      <td>3668-QPYBK</td>\n",
       "      <td>2019-10-01</td>\n",
       "      <td>2019-12-01</td>\n",
       "      <td>Month-to-month</td>\n",
       "      <td>Yes</td>\n",
       "      <td>Mailed check</td>\n",
       "      <td>53.85</td>\n",
       "      <td>108.15</td>\n",
       "      <td>Yes</td>\n",
       "      <td>Male</td>\n",
       "      <td>...</td>\n",
       "      <td>No</td>\n",
       "      <td>DSL</td>\n",
       "      <td>Yes</td>\n",
       "      <td>Yes</td>\n",
       "      <td>No</td>\n",
       "      <td>No</td>\n",
       "      <td>No</td>\n",
       "      <td>No</td>\n",
       "      <td>No</td>\n",
       "      <td>61.0</td>\n",
       "    </tr>\n",
       "    <tr>\n",
       "      <th>3</th>\n",
       "      <td>7795-CFOCW</td>\n",
       "      <td>2016-05-01</td>\n",
       "      <td>NaT</td>\n",
       "      <td>One year</td>\n",
       "      <td>No</td>\n",
       "      <td>Bank transfer (automatic)</td>\n",
       "      <td>42.30</td>\n",
       "      <td>1840.75</td>\n",
       "      <td>No</td>\n",
       "      <td>Male</td>\n",
       "      <td>...</td>\n",
       "      <td>No</td>\n",
       "      <td>DSL</td>\n",
       "      <td>Yes</td>\n",
       "      <td>No</td>\n",
       "      <td>Yes</td>\n",
       "      <td>Yes</td>\n",
       "      <td>No</td>\n",
       "      <td>No</td>\n",
       "      <td>No</td>\n",
       "      <td>1371.0</td>\n",
       "    </tr>\n",
       "    <tr>\n",
       "      <th>4</th>\n",
       "      <td>9237-HQITU</td>\n",
       "      <td>2019-09-01</td>\n",
       "      <td>2019-11-01</td>\n",
       "      <td>Month-to-month</td>\n",
       "      <td>Yes</td>\n",
       "      <td>Electronic check</td>\n",
       "      <td>70.70</td>\n",
       "      <td>151.65</td>\n",
       "      <td>Yes</td>\n",
       "      <td>Female</td>\n",
       "      <td>...</td>\n",
       "      <td>No</td>\n",
       "      <td>Fiber optic</td>\n",
       "      <td>No</td>\n",
       "      <td>No</td>\n",
       "      <td>No</td>\n",
       "      <td>No</td>\n",
       "      <td>No</td>\n",
       "      <td>No</td>\n",
       "      <td>No</td>\n",
       "      <td>61.0</td>\n",
       "    </tr>\n",
       "  </tbody>\n",
       "</table>\n",
       "<p>5 rows × 22 columns</p>\n",
       "</div>"
      ],
      "text/plain": [
       "   customerid  begindate    enddate            type paperlessbilling  \\\n",
       "0  7590-VHVEG 2020-01-01        NaT  Month-to-month              Yes   \n",
       "1  5575-GNVDE 2017-04-01        NaT        One year               No   \n",
       "2  3668-QPYBK 2019-10-01 2019-12-01  Month-to-month              Yes   \n",
       "3  7795-CFOCW 2016-05-01        NaT        One year               No   \n",
       "4  9237-HQITU 2019-09-01 2019-11-01  Month-to-month              Yes   \n",
       "\n",
       "               paymentmethod  monthlycharges  totalcharges churn  gender  ...  \\\n",
       "0           Electronic check           29.85         29.85    No  Female  ...   \n",
       "1               Mailed check           56.95       1889.50    No    Male  ...   \n",
       "2               Mailed check           53.85        108.15   Yes    Male  ...   \n",
       "3  Bank transfer (automatic)           42.30       1840.75    No    Male  ...   \n",
       "4           Electronic check           70.70        151.65   Yes  Female  ...   \n",
       "\n",
       "   dependents internetservice onlinesecurity onlinebackup deviceprotection  \\\n",
       "0          No             DSL             No          Yes               No   \n",
       "1          No             DSL            Yes           No              Yes   \n",
       "2          No             DSL            Yes          Yes               No   \n",
       "3          No             DSL            Yes           No              Yes   \n",
       "4          No     Fiber optic             No           No               No   \n",
       "\n",
       "  techsupport streamingtv streamingmovies multiplelines contract_length  \n",
       "0          No          No              No            No            31.0  \n",
       "1          No          No              No            No          1036.0  \n",
       "2          No          No              No            No            61.0  \n",
       "3         Yes          No              No            No          1371.0  \n",
       "4          No          No              No            No            61.0  \n",
       "\n",
       "[5 rows x 22 columns]"
      ]
     },
     "execution_count": 64,
     "metadata": {},
     "output_type": "execute_result"
    }
   ],
   "source": [
    "df.head()"
   ]
  },
  {
   "cell_type": "code",
   "execution_count": 65,
   "metadata": {
    "scrolled": true
   },
   "outputs": [
    {
     "data": {
      "image/png": "[encoded data removed]",
      "text/plain": [
       "<Figure size 1000x600 with 1 Axes>"
      ]
     },
     "metadata": {},
     "output_type": "display_data"
    }
   ],
   "source": [
    "# Visualization of customer churn by contract length\n",
    "\n",
    "plt.figure(figsize=(10, 6))\n",
    "sns.histplot(data=df, x='contract_length', hue='churn', multiple='stack', binwidth=30)\n",
    "plt.title('Histogram of Contract Length by Churn')\n",
    "plt.xlabel('Contract Length (days)')\n",
    "plt.ylabel('Count of Customers')\n",
    "plt.show()"
   ]
  },
  {
   "cell_type": "markdown",
   "metadata": {},
   "source": [
    "Note: Churn is highest when customers are new and normalizes as contract length increases"
   ]
  },
  {
   "cell_type": "markdown",
   "metadata": {},
   "source": [
    "## Model Selection and Training"
   ]
  },
  {
   "cell_type": "markdown",
   "metadata": {},
   "source": [
    "### Encoding\n",
    "\n",
    "**Encoding** Label encoding and OHE are used for binary categorical features, and features with more that one category, repectively. \n",
    "\n",
    "**Label (binary):**\n",
    "\n",
    "- paperlessbilling\n",
    "- churn\n",
    "- gender\n",
    "- seniorcitizen\n",
    "- partner\n",
    "- dependents\n",
    "- onlinesecurity\n",
    "- onlinebackup\n",
    "- deviceprotection\n",
    "- techsupport\n",
    "- streamingtv\n",
    "- streamingmovies\n",
    "- multiplelines\n",
    "\n",
    "**OHE (multi class):**\n",
    "- type\n",
    "- paymentmethod\n",
    "- internetservice"
   ]
  },
  {
   "cell_type": "code",
   "execution_count": 66,
   "metadata": {},
   "outputs": [],
   "source": [
    "df_copy = df.copy()"
   ]
  },
  {
   "cell_type": "code",
   "execution_count": 67,
   "metadata": {},
   "outputs": [],
   "source": [
    "# Define columns for OHE and LE\n",
    "\n",
    "ohe_columns = ['type', 'paymentmethod', 'internetservice']\n",
    "le_columns = [\n",
    "    'paperlessbilling',\n",
    "    'churn',\n",
    "    'gender',\n",
    "    'seniorcitizen',\n",
    "    'partner',\n",
    "    'dependents',\n",
    "    'onlinesecurity',\n",
    "    'onlinebackup',\n",
    "    'deviceprotection',\n",
    "    'techsupport',\n",
    "    'streamingtv',\n",
    "    'streamingmovies',\n",
    "    'multiplelines'\n",
    "]"
   ]
  },
  {
   "cell_type": "code",
   "execution_count": 68,
   "metadata": {},
   "outputs": [],
   "source": [
    "# Encode binary columns\n",
    "df_copy = pd.get_dummies(df_copy, columns=ohe_columns, drop_first=True)"
   ]
  },
  {
   "cell_type": "code",
   "execution_count": 69,
   "metadata": {},
   "outputs": [],
   "source": [
    "# Encode multi category columns\n",
    "\n",
    "for column in le_columns:\n",
    "    df_copy[column] = le.fit_transform(df_copy[column])"
   ]
  },
  {
   "cell_type": "code",
   "execution_count": 70,
   "metadata": {
    "scrolled": true
   },
   "outputs": [
    {
     "data": {
      "text/html": [
       "<div>\n",
       "<style scoped>\n",
       "    .dataframe tbody tr th:only-of-type {\n",
       "        vertical-align: middle;\n",
       "    }\n",
       "\n",
       "    .dataframe tbody tr th {\n",
       "        vertical-align: top;\n",
       "    }\n",
       "\n",
       "    .dataframe thead th {\n",
       "        text-align: right;\n",
       "    }\n",
       "</style>\n",
       "<table border=\"1\" class=\"dataframe\">\n",
       "  <thead>\n",
       "    <tr style=\"text-align: right;\">\n",
       "      <th></th>\n",
       "      <th>customerid</th>\n",
       "      <th>begindate</th>\n",
       "      <th>enddate</th>\n",
       "      <th>paperlessbilling</th>\n",
       "      <th>monthlycharges</th>\n",
       "      <th>totalcharges</th>\n",
       "      <th>churn</th>\n",
       "      <th>gender</th>\n",
       "      <th>seniorcitizen</th>\n",
       "      <th>partner</th>\n",
       "      <th>...</th>\n",
       "      <th>streamingmovies</th>\n",
       "      <th>multiplelines</th>\n",
       "      <th>contract_length</th>\n",
       "      <th>type_One year</th>\n",
       "      <th>type_Two year</th>\n",
       "      <th>paymentmethod_Credit card (automatic)</th>\n",
       "      <th>paymentmethod_Electronic check</th>\n",
       "      <th>paymentmethod_Mailed check</th>\n",
       "      <th>internetservice_Fiber optic</th>\n",
       "      <th>internetservice_No</th>\n",
       "    </tr>\n",
       "  </thead>\n",
       "  <tbody>\n",
       "    <tr>\n",
       "      <th>0</th>\n",
       "      <td>7590-VHVEG</td>\n",
       "      <td>2020-01-01</td>\n",
       "      <td>NaT</td>\n",
       "      <td>1</td>\n",
       "      <td>29.85</td>\n",
       "      <td>29.85</td>\n",
       "      <td>0</td>\n",
       "      <td>0</td>\n",
       "      <td>0</td>\n",
       "      <td>1</td>\n",
       "      <td>...</td>\n",
       "      <td>0</td>\n",
       "      <td>0</td>\n",
       "      <td>31.0</td>\n",
       "      <td>0</td>\n",
       "      <td>0</td>\n",
       "      <td>0</td>\n",
       "      <td>1</td>\n",
       "      <td>0</td>\n",
       "      <td>0</td>\n",
       "      <td>0</td>\n",
       "    </tr>\n",
       "    <tr>\n",
       "      <th>1</th>\n",
       "      <td>5575-GNVDE</td>\n",
       "      <td>2017-04-01</td>\n",
       "      <td>NaT</td>\n",
       "      <td>0</td>\n",
       "      <td>56.95</td>\n",
       "      <td>1889.50</td>\n",
       "      <td>0</td>\n",
       "      <td>1</td>\n",
       "      <td>0</td>\n",
       "      <td>0</td>\n",
       "      <td>...</td>\n",
       "      <td>0</td>\n",
       "      <td>0</td>\n",
       "      <td>1036.0</td>\n",
       "      <td>1</td>\n",
       "      <td>0</td>\n",
       "      <td>0</td>\n",
       "      <td>0</td>\n",
       "      <td>1</td>\n",
       "      <td>0</td>\n",
       "      <td>0</td>\n",
       "    </tr>\n",
       "    <tr>\n",
       "      <th>2</th>\n",
       "      <td>3668-QPYBK</td>\n",
       "      <td>2019-10-01</td>\n",
       "      <td>2019-12-01</td>\n",
       "      <td>1</td>\n",
       "      <td>53.85</td>\n",
       "      <td>108.15</td>\n",
       "      <td>1</td>\n",
       "      <td>1</td>\n",
       "      <td>0</td>\n",
       "      <td>0</td>\n",
       "      <td>...</td>\n",
       "      <td>0</td>\n",
       "      <td>0</td>\n",
       "      <td>61.0</td>\n",
       "      <td>0</td>\n",
       "      <td>0</td>\n",
       "      <td>0</td>\n",
       "      <td>0</td>\n",
       "      <td>1</td>\n",
       "      <td>0</td>\n",
       "      <td>0</td>\n",
       "    </tr>\n",
       "    <tr>\n",
       "      <th>3</th>\n",
       "      <td>7795-CFOCW</td>\n",
       "      <td>2016-05-01</td>\n",
       "      <td>NaT</td>\n",
       "      <td>0</td>\n",
       "      <td>42.30</td>\n",
       "      <td>1840.75</td>\n",
       "      <td>0</td>\n",
       "      <td>1</td>\n",
       "      <td>0</td>\n",
       "      <td>0</td>\n",
       "      <td>...</td>\n",
       "      <td>0</td>\n",
       "      <td>0</td>\n",
       "      <td>1371.0</td>\n",
       "      <td>1</td>\n",
       "      <td>0</td>\n",
       "      <td>0</td>\n",
       "      <td>0</td>\n",
       "      <td>0</td>\n",
       "      <td>0</td>\n",
       "      <td>0</td>\n",
       "    </tr>\n",
       "    <tr>\n",
       "      <th>4</th>\n",
       "      <td>9237-HQITU</td>\n",
       "      <td>2019-09-01</td>\n",
       "      <td>2019-11-01</td>\n",
       "      <td>1</td>\n",
       "      <td>70.70</td>\n",
       "      <td>151.65</td>\n",
       "      <td>1</td>\n",
       "      <td>0</td>\n",
       "      <td>0</td>\n",
       "      <td>0</td>\n",
       "      <td>...</td>\n",
       "      <td>0</td>\n",
       "      <td>0</td>\n",
       "      <td>61.0</td>\n",
       "      <td>0</td>\n",
       "      <td>0</td>\n",
       "      <td>0</td>\n",
       "      <td>1</td>\n",
       "      <td>0</td>\n",
       "      <td>1</td>\n",
       "      <td>0</td>\n",
       "    </tr>\n",
       "  </tbody>\n",
       "</table>\n",
       "<p>5 rows × 26 columns</p>\n",
       "</div>"
      ],
      "text/plain": [
       "   customerid  begindate    enddate  paperlessbilling  monthlycharges  \\\n",
       "0  7590-VHVEG 2020-01-01        NaT                 1           29.85   \n",
       "1  5575-GNVDE 2017-04-01        NaT                 0           56.95   \n",
       "2  3668-QPYBK 2019-10-01 2019-12-01                 1           53.85   \n",
       "3  7795-CFOCW 2016-05-01        NaT                 0           42.30   \n",
       "4  9237-HQITU 2019-09-01 2019-11-01                 1           70.70   \n",
       "\n",
       "   totalcharges  churn  gender  seniorcitizen  partner  ...  streamingmovies  \\\n",
       "0         29.85      0       0              0        1  ...                0   \n",
       "1       1889.50      0       1              0        0  ...                0   \n",
       "2        108.15      1       1              0        0  ...                0   \n",
       "3       1840.75      0       1              0        0  ...                0   \n",
       "4        151.65      1       0              0        0  ...                0   \n",
       "\n",
       "   multiplelines  contract_length  type_One year  type_Two year  \\\n",
       "0              0             31.0              0              0   \n",
       "1              0           1036.0              1              0   \n",
       "2              0             61.0              0              0   \n",
       "3              0           1371.0              1              0   \n",
       "4              0             61.0              0              0   \n",
       "\n",
       "   paymentmethod_Credit card (automatic)  paymentmethod_Electronic check  \\\n",
       "0                                      0                               1   \n",
       "1                                      0                               0   \n",
       "2                                      0                               0   \n",
       "3                                      0                               0   \n",
       "4                                      0                               1   \n",
       "\n",
       "   paymentmethod_Mailed check  internetservice_Fiber optic  internetservice_No  \n",
       "0                           0                            0                   0  \n",
       "1                           1                            0                   0  \n",
       "2                           1                            0                   0  \n",
       "3                           0                            0                   0  \n",
       "4                           0                            1                   0  \n",
       "\n",
       "[5 rows x 26 columns]"
      ]
     },
     "execution_count": 70,
     "metadata": {},
     "output_type": "execute_result"
    }
   ],
   "source": [
    "df_copy.head()"
   ]
  },
  {
   "cell_type": "markdown",
   "metadata": {},
   "source": [
    "### Creation of Training, Validation and Test Sets"
   ]
  },
  {
   "cell_type": "markdown",
   "metadata": {},
   "source": [
    "Training, Validation and Test Sets are created prior to model training. Dropped columns include columns such as customerid which is irrelevant in the analysis; begindate and enddate are also dropped due to the presence of the contract_length feature.\n",
    "\n",
    "Also note that the data is stratified as it is split in order to retain the original distribution of the data in relation to the target variable"
   ]
  },
  {
   "cell_type": "code",
   "execution_count": 71,
   "metadata": {
    "scrolled": true
   },
   "outputs": [
    {
     "name": "stdout",
     "output_type": "stream",
     "text": [
      "<class 'pandas.core.frame.DataFrame'>\n",
      "Int64Index: 7032 entries, 0 to 7031\n",
      "Data columns (total 26 columns):\n",
      " #   Column                                 Non-Null Count  Dtype         \n",
      "---  ------                                 --------------  -----         \n",
      " 0   customerid                             7032 non-null   object        \n",
      " 1   begindate                              7032 non-null   datetime64[ns]\n",
      " 2   enddate                                1869 non-null   datetime64[ns]\n",
      " 3   paperlessbilling                       7032 non-null   int64         \n",
      " 4   monthlycharges                         7032 non-null   float64       \n",
      " 5   totalcharges                           7032 non-null   float64       \n",
      " 6   churn                                  7032 non-null   int64         \n",
      " 7   gender                                 7032 non-null   int64         \n",
      " 8   seniorcitizen                          7032 non-null   int64         \n",
      " 9   partner                                7032 non-null   int64         \n",
      " 10  dependents                             7032 non-null   int64         \n",
      " 11  onlinesecurity                         7032 non-null   int64         \n",
      " 12  onlinebackup                           7032 non-null   int64         \n",
      " 13  deviceprotection                       7032 non-null   int64         \n",
      " 14  techsupport                            7032 non-null   int64         \n",
      " 15  streamingtv                            7032 non-null   int64         \n",
      " 16  streamingmovies                        7032 non-null   int64         \n",
      " 17  multiplelines                          7032 non-null   int64         \n",
      " 18  contract_length                        7032 non-null   float64       \n",
      " 19  type_One year                          7032 non-null   uint8         \n",
      " 20  type_Two year                          7032 non-null   uint8         \n",
      " 21  paymentmethod_Credit card (automatic)  7032 non-null   uint8         \n",
      " 22  paymentmethod_Electronic check         7032 non-null   uint8         \n",
      " 23  paymentmethod_Mailed check             7032 non-null   uint8         \n",
      " 24  internetservice_Fiber optic            7032 non-null   uint8         \n",
      " 25  internetservice_No                     7032 non-null   uint8         \n",
      "dtypes: datetime64[ns](2), float64(3), int64(13), object(1), uint8(7)\n",
      "memory usage: 1.4+ MB\n"
     ]
    }
   ],
   "source": [
    "df_copy.info()"
   ]
  },
  {
   "cell_type": "code",
   "execution_count": 72,
   "metadata": {
    "scrolled": true
   },
   "outputs": [],
   "source": [
    "# Define target variable\n",
    "\n",
    "target = df_copy['churn']\n",
    "features = df_copy.drop([\n",
    "    'churn', # This is the target variable\n",
    "    'customerid',\n",
    "    'begindate',\n",
    "    'enddate',\n",
    "], axis=1)"
   ]
  },
  {
   "cell_type": "code",
   "execution_count": 73,
   "metadata": {},
   "outputs": [],
   "source": [
    "# Split the data into training and test sets\n",
    "features_train_valid, features_test, target_train_valid, target_test = train_test_split(features, target, test_size=0.2, random_state=12345, stratify=target)"
   ]
  },
  {
   "cell_type": "code",
   "execution_count": 74,
   "metadata": {},
   "outputs": [],
   "source": [
    "# Split 2 - Split Train+Validation into a second Train+Validation\n",
    "\n",
    "features_train, features_valid, target_train, target_valid = train_test_split(\n",
    "    features_train_valid, target_train_valid, test_size=0.20, random_state=12345, stratify=target_train_valid)"
   ]
  },
  {
   "cell_type": "markdown",
   "metadata": {},
   "source": [
    "### Random Forest Classifier"
   ]
  },
  {
   "cell_type": "code",
   "execution_count": 75,
   "metadata": {},
   "outputs": [
    {
     "data": {
      "text/plain": [
       "RandomForestClassifier(random_state=12345)"
      ]
     },
     "execution_count": 75,
     "metadata": {},
     "output_type": "execute_result"
    }
   ],
   "source": [
    "# Initialize the Random Forest classifier\n",
    "rf_classifier = RandomForestClassifier(n_estimators=100, random_state=12345)\n",
    "\n",
    "# Train the classifier on the training data\n",
    "rf_classifier.fit(features_train, target_train)"
   ]
  },
  {
   "cell_type": "code",
   "execution_count": 76,
   "metadata": {},
   "outputs": [
    {
     "name": "stdout",
     "output_type": "stream",
     "text": [
      "ROC AUC Score: 0.8511138824329686\n",
      "Accuracy Score: 0.8115555555555556\n"
     ]
    }
   ],
   "source": [
    "# Predict on the validation set\n",
    "target_pred = rf_classifier.predict(features_valid)\n",
    "target_pred_proba = rf_classifier.predict_proba(features_valid)[:, 1]  # probabilities for ROC AUC\n",
    "\n",
    "# Calculate ROC AUC\n",
    "roc_auc = roc_auc_score(target_valid, target_pred_proba)\n",
    "print(f'ROC AUC Score: {roc_auc}')\n",
    "\n",
    "# Calculate accuracy\n",
    "accuracy = accuracy_score(target_valid, target_pred)\n",
    "print(f'Accuracy Score: {accuracy}')"
   ]
  },
  {
   "cell_type": "markdown",
   "metadata": {},
   "source": [
    "#### Random Forest Hyperparameter Tuning"
   ]
  },
  {
   "cell_type": "code",
   "execution_count": 77,
   "metadata": {},
   "outputs": [
    {
     "name": "stdout",
     "output_type": "stream",
     "text": [
      "Best Random Forest Parameters: {'n_estimators': 200}\n"
     ]
    }
   ],
   "source": [
    "# Define the parameter grid\n",
    "param_grid = {\n",
    "    'n_estimators': [50, 100, 200],\n",
    "}\n",
    "\n",
    "# Setup the grid search\n",
    "grid_search = GridSearchCV(estimator=RandomForestClassifier(random_state=12345),\n",
    "                           param_grid=param_grid,\n",
    "                           cv=5,\n",
    "                           scoring='roc_auc',\n",
    "                           )\n",
    "\n",
    "# Perform the grid search on the training data\n",
    "grid_search.fit(features_train, target_train)\n",
    "\n",
    "# Best model\n",
    "best_rf = grid_search.best_estimator_\n",
    "print('Best Random Forest Parameters:', grid_search.best_params_)"
   ]
  },
  {
   "cell_type": "markdown",
   "metadata": {},
   "source": [
    "### Logistic Regression"
   ]
  },
  {
   "cell_type": "markdown",
   "metadata": {},
   "source": [
    "Logistic Regression is another model we can use to predict churn. To prevent data leakage a pipeline is set up with a scaler to ensure features have a similar influence during model training"
   ]
  },
  {
   "cell_type": "code",
   "execution_count": 78,
   "metadata": {},
   "outputs": [],
   "source": [
    "# Set up the pipleine for logistic regression model\n",
    "\n",
    "pipeline = Pipeline([\n",
    "    ('scaler', StandardScaler()),\n",
    "    ('log_reg', LogisticRegression(random_state=12345))\n",
    "])"
   ]
  },
  {
   "cell_type": "code",
   "execution_count": 79,
   "metadata": {},
   "outputs": [
    {
     "data": {
      "text/plain": [
       "Pipeline(steps=[('scaler', StandardScaler()),\n",
       "                ('log_reg', LogisticRegression(random_state=12345))])"
      ]
     },
     "execution_count": 79,
     "metadata": {},
     "output_type": "execute_result"
    }
   ],
   "source": [
    "# Train the LR model\n",
    "\n",
    "pipeline.fit(features_train, target_train)"
   ]
  },
  {
   "cell_type": "code",
   "execution_count": 80,
   "metadata": {},
   "outputs": [
    {
     "name": "stdout",
     "output_type": "stream",
     "text": [
      "Validation ROC-AUC: 0.8523609772688623\n",
      "Validation Accuracy: 0.8133333333333334\n"
     ]
    }
   ],
   "source": [
    "target_val_pred = pipeline.predict(features_valid)\n",
    "target_val_pred_proba = pipeline.predict_proba(features_valid)[:, 1]\n",
    "\n",
    "val_roc_auc = roc_auc_score(target_valid, target_val_pred_proba)\n",
    "val_accuracy = accuracy_score(target_valid, target_val_pred)\n",
    "\n",
    "print(\"Validation ROC-AUC:\", val_roc_auc)\n",
    "print(\"Validation Accuracy:\", val_accuracy)"
   ]
  },
  {
   "cell_type": "markdown",
   "metadata": {},
   "source": [
    "### Boosted Models - XGBoost"
   ]
  },
  {
   "cell_type": "markdown",
   "metadata": {},
   "source": [
    "XGBoost is a popular model used for classification, with the advantage of a boosted learning algorithm. Below the XGB model tested with some simple hyperparameters for tuning."
   ]
  },
  {
   "cell_type": "code",
   "execution_count": 81,
   "metadata": {},
   "outputs": [],
   "source": [
    "import xgboost as xgb"
   ]
  },
  {
   "cell_type": "code",
   "execution_count": 82,
   "metadata": {},
   "outputs": [
    {
     "data": {
      "text/plain": [
       "XGBClassifier(base_score=0.5, booster='gbtree', colsample_bylevel=1,\n",
       "              colsample_bynode=1, colsample_bytree=1, enable_categorical=False,\n",
       "              eval_metric='logloss', gamma=0, gpu_id=-1, importance_type=None,\n",
       "              interaction_constraints='', learning_rate=0.300000012,\n",
       "              max_delta_step=0, max_depth=6, min_child_weight=1, missing=nan,\n",
       "              monotone_constraints='()', n_estimators=100, n_jobs=4,\n",
       "              num_parallel_tree=1, predictor='auto', random_state=12345,\n",
       "              reg_alpha=0, reg_lambda=1, scale_pos_weight=1, seed=12345,\n",
       "              subsample=1, tree_method='exact', use_label_encoder=False,\n",
       "              validate_parameters=1, ...)"
      ]
     },
     "execution_count": 82,
     "metadata": {},
     "output_type": "execute_result"
    }
   ],
   "source": [
    "# Initialize the XGBoost classifier\n",
    "# We are setting the eval_metric is  to 'logloss' for binary modeling such as churn\n",
    "xgb_classifier = xgb.XGBClassifier(\n",
    "    objective='binary:logistic',\n",
    "    seed=12345,\n",
    "    eval_metric='logloss', \n",
    "    use_label_encoder=False\n",
    ")\n",
    "\n",
    "# Train the classifier\n",
    "# Note that we are optimizing for early stopping at ten rounds\n",
    "xgb_classifier.fit(\n",
    "    features_train, \n",
    "    target_train, \n",
    "    eval_set=[(features_valid, target_valid)],\n",
    "    verbose=False,\n",
    "    early_stopping_rounds=10\n",
    ")"
   ]
  },
  {
   "cell_type": "code",
   "execution_count": 83,
   "metadata": {
    "scrolled": true
   },
   "outputs": [
    {
     "name": "stdout",
     "output_type": "stream",
     "text": [
      "Validation ROC AUC: 0.901451164899949\n",
      "Validation Accuracy: 0.8613333333333333\n"
     ]
    }
   ],
   "source": [
    "# Predict probabilities on validation set\n",
    "valid_pred_proba = xgb_classifier.predict_proba(features_valid)[:, 1]\n",
    "\n",
    "# Calculate ROC AUC for the XGB model\n",
    "valid_roc_auc = roc_auc_score(target_valid, valid_pred_proba)\n",
    "print(f\"Validation ROC AUC: {valid_roc_auc}\")\n",
    "\n",
    "# Calculate accuracy for the XGB model\n",
    "valid_predictions = xgb_classifier.predict(features_valid)\n",
    "valid_accuracy = accuracy_score(target_valid, valid_predictions)\n",
    "print(f\"Validation Accuracy: {valid_accuracy}\")"
   ]
  },
  {
   "cell_type": "code",
   "execution_count": null,
   "metadata": {},
   "outputs": [],
   "source": []
  },
  {
   "cell_type": "code",
   "execution_count": 84,
   "metadata": {
    "scrolled": true
   },
   "outputs": [
    {
     "name": "stdout",
     "output_type": "stream",
     "text": [
      "Fitting 3 folds for each of 6 candidates, totalling 18 fits\n",
      "Best parameters found:  {'learning_rate': 0.1, 'n_estimators': 200}\n",
      "Best ROC-AUC found:  0.87640381260726\n"
     ]
    }
   ],
   "source": [
    "# Create the parameter grid\n",
    "param_grid = {\n",
    "    'n_estimators': [50, 100, 200],\n",
    "    'learning_rate': [0.01, 0.1],\n",
    "}\n",
    "\n",
    "# Set up the grid search\n",
    "grid_search = GridSearchCV(estimator=xgb_classifier, param_grid=param_grid, cv=3, scoring='roc_auc', verbose=1, n_jobs=-1)\n",
    "grid_search.fit(features_train, target_train)\n",
    "\n",
    "# Print the best parameters and best score\n",
    "print(\"Best parameters found: \", grid_search.best_params_)\n",
    "print(\"Best ROC-AUC found: \", grid_search.best_score_)\n"
   ]
  },
  {
   "cell_type": "markdown",
   "metadata": {},
   "source": [
    "### Best Model Selection"
   ]
  },
  {
   "cell_type": "markdown",
   "metadata": {},
   "source": [
    "Models are selected systematically with the hyperparameters and tuning applied. The three models studied are Random Forest, Logistic Regression and XGB Boost.\n",
    "\n",
    "- The model selection first trains the model on the training set and selects the best model based on its AUC-ROC score on the validation set.\n",
    "- The best model is then selected and tested on the test set.\n",
    "- The final results display the AUC-ROC score and the accuracy of the model, evaluated on the test set.\n",
    "\n",
    "**Note:** Hyperparameter tuning is already applied in the best model selection sequence."
   ]
  },
  {
   "cell_type": "code",
   "execution_count": 85,
   "metadata": {},
   "outputs": [],
   "source": [
    "models = {   \n",
    "    'Random Forest': RandomForestClassifier(n_estimators=200, random_state=12345),\n",
    "    'Logistic Regression': LogisticRegression(random_state=12345),\n",
    "    'XGBoost': xgb.XGBClassifier(\n",
    "    objective='binary:logistic',\n",
    "    seed=12345,\n",
    "    eval_metric='logloss', \n",
    "    use_label_encoder=False\n",
    ")\n",
    "\n",
    "}\n",
    "\n",
    "# Hyperparameters\n",
    "param_grids = {   \n",
    "    'Random Forest': {'n_estimators': [200]},  # From tuning above\n",
    "    'Logistic Regression': {'C': [1]},  # Placeholder as there are no hyperparameters to tune\n",
    "    'XGBoost': {'n_estimators': [200], 'learning_rate': [0.1]}  # From tuning above\n",
    "}\n",
    "# Dictionary to store the best models and their scores\n",
    "best_models = {}\n",
    "scores = {}"
   ]
  },
  {
   "cell_type": "code",
   "execution_count": 86,
   "metadata": {},
   "outputs": [
    {
     "name": "stdout",
     "output_type": "stream",
     "text": [
      "Random Forest best AUC-ROC: 0.8525715257476496\n"
     ]
    },
    {
     "name": "stderr",
     "output_type": "stream",
     "text": [
      "/opt/conda/envs/python3/lib/python3.9/site-packages/sklearn/linear_model/_logistic.py:763: ConvergenceWarning: lbfgs failed to converge (status=1):\n",
      "STOP: TOTAL NO. of ITERATIONS REACHED LIMIT.\n",
      "\n",
      "Increase the number of iterations (max_iter) or scale the data as shown in:\n",
      "    https://scikit-learn.org/stable/modules/preprocessing.html\n",
      "Please also refer to the documentation for alternative solver options:\n",
      "    https://scikit-learn.org/stable/modules/linear_model.html#logistic-regression\n",
      "  n_iter_i = _check_optimize_result(\n"
     ]
    },
    {
     "name": "stdout",
     "output_type": "stream",
     "text": [
      "Logistic Regression best AUC-ROC: 0.8464858649088568\n",
      "XGBoost best AUC-ROC: 0.9088122636390875\n"
     ]
    }
   ],
   "source": [
    "# Training and tuning each model\n",
    "for name, model in models.items():\n",
    "    grid_search = GridSearchCV(model, param_grids[name], cv=5, scoring='roc_auc', n_jobs=-1)\n",
    "    grid_search.fit(features_train, target_train)  # Fit models on the training set\n",
    "    best_model = grid_search.best_estimator_\n",
    "    best_models[name] = best_model\n",
    "    \n",
    "    # Evaluate on the validation set\n",
    "    valid_proba = best_model.predict_proba(features_valid)[:, 1]\n",
    "    auc_score = roc_auc_score(target_valid, valid_proba)\n",
    "    scores[name] = auc_score\n",
    "    print(f'{name} best AUC-ROC: {auc_score}')"
   ]
  },
  {
   "cell_type": "code",
   "execution_count": 87,
   "metadata": {},
   "outputs": [
    {
     "name": "stdout",
     "output_type": "stream",
     "text": [
      "Final Best Model: XGBoost\n",
      "Test AUC-ROC: 0.8981511199921314\n",
      "Test Accuracy: 0.8578535891968728\n"
     ]
    }
   ],
   "source": [
    "best_model_name = max(scores, key=scores.get)\n",
    "best_model = best_models[best_model_name]\n",
    "\n",
    "# Final evaluation on the test set\n",
    "test_proba = best_model.predict_proba(features_test)[:, 1]\n",
    "final_auc = roc_auc_score(target_test, test_proba)\n",
    "final_acc = accuracy_score(target_test, best_model.predict(features_test))\n",
    "\n",
    "print(f'Final Best Model: {best_model_name}')\n",
    "print(f'Test AUC-ROC: {final_auc}')\n",
    "print(f'Test Accuracy: {final_acc}')"
   ]
  },
  {
   "cell_type": "markdown",
   "metadata": {},
   "source": [
    "Note: The best model is the XGBoost model with a AUC-ROC of 90% an accuracy of 86% when evaluated on the test set."
   ]
  },
  {
   "cell_type": "markdown",
   "metadata": {},
   "source": [
    "#### Further notes on Best Model: XGBoost features"
   ]
  },
  {
   "cell_type": "markdown",
   "metadata": {},
   "source": [
    "Equally important to predictions is the importance of features in how the model is trained. Feature importance refers to the priority with with feautures are used to develop the model (weight). Below, feature importance is explored for the best model - XGBoost"
   ]
  },
  {
   "cell_type": "code",
   "execution_count": 88,
   "metadata": {},
   "outputs": [],
   "source": [
    "# Define feature importance for the 'best_model' - XGBoost\n",
    "\n",
    "importance = best_model.feature_importances_"
   ]
  },
  {
   "cell_type": "code",
   "execution_count": 89,
   "metadata": {},
   "outputs": [
    {
     "data": {
      "image/png": "[encoded data removed]",
      "text/plain": [
       "<Figure size 1000x600 with 1 Axes>"
      ]
     },
     "metadata": {},
     "output_type": "display_data"
    }
   ],
   "source": [
    "# Sorting feature names by weight in the model's algorithm\n",
    "\n",
    "feature_names = features_train.columns\n",
    "indices = np.argsort(importance)[::-1]\n",
    "\n",
    "# Plot feature importance\n",
    "plt.figure(figsize=(10, 6))\n",
    "plt.title(\"Feature importances\")\n",
    "plt.bar(range(features_train.shape[1]), importance[indices],\n",
    "        color=\"b\", align=\"center\")\n",
    "plt.xticks(range(features_train.shape[1]), feature_names[indices], rotation=90)\n",
    "plt.xlim([-1, features_train.shape[1]])\n",
    "plt.show()"
   ]
  },
  {
   "cell_type": "markdown",
   "metadata": {},
   "source": [
    "Note: The top five features by weight are: \n",
    "\n",
    "- Fiber Optic Service\n",
    "- Two Year contract type\n",
    "- Internet Service\n",
    "- One Year contract type\n",
    "- Contract Length (tenure)"
   ]
  },
  {
   "cell_type": "markdown",
   "metadata": {},
   "source": [
    "## Conclusions and Recommendations"
   ]
  },
  {
   "cell_type": "markdown",
   "metadata": {},
   "source": [
    "Based on the analysis and model, we understand that fiber optic service, contract type and length (tenure) and internet service in general are key indicators for churn.\n",
    "\n",
    "- Some recommendations are to explore the Fiber Optic Service which is the highest indictor for churn - perhaps customers are searching for deals across competitor companies with bundled fiber optic service. Exploring the value proposition for the current fiber optic service could be beneficial.\n",
    "\n",
    "- Customers who are loyal generally do not churn, and so exploring incentives to value loyal customers could be beneficial.\n",
    "\n",
    "- Customers who have two-year contracts churn less than those who have one year contracts, and so exploring incentives for these type of contracts could be beneficial. \n",
    "\n",
    "**Model Accuracy:** The model must be evaluated for accuracy as new data becomes available and customers with certain key indicators can be identified earlier and marketed incentives before they churn.\n",
    "\n",
    "**ROI:** Exploring the ROI of the above options would be important, weighing the cost of customer churn / churn avoidance against the cost marketing initiatives as well as evaluating company churn against competitor/industry average churn."
   ]
  },
  {
   "cell_type": "markdown",
   "metadata": {},
   "source": [
    "## Project Solution Report"
   ]
  },
  {
   "cell_type": "markdown",
   "metadata": {},
   "source": [
    "### Recap: Project Plan\n",
    "\n",
    "The steps of the plan outlined in the project plan were all performed. To ensure that the analysis was completed accurately, no steps were skipped. An additional step that could be beneficial to the client would be a full ROI analysis of the project vs. the performance gains from implementing the suggestions recommended; however, this would require some financial modeling and project management information such as FTE rates, staffing, time tracking, etc.\n",
    "\n",
    "The steps below from the project plan were executed methodically with a quality review:\n",
    "\n",
    "*Data Collection and Exploratory Data Analysis:* An analysis of the RAW data for trends and feature engineering\n",
    "\n",
    "*Feature Engineering:* Creation of new features from the data to inform the predictive model\n",
    "\n",
    "*Model Selection and Training for Predictive Modeling:* Development of an ML model to predict churn\n",
    "\n",
    "*Quality Assurance / Quality Review:* Check on accuracy of the code and methodology outlined above.\n",
    "\n",
    "*Conclusions and Recommendations:* Strategy recommendations for the marketing team based on data findings and churn predictions.\n",
    "\n",
    "To complement the value proposition of the project, a simple ROI analysis could be performed. For the efficacy of the model itself, a one- to three-year ROI could be performed to track performance over time. "
   ]
  },
  {
   "cell_type": "markdown",
   "metadata": {},
   "source": [
    "### Project Challenges and Solutions\n",
    "\n",
    "There were few difficulties encountered in completing the analysis. The data was mostly clean and needed standardization to streamline the analysis. There were **no duplicates** and **null values** represented a very small percentage of the total data set. \n",
    "\n",
    "- The data came in separate files, a single data frame needed to be created in order to perform a full analysis and train a model. \n",
    "- Because the data came with a unique identifier, the data files were able to be merged on the ID; it was not necessary to create unique identifiers for each entry. \n",
    "\n",
    "**Data leakage** is a concern for data sets like these and so a pipeline was created to prevent data leakage and assure a robust model. Certain columns needed to be dropped to retain a robust model.\n",
    "\n",
    "**Categorical data was encoded** with OHE and Label Encoding. The data then needed to be scaled to ensure the model sees each feature equally.\n",
    "\n",
    "**There were some limitations for training and testing models** that have many hyperparameters virtually and not on local machines (processing power). To address the issue, a simplified version of fine tuning was used to meet the AUC-ROC scores required."
   ]
  },
  {
   "cell_type": "markdown",
   "metadata": {},
   "source": [
    "### Recap: Key Steps in Data Analysis and Modeling\n",
    "\n",
    "The project involved accurately predicting churn for customers and can be divided into four steps: *Data Cleaning* *EDA* *Feature Engineering* *Model Selection and Training*\n",
    "\n",
    "**Data Cleaning** ensures that the data is formatted properly for analysis. For example, column names were converted to lower case, and data types needed to be converted to numerical data for analysis. \n",
    "\n",
    "**Exploratory Data Analysis (EDA)** provides more context about the data and its characteristics and trends to inform feature engineering. Descriptive statistics were pulled from the data and visualized in order to provide context on any trends. Churn needed to be defined and a new column for churn was created.\n",
    "\n",
    "**Feature Engineering** takes known qualities and creates new features used for model training. A column for contract_length (or tenure) was derived as an indicator for customer loyalty.\n",
    "\n",
    "**Model Selection/Training** is perhaps the most complex, where three different models are systematically trained, tuned and evaluated for the best predictive model. Three models most popular with the task of classification (churn or no-churn) were seen as potential candidates - **logistic regression**, **random forest**, and **XGBoost**. \n",
    "\n",
    "- Data was split into training, validation and testing sets, models were trained and tested on the validation set and fine tuning was applied to two of the three models.\n",
    "\n",
    "- Once the models were trained and tested, each was evaluated concurrently on the test set in order to determine a best-fit model by AUC-ROC and accuracy metrics."
   ]
  },
  {
   "cell_type": "markdown",
   "metadata": {},
   "source": [
    "### Final Model and Quality Score\n",
    "\n",
    "The final model best suited to predict churn with the data set provided with the XGBoost model, tuned with 200 trees to start. The AUC-ROC is 90% with a test accuracy of 86%. \n",
    "\n",
    "**Final Best Model: XGBoost**\n",
    "Test AUC-ROC: 0.8981511199921314\n",
    "Test Accuracy: 0.8578535891968728\n",
    "\n",
    "- An AUC-ROC of 90% can be interpreted as a model providing predictions that are correct 90% of the time.\n",
    "\n",
    "- The XGBoost model **exceeds the highest assessment criteria for the model of > 0.88,** as outlined in the criteria below. \n",
    "\n",
    "Assessment criteria:\n",
    "\n",
    "AUC-ROC < 0.75 — 0 SP\n",
    "0.75 ≤ AUC-ROC < 0.81 — 4 SP\n",
    "0.81 ≤ AUC-ROC < 0.85 — 4.5 SP\n",
    "0.85 ≤ AUC-ROC < 0.87 — 5 SP\n",
    "0.87 ≤ AUC-ROC < 0.88 — 5.5 SP\n",
    "AUC-ROC ≥ 0.88 — 6 SP\n",
    "\n",
    "- Further, fine-tuning of the model can be explored to increase accuracy above 90%.\n",
    "\n",
    "- Finally, feature weights of the XGBoost model were explored and visualized in order to communicate meaningful insights about churn and customer data."
   ]
  },
  {
   "cell_type": "code",
   "execution_count": null,
   "metadata": {},
   "outputs": [],
   "source": []
  }
 ],
 "metadata": {
  "ExecuteTimeLog": [
   {
    "duration": 478,
    "start_time": "2024-07-03T17:46:31.413Z"
   },
   {
    "duration": 1335,
    "start_time": "2024-07-03T17:47:19.130Z"
   },
   {
    "duration": 3,
    "start_time": "2024-07-03T17:48:12.753Z"
   },
   {
    "duration": 147,
    "start_time": "2024-07-03T17:48:13.193Z"
   },
   {
    "duration": 24,
    "start_time": "2024-07-03T17:48:43.535Z"
   },
   {
    "duration": 30,
    "start_time": "2024-07-03T17:48:51.781Z"
   },
   {
    "duration": 25,
    "start_time": "2024-07-03T17:49:55.008Z"
   },
   {
    "duration": 67,
    "start_time": "2024-07-03T17:49:58.032Z"
   },
   {
    "duration": 17,
    "start_time": "2024-07-03T17:49:58.187Z"
   },
   {
    "duration": 4,
    "start_time": "2024-07-03T17:50:16.003Z"
   },
   {
    "duration": 48,
    "start_time": "2024-07-03T17:50:16.011Z"
   },
   {
    "duration": 15,
    "start_time": "2024-07-03T17:50:16.062Z"
   },
   {
    "duration": 12,
    "start_time": "2024-07-03T17:50:16.080Z"
   },
   {
    "duration": 36,
    "start_time": "2024-07-03T17:50:16.096Z"
   },
   {
    "duration": 9,
    "start_time": "2024-07-03T17:50:16.135Z"
   },
   {
    "duration": 16,
    "start_time": "2024-07-03T17:51:02.654Z"
   },
   {
    "duration": 14,
    "start_time": "2024-07-03T17:51:24.153Z"
   },
   {
    "duration": 14,
    "start_time": "2024-07-03T17:51:26.967Z"
   },
   {
    "duration": 13,
    "start_time": "2024-07-03T17:51:27.869Z"
   },
   {
    "duration": 4,
    "start_time": "2024-07-03T17:54:19.418Z"
   },
   {
    "duration": 48,
    "start_time": "2024-07-03T17:54:19.427Z"
   },
   {
    "duration": 19,
    "start_time": "2024-07-03T17:54:19.477Z"
   },
   {
    "duration": 12,
    "start_time": "2024-07-03T17:54:19.498Z"
   },
   {
    "duration": 26,
    "start_time": "2024-07-03T17:54:19.516Z"
   },
   {
    "duration": 9,
    "start_time": "2024-07-03T17:54:19.548Z"
   },
   {
    "duration": 16,
    "start_time": "2024-07-03T17:54:19.560Z"
   },
   {
    "duration": 51,
    "start_time": "2024-07-03T17:54:19.579Z"
   },
   {
    "duration": 14,
    "start_time": "2024-07-03T17:54:19.634Z"
   },
   {
    "duration": 13,
    "start_time": "2024-07-03T17:54:19.652Z"
   },
   {
    "duration": 5,
    "start_time": "2024-07-03T18:06:39.276Z"
   },
   {
    "duration": 18,
    "start_time": "2024-07-03T18:06:56.935Z"
   },
   {
    "duration": 9,
    "start_time": "2024-07-03T18:08:32.450Z"
   },
   {
    "duration": 27,
    "start_time": "2024-07-03T18:08:33.110Z"
   },
   {
    "duration": 12,
    "start_time": "2024-07-03T18:09:01.131Z"
   },
   {
    "duration": 11,
    "start_time": "2024-07-03T18:09:01.506Z"
   },
   {
    "duration": 8,
    "start_time": "2024-07-03T18:09:01.869Z"
   },
   {
    "duration": 5,
    "start_time": "2024-07-03T18:11:47.330Z"
   },
   {
    "duration": 14,
    "start_time": "2024-07-03T18:11:47.471Z"
   },
   {
    "duration": 10,
    "start_time": "2024-07-03T18:11:47.630Z"
   },
   {
    "duration": 11,
    "start_time": "2024-07-03T18:11:47.770Z"
   },
   {
    "duration": 8,
    "start_time": "2024-07-03T18:11:48.112Z"
   },
   {
    "duration": 5,
    "start_time": "2024-07-03T18:11:48.890Z"
   },
   {
    "duration": 16,
    "start_time": "2024-07-03T18:11:57.370Z"
   },
   {
    "duration": 5,
    "start_time": "2024-07-03T18:12:39.715Z"
   },
   {
    "duration": 10,
    "start_time": "2024-07-03T18:12:39.898Z"
   },
   {
    "duration": 4,
    "start_time": "2024-07-03T18:13:01.734Z"
   },
   {
    "duration": 72,
    "start_time": "2024-07-03T18:13:01.741Z"
   },
   {
    "duration": 23,
    "start_time": "2024-07-03T18:13:01.817Z"
   },
   {
    "duration": 13,
    "start_time": "2024-07-03T18:13:01.844Z"
   },
   {
    "duration": 17,
    "start_time": "2024-07-03T18:13:01.862Z"
   },
   {
    "duration": 10,
    "start_time": "2024-07-03T18:13:01.883Z"
   },
   {
    "duration": 17,
    "start_time": "2024-07-03T18:13:01.932Z"
   },
   {
    "duration": 18,
    "start_time": "2024-07-03T18:13:01.952Z"
   },
   {
    "duration": 17,
    "start_time": "2024-07-03T18:13:01.973Z"
   },
   {
    "duration": 23,
    "start_time": "2024-07-03T18:13:02.031Z"
   },
   {
    "duration": 6,
    "start_time": "2024-07-03T18:13:02.057Z"
   },
   {
    "duration": 15,
    "start_time": "2024-07-03T18:13:02.069Z"
   },
   {
    "duration": 10,
    "start_time": "2024-07-03T18:13:02.086Z"
   },
   {
    "duration": 12,
    "start_time": "2024-07-03T18:13:02.136Z"
   },
   {
    "duration": 8,
    "start_time": "2024-07-03T18:13:02.151Z"
   },
   {
    "duration": 6,
    "start_time": "2024-07-03T18:13:02.162Z"
   },
   {
    "duration": 9,
    "start_time": "2024-07-03T18:13:02.170Z"
   },
   {
    "duration": 50,
    "start_time": "2024-07-03T18:13:02.183Z"
   },
   {
    "duration": 11,
    "start_time": "2024-07-03T18:13:02.238Z"
   },
   {
    "duration": 6,
    "start_time": "2024-07-03T18:13:02.252Z"
   },
   {
    "duration": 4,
    "start_time": "2024-07-03T21:41:58.408Z"
   },
   {
    "duration": 474,
    "start_time": "2024-07-03T22:24:59.027Z"
   },
   {
    "duration": 84,
    "start_time": "2024-07-03T22:24:59.505Z"
   },
   {
    "duration": 26,
    "start_time": "2024-07-03T22:24:59.592Z"
   },
   {
    "duration": 15,
    "start_time": "2024-07-03T22:24:59.621Z"
   },
   {
    "duration": 17,
    "start_time": "2024-07-03T22:24:59.641Z"
   },
   {
    "duration": 11,
    "start_time": "2024-07-03T22:24:59.662Z"
   },
   {
    "duration": 57,
    "start_time": "2024-07-03T22:24:59.676Z"
   },
   {
    "duration": 14,
    "start_time": "2024-07-03T22:24:59.737Z"
   },
   {
    "duration": 16,
    "start_time": "2024-07-03T22:24:59.754Z"
   },
   {
    "duration": 14,
    "start_time": "2024-07-03T22:24:59.773Z"
   },
   {
    "duration": 5,
    "start_time": "2024-07-03T22:24:59.832Z"
   },
   {
    "duration": 13,
    "start_time": "2024-07-03T22:24:59.840Z"
   },
   {
    "duration": 9,
    "start_time": "2024-07-03T22:24:59.856Z"
   },
   {
    "duration": 12,
    "start_time": "2024-07-03T22:24:59.871Z"
   },
   {
    "duration": 7,
    "start_time": "2024-07-03T22:24:59.930Z"
   },
   {
    "duration": 5,
    "start_time": "2024-07-03T22:24:59.941Z"
   },
   {
    "duration": 9,
    "start_time": "2024-07-03T22:24:59.949Z"
   },
   {
    "duration": 8,
    "start_time": "2024-07-03T22:24:59.961Z"
   },
   {
    "duration": 8,
    "start_time": "2024-07-03T22:24:59.972Z"
   },
   {
    "duration": 6,
    "start_time": "2024-07-03T22:25:00.032Z"
   },
   {
    "duration": 460,
    "start_time": "2024-07-08T17:22:18.104Z"
   },
   {
    "duration": 97,
    "start_time": "2024-07-08T17:22:18.567Z"
   },
   {
    "duration": 24,
    "start_time": "2024-07-08T17:22:18.666Z"
   },
   {
    "duration": 15,
    "start_time": "2024-07-08T17:22:18.693Z"
   },
   {
    "duration": 16,
    "start_time": "2024-07-08T17:22:18.717Z"
   },
   {
    "duration": 12,
    "start_time": "2024-07-08T17:22:18.736Z"
   },
   {
    "duration": 49,
    "start_time": "2024-07-08T17:22:18.753Z"
   },
   {
    "duration": 16,
    "start_time": "2024-07-08T17:22:18.806Z"
   },
   {
    "duration": 23,
    "start_time": "2024-07-08T17:22:18.826Z"
   },
   {
    "duration": 50,
    "start_time": "2024-07-08T17:22:18.852Z"
   },
   {
    "duration": 6,
    "start_time": "2024-07-08T17:22:18.905Z"
   },
   {
    "duration": 13,
    "start_time": "2024-07-08T17:22:18.916Z"
   },
   {
    "duration": 10,
    "start_time": "2024-07-08T17:22:18.932Z"
   },
   {
    "duration": 53,
    "start_time": "2024-07-08T17:22:18.948Z"
   },
   {
    "duration": 8,
    "start_time": "2024-07-08T17:22:19.007Z"
   },
   {
    "duration": 5,
    "start_time": "2024-07-08T17:22:19.018Z"
   },
   {
    "duration": 10,
    "start_time": "2024-07-08T17:22:19.026Z"
   },
   {
    "duration": 52,
    "start_time": "2024-07-08T17:22:19.039Z"
   },
   {
    "duration": 7,
    "start_time": "2024-07-08T17:22:19.094Z"
   },
   {
    "duration": 8,
    "start_time": "2024-07-08T17:22:19.104Z"
   },
   {
    "duration": 1095,
    "start_time": "2024-07-08T18:25:17.042Z"
   },
   {
    "duration": 4,
    "start_time": "2024-07-08T18:25:20.977Z"
   },
   {
    "duration": 56,
    "start_time": "2024-07-08T18:25:20.985Z"
   },
   {
    "duration": 16,
    "start_time": "2024-07-08T18:25:21.044Z"
   },
   {
    "duration": 32,
    "start_time": "2024-07-08T18:25:21.063Z"
   },
   {
    "duration": 16,
    "start_time": "2024-07-08T18:25:21.100Z"
   },
   {
    "duration": 10,
    "start_time": "2024-07-08T18:25:21.120Z"
   },
   {
    "duration": 59,
    "start_time": "2024-07-08T18:25:21.134Z"
   },
   {
    "duration": 20,
    "start_time": "2024-07-08T18:25:21.196Z"
   },
   {
    "duration": 20,
    "start_time": "2024-07-08T18:25:21.220Z"
   },
   {
    "duration": 50,
    "start_time": "2024-07-08T18:25:21.244Z"
   },
   {
    "duration": 5,
    "start_time": "2024-07-08T18:25:21.297Z"
   },
   {
    "duration": 13,
    "start_time": "2024-07-08T18:25:21.305Z"
   },
   {
    "duration": 10,
    "start_time": "2024-07-08T18:25:21.321Z"
   },
   {
    "duration": 55,
    "start_time": "2024-07-08T18:25:21.336Z"
   },
   {
    "duration": 8,
    "start_time": "2024-07-08T18:25:21.394Z"
   },
   {
    "duration": 5,
    "start_time": "2024-07-08T18:25:21.405Z"
   },
   {
    "duration": 9,
    "start_time": "2024-07-08T18:25:21.413Z"
   },
   {
    "duration": 8,
    "start_time": "2024-07-08T18:25:21.426Z"
   },
   {
    "duration": 57,
    "start_time": "2024-07-08T18:25:21.438Z"
   },
   {
    "duration": 8,
    "start_time": "2024-07-08T18:25:21.498Z"
   },
   {
    "duration": 90,
    "start_time": "2024-07-08T18:25:21.509Z"
   },
   {
    "duration": 6,
    "start_time": "2024-07-08T18:25:52.549Z"
   },
   {
    "duration": 19,
    "start_time": "2024-07-08T18:26:18.443Z"
   },
   {
    "duration": 640,
    "start_time": "2024-07-08T18:28:44.463Z"
   },
   {
    "duration": 4,
    "start_time": "2024-07-08T18:30:19.144Z"
   },
   {
    "duration": 53,
    "start_time": "2024-07-08T18:30:19.152Z"
   },
   {
    "duration": 15,
    "start_time": "2024-07-08T18:30:19.208Z"
   },
   {
    "duration": 14,
    "start_time": "2024-07-08T18:30:19.226Z"
   },
   {
    "duration": 47,
    "start_time": "2024-07-08T18:30:19.245Z"
   },
   {
    "duration": 11,
    "start_time": "2024-07-08T18:30:19.295Z"
   },
   {
    "duration": 16,
    "start_time": "2024-07-08T18:30:19.309Z"
   },
   {
    "duration": 17,
    "start_time": "2024-07-08T18:30:19.328Z"
   },
   {
    "duration": 53,
    "start_time": "2024-07-08T18:30:19.348Z"
   },
   {
    "duration": 14,
    "start_time": "2024-07-08T18:30:19.405Z"
   },
   {
    "duration": 5,
    "start_time": "2024-07-08T18:30:19.423Z"
   },
   {
    "duration": 14,
    "start_time": "2024-07-08T18:30:19.431Z"
   },
   {
    "duration": 9,
    "start_time": "2024-07-08T18:30:19.492Z"
   },
   {
    "duration": 9,
    "start_time": "2024-07-08T18:30:19.507Z"
   },
   {
    "duration": 7,
    "start_time": "2024-07-08T18:30:19.519Z"
   },
   {
    "duration": 5,
    "start_time": "2024-07-08T18:30:19.530Z"
   },
   {
    "duration": 53,
    "start_time": "2024-07-08T18:30:19.539Z"
   },
   {
    "duration": 8,
    "start_time": "2024-07-08T18:30:19.595Z"
   },
   {
    "duration": 8,
    "start_time": "2024-07-08T18:30:19.606Z"
   },
   {
    "duration": 7,
    "start_time": "2024-07-08T18:30:19.617Z"
   },
   {
    "duration": 7,
    "start_time": "2024-07-08T18:30:19.627Z"
   },
   {
    "duration": 159,
    "start_time": "2024-07-08T18:30:19.638Z"
   },
   {
    "duration": 79,
    "start_time": "2024-07-08T18:31:43.759Z"
   },
   {
    "duration": 77,
    "start_time": "2024-07-08T18:32:32.003Z"
   },
   {
    "duration": 54,
    "start_time": "2024-07-08T18:32:59.070Z"
   },
   {
    "duration": 9,
    "start_time": "2024-07-08T18:33:08.547Z"
   },
   {
    "duration": 7,
    "start_time": "2024-07-08T18:33:18.696Z"
   },
   {
    "duration": 22,
    "start_time": "2024-07-08T18:33:51.109Z"
   },
   {
    "duration": 5,
    "start_time": "2024-07-08T18:34:40.739Z"
   },
   {
    "duration": 4,
    "start_time": "2024-07-08T18:34:49.064Z"
   },
   {
    "duration": 33,
    "start_time": "2024-07-08T18:36:27.671Z"
   },
   {
    "duration": 4,
    "start_time": "2024-07-08T18:36:51.510Z"
   },
   {
    "duration": 51,
    "start_time": "2024-07-08T18:36:51.517Z"
   },
   {
    "duration": 21,
    "start_time": "2024-07-08T18:36:51.571Z"
   },
   {
    "duration": 12,
    "start_time": "2024-07-08T18:36:51.595Z"
   },
   {
    "duration": 14,
    "start_time": "2024-07-08T18:36:51.613Z"
   },
   {
    "duration": 13,
    "start_time": "2024-07-08T18:36:51.631Z"
   },
   {
    "duration": 57,
    "start_time": "2024-07-08T18:36:51.647Z"
   },
   {
    "duration": 15,
    "start_time": "2024-07-08T18:36:51.707Z"
   },
   {
    "duration": 16,
    "start_time": "2024-07-08T18:36:51.726Z"
   },
   {
    "duration": 54,
    "start_time": "2024-07-08T18:36:51.746Z"
   },
   {
    "duration": 5,
    "start_time": "2024-07-08T18:36:51.804Z"
   },
   {
    "duration": 14,
    "start_time": "2024-07-08T18:36:51.813Z"
   },
   {
    "duration": 12,
    "start_time": "2024-07-08T18:36:51.830Z"
   },
   {
    "duration": 11,
    "start_time": "2024-07-08T18:36:51.890Z"
   },
   {
    "duration": 8,
    "start_time": "2024-07-08T18:36:51.904Z"
   },
   {
    "duration": 5,
    "start_time": "2024-07-08T18:36:51.915Z"
   },
   {
    "duration": 10,
    "start_time": "2024-07-08T18:36:51.923Z"
   },
   {
    "duration": 57,
    "start_time": "2024-07-08T18:36:51.936Z"
   },
   {
    "duration": 8,
    "start_time": "2024-07-08T18:36:51.996Z"
   },
   {
    "duration": 6,
    "start_time": "2024-07-08T18:36:52.007Z"
   },
   {
    "duration": 7,
    "start_time": "2024-07-08T18:36:52.017Z"
   },
   {
    "duration": 9,
    "start_time": "2024-07-08T18:36:52.026Z"
   },
   {
    "duration": 53,
    "start_time": "2024-07-08T18:36:52.039Z"
   },
   {
    "duration": 21,
    "start_time": "2024-07-08T18:36:52.095Z"
   },
   {
    "duration": 5,
    "start_time": "2024-07-08T18:36:52.120Z"
   },
   {
    "duration": 27,
    "start_time": "2024-07-08T18:37:57.145Z"
   },
   {
    "duration": 24,
    "start_time": "2024-07-08T18:38:03.162Z"
   },
   {
    "duration": 10,
    "start_time": "2024-07-08T18:38:31.343Z"
   },
   {
    "duration": 17,
    "start_time": "2024-07-08T18:38:35.341Z"
   },
   {
    "duration": 861,
    "start_time": "2024-07-08T18:38:57.467Z"
   },
   {
    "duration": 9,
    "start_time": "2024-07-08T18:40:52.319Z"
   },
   {
    "duration": 18,
    "start_time": "2024-07-08T18:40:52.848Z"
   },
   {
    "duration": 4,
    "start_time": "2024-07-08T18:40:57.031Z"
   },
   {
    "duration": 51,
    "start_time": "2024-07-08T18:40:57.040Z"
   },
   {
    "duration": 16,
    "start_time": "2024-07-08T18:40:57.093Z"
   },
   {
    "duration": 12,
    "start_time": "2024-07-08T18:40:57.111Z"
   },
   {
    "duration": 14,
    "start_time": "2024-07-08T18:40:57.128Z"
   },
   {
    "duration": 47,
    "start_time": "2024-07-08T18:40:57.146Z"
   },
   {
    "duration": 21,
    "start_time": "2024-07-08T18:40:57.197Z"
   },
   {
    "duration": 21,
    "start_time": "2024-07-08T18:40:57.222Z"
   },
   {
    "duration": 52,
    "start_time": "2024-07-08T18:40:57.246Z"
   },
   {
    "duration": 13,
    "start_time": "2024-07-08T18:40:57.301Z"
   },
   {
    "duration": 5,
    "start_time": "2024-07-08T18:40:57.317Z"
   },
   {
    "duration": 12,
    "start_time": "2024-07-08T18:40:57.326Z"
   },
   {
    "duration": 53,
    "start_time": "2024-07-08T18:40:57.341Z"
   },
   {
    "duration": 11,
    "start_time": "2024-07-08T18:40:57.401Z"
   },
   {
    "duration": 7,
    "start_time": "2024-07-08T18:40:57.415Z"
   },
   {
    "duration": 5,
    "start_time": "2024-07-08T18:40:57.425Z"
   },
   {
    "duration": 9,
    "start_time": "2024-07-08T18:40:57.433Z"
   },
   {
    "duration": 8,
    "start_time": "2024-07-08T18:40:57.492Z"
   },
   {
    "duration": 7,
    "start_time": "2024-07-08T18:40:57.503Z"
   },
   {
    "duration": 6,
    "start_time": "2024-07-08T18:40:57.514Z"
   },
   {
    "duration": 6,
    "start_time": "2024-07-08T18:40:57.523Z"
   },
   {
    "duration": 58,
    "start_time": "2024-07-08T18:40:57.532Z"
   },
   {
    "duration": 7,
    "start_time": "2024-07-08T18:40:57.593Z"
   },
   {
    "duration": 22,
    "start_time": "2024-07-08T18:40:57.603Z"
   },
   {
    "duration": 5,
    "start_time": "2024-07-08T18:40:57.628Z"
   },
   {
    "duration": 12,
    "start_time": "2024-07-08T18:40:57.636Z"
   },
   {
    "duration": 54,
    "start_time": "2024-07-08T18:40:57.650Z"
   },
   {
    "duration": 3,
    "start_time": "2024-07-08T18:43:46.862Z"
   },
   {
    "duration": 54,
    "start_time": "2024-07-08T18:43:46.868Z"
   },
   {
    "duration": 16,
    "start_time": "2024-07-08T18:43:46.926Z"
   },
   {
    "duration": 15,
    "start_time": "2024-07-08T18:43:46.945Z"
   },
   {
    "duration": 15,
    "start_time": "2024-07-08T18:43:46.992Z"
   },
   {
    "duration": 10,
    "start_time": "2024-07-08T18:43:47.012Z"
   },
   {
    "duration": 19,
    "start_time": "2024-07-08T18:43:47.026Z"
   },
   {
    "duration": 53,
    "start_time": "2024-07-08T18:43:47.049Z"
   },
   {
    "duration": 16,
    "start_time": "2024-07-08T18:43:47.105Z"
   },
   {
    "duration": 15,
    "start_time": "2024-07-08T18:43:47.126Z"
   },
   {
    "duration": 6,
    "start_time": "2024-07-08T18:43:47.191Z"
   },
   {
    "duration": 18,
    "start_time": "2024-07-08T18:43:47.201Z"
   },
   {
    "duration": 12,
    "start_time": "2024-07-08T18:43:47.224Z"
   },
   {
    "duration": 53,
    "start_time": "2024-07-08T18:43:47.239Z"
   },
   {
    "duration": 9,
    "start_time": "2024-07-08T18:43:47.296Z"
   },
   {
    "duration": 5,
    "start_time": "2024-07-08T18:43:47.308Z"
   },
   {
    "duration": 9,
    "start_time": "2024-07-08T18:43:47.316Z"
   },
   {
    "duration": 9,
    "start_time": "2024-07-08T18:43:47.329Z"
   },
   {
    "duration": 7,
    "start_time": "2024-07-08T18:43:47.392Z"
   },
   {
    "duration": 6,
    "start_time": "2024-07-08T18:43:47.403Z"
   },
   {
    "duration": 6,
    "start_time": "2024-07-08T18:43:47.413Z"
   },
   {
    "duration": 9,
    "start_time": "2024-07-08T18:43:47.423Z"
   },
   {
    "duration": 56,
    "start_time": "2024-07-08T18:43:47.436Z"
   },
   {
    "duration": 23,
    "start_time": "2024-07-08T18:43:47.495Z"
   },
   {
    "duration": 5,
    "start_time": "2024-07-08T18:43:47.522Z"
   },
   {
    "duration": 11,
    "start_time": "2024-07-08T18:43:47.532Z"
   },
   {
    "duration": 64,
    "start_time": "2024-07-08T18:43:47.546Z"
   },
   {
    "duration": 21,
    "start_time": "2024-07-08T18:44:13.881Z"
   },
   {
    "duration": 4,
    "start_time": "2024-07-08T18:44:25.274Z"
   },
   {
    "duration": 50,
    "start_time": "2024-07-08T18:44:25.283Z"
   },
   {
    "duration": 17,
    "start_time": "2024-07-08T18:44:25.336Z"
   },
   {
    "duration": 33,
    "start_time": "2024-07-08T18:44:25.357Z"
   },
   {
    "duration": 15,
    "start_time": "2024-07-08T18:44:25.396Z"
   },
   {
    "duration": 12,
    "start_time": "2024-07-08T18:44:25.415Z"
   },
   {
    "duration": 59,
    "start_time": "2024-07-08T18:44:25.430Z"
   },
   {
    "duration": 17,
    "start_time": "2024-07-08T18:44:25.492Z"
   },
   {
    "duration": 15,
    "start_time": "2024-07-08T18:44:25.513Z"
   },
   {
    "duration": 15,
    "start_time": "2024-07-08T18:44:25.531Z"
   },
   {
    "duration": 5,
    "start_time": "2024-07-08T18:44:25.591Z"
   },
   {
    "duration": 13,
    "start_time": "2024-07-08T18:44:25.601Z"
   },
   {
    "duration": 10,
    "start_time": "2024-07-08T18:44:25.616Z"
   },
   {
    "duration": 12,
    "start_time": "2024-07-08T18:44:25.634Z"
   },
   {
    "duration": 9,
    "start_time": "2024-07-08T18:44:25.690Z"
   },
   {
    "duration": 5,
    "start_time": "2024-07-08T18:44:25.704Z"
   },
   {
    "duration": 9,
    "start_time": "2024-07-08T18:44:25.713Z"
   },
   {
    "duration": 9,
    "start_time": "2024-07-08T18:44:25.725Z"
   },
   {
    "duration": 56,
    "start_time": "2024-07-08T18:44:25.738Z"
   },
   {
    "duration": 7,
    "start_time": "2024-07-08T18:44:25.797Z"
   },
   {
    "duration": 7,
    "start_time": "2024-07-08T18:44:25.807Z"
   },
   {
    "duration": 9,
    "start_time": "2024-07-08T18:44:25.817Z"
   },
   {
    "duration": 9,
    "start_time": "2024-07-08T18:44:25.829Z"
   },
   {
    "duration": 21,
    "start_time": "2024-07-08T18:44:25.891Z"
   },
   {
    "duration": 6,
    "start_time": "2024-07-08T18:44:25.915Z"
   },
   {
    "duration": 9,
    "start_time": "2024-07-08T18:44:25.924Z"
   },
   {
    "duration": 56,
    "start_time": "2024-07-08T18:44:25.936Z"
   },
   {
    "duration": 24,
    "start_time": "2024-07-08T18:44:30.963Z"
   },
   {
    "duration": 4,
    "start_time": "2024-07-08T18:53:41.441Z"
   },
   {
    "duration": 22,
    "start_time": "2024-07-08T18:54:14.586Z"
   },
   {
    "duration": 4,
    "start_time": "2024-07-08T18:54:33.198Z"
   },
   {
    "duration": 60,
    "start_time": "2024-07-08T18:54:33.207Z"
   },
   {
    "duration": 32,
    "start_time": "2024-07-08T18:54:33.270Z"
   },
   {
    "duration": 14,
    "start_time": "2024-07-08T18:54:33.306Z"
   },
   {
    "duration": 15,
    "start_time": "2024-07-08T18:54:33.325Z"
   },
   {
    "duration": 50,
    "start_time": "2024-07-08T18:54:33.344Z"
   },
   {
    "duration": 21,
    "start_time": "2024-07-08T18:54:33.398Z"
   },
   {
    "duration": 19,
    "start_time": "2024-07-08T18:54:33.424Z"
   },
   {
    "duration": 57,
    "start_time": "2024-07-08T18:54:33.446Z"
   },
   {
    "duration": 14,
    "start_time": "2024-07-08T18:54:33.508Z"
   },
   {
    "duration": 5,
    "start_time": "2024-07-08T18:54:33.526Z"
   },
   {
    "duration": 59,
    "start_time": "2024-07-08T18:54:33.535Z"
   },
   {
    "duration": 11,
    "start_time": "2024-07-08T18:54:33.597Z"
   },
   {
    "duration": 11,
    "start_time": "2024-07-08T18:54:33.615Z"
   },
   {
    "duration": 10,
    "start_time": "2024-07-08T18:54:33.630Z"
   },
   {
    "duration": 51,
    "start_time": "2024-07-08T18:54:33.643Z"
   },
   {
    "duration": 10,
    "start_time": "2024-07-08T18:54:33.698Z"
   },
   {
    "duration": 8,
    "start_time": "2024-07-08T18:54:33.711Z"
   },
   {
    "duration": 8,
    "start_time": "2024-07-08T18:54:33.722Z"
   },
   {
    "duration": 56,
    "start_time": "2024-07-08T18:54:33.734Z"
   },
   {
    "duration": 8,
    "start_time": "2024-07-08T18:54:33.793Z"
   },
   {
    "duration": 9,
    "start_time": "2024-07-08T18:54:33.804Z"
   },
   {
    "duration": 10,
    "start_time": "2024-07-08T18:54:33.817Z"
   },
   {
    "duration": 72,
    "start_time": "2024-07-08T18:54:33.830Z"
   },
   {
    "duration": 5,
    "start_time": "2024-07-08T18:54:33.906Z"
   },
   {
    "duration": 11,
    "start_time": "2024-07-08T18:54:33.916Z"
   },
   {
    "duration": 18,
    "start_time": "2024-07-08T18:54:33.930Z"
   },
   {
    "duration": 4,
    "start_time": "2024-07-08T18:54:33.990Z"
   },
   {
    "duration": 23,
    "start_time": "2024-07-08T18:54:33.998Z"
   },
   {
    "duration": 23,
    "start_time": "2024-07-08T18:54:46.725Z"
   },
   {
    "duration": 3,
    "start_time": "2024-07-08T18:56:43.682Z"
   },
   {
    "duration": 55,
    "start_time": "2024-07-08T18:56:43.690Z"
   },
   {
    "duration": 16,
    "start_time": "2024-07-08T18:56:43.749Z"
   },
   {
    "duration": 15,
    "start_time": "2024-07-08T18:56:43.792Z"
   },
   {
    "duration": 17,
    "start_time": "2024-07-08T18:56:43.812Z"
   },
   {
    "duration": 57,
    "start_time": "2024-07-08T18:56:43.833Z"
   },
   {
    "duration": 21,
    "start_time": "2024-07-08T18:56:43.893Z"
   },
   {
    "duration": 17,
    "start_time": "2024-07-08T18:56:43.917Z"
   },
   {
    "duration": 17,
    "start_time": "2024-07-08T18:56:43.938Z"
   },
   {
    "duration": 15,
    "start_time": "2024-07-08T18:56:43.992Z"
   },
   {
    "duration": 4,
    "start_time": "2024-07-08T18:56:44.014Z"
   },
   {
    "duration": 15,
    "start_time": "2024-07-08T18:56:44.021Z"
   },
   {
    "duration": 56,
    "start_time": "2024-07-08T18:56:44.040Z"
   },
   {
    "duration": 11,
    "start_time": "2024-07-08T18:56:44.099Z"
   },
   {
    "duration": 7,
    "start_time": "2024-07-08T18:56:44.113Z"
   },
   {
    "duration": 5,
    "start_time": "2024-07-08T18:56:44.123Z"
   },
   {
    "duration": 59,
    "start_time": "2024-07-08T18:56:44.131Z"
   },
   {
    "duration": 8,
    "start_time": "2024-07-08T18:56:44.193Z"
   },
   {
    "duration": 7,
    "start_time": "2024-07-08T18:56:44.205Z"
   },
   {
    "duration": 6,
    "start_time": "2024-07-08T18:56:44.215Z"
   },
   {
    "duration": 7,
    "start_time": "2024-07-08T18:56:44.225Z"
   },
   {
    "duration": 58,
    "start_time": "2024-07-08T18:56:44.235Z"
   },
   {
    "duration": 9,
    "start_time": "2024-07-08T18:56:44.296Z"
   },
   {
    "duration": 21,
    "start_time": "2024-07-08T18:56:44.308Z"
   },
   {
    "duration": 5,
    "start_time": "2024-07-08T18:56:44.333Z"
   },
   {
    "duration": 54,
    "start_time": "2024-07-08T18:56:44.341Z"
   },
   {
    "duration": 19,
    "start_time": "2024-07-08T18:56:44.397Z"
   },
   {
    "duration": 5,
    "start_time": "2024-07-08T18:56:44.419Z"
   },
   {
    "duration": 60,
    "start_time": "2024-07-08T18:56:44.432Z"
   },
   {
    "duration": 27,
    "start_time": "2024-07-08T18:56:55.582Z"
   },
   {
    "duration": 26,
    "start_time": "2024-07-08T18:57:09.540Z"
   },
   {
    "duration": 24,
    "start_time": "2024-07-08T21:00:26.028Z"
   },
   {
    "duration": 4,
    "start_time": "2024-07-08T21:00:29.826Z"
   },
   {
    "duration": 85,
    "start_time": "2024-07-08T21:00:29.843Z"
   },
   {
    "duration": 23,
    "start_time": "2024-07-08T21:00:29.932Z"
   },
   {
    "duration": 34,
    "start_time": "2024-07-08T21:00:29.959Z"
   },
   {
    "duration": 24,
    "start_time": "2024-07-08T21:00:30.001Z"
   },
   {
    "duration": 13,
    "start_time": "2024-07-08T21:00:30.029Z"
   },
   {
    "duration": 52,
    "start_time": "2024-07-08T21:00:30.046Z"
   },
   {
    "duration": 20,
    "start_time": "2024-07-08T21:00:30.102Z"
   },
   {
    "duration": 20,
    "start_time": "2024-07-08T21:00:30.125Z"
   },
   {
    "duration": 52,
    "start_time": "2024-07-08T21:00:30.150Z"
   },
   {
    "duration": 6,
    "start_time": "2024-07-08T21:00:30.206Z"
   },
   {
    "duration": 17,
    "start_time": "2024-07-08T21:00:30.215Z"
   },
   {
    "duration": 18,
    "start_time": "2024-07-08T21:00:30.236Z"
   },
   {
    "duration": 11,
    "start_time": "2024-07-08T21:00:30.295Z"
   },
   {
    "duration": 8,
    "start_time": "2024-07-08T21:00:30.310Z"
   },
   {
    "duration": 5,
    "start_time": "2024-07-08T21:00:30.322Z"
   },
   {
    "duration": 9,
    "start_time": "2024-07-08T21:00:30.330Z"
   },
   {
    "duration": 56,
    "start_time": "2024-07-08T21:00:30.342Z"
   },
   {
    "duration": 10,
    "start_time": "2024-07-08T21:00:30.403Z"
   },
   {
    "duration": 11,
    "start_time": "2024-07-08T21:00:30.416Z"
   },
   {
    "duration": 8,
    "start_time": "2024-07-08T21:00:30.432Z"
   },
   {
    "duration": 52,
    "start_time": "2024-07-08T21:00:30.445Z"
   },
   {
    "duration": 11,
    "start_time": "2024-07-08T21:00:30.501Z"
   },
   {
    "duration": 24,
    "start_time": "2024-07-08T21:00:30.517Z"
   },
   {
    "duration": 45,
    "start_time": "2024-07-08T21:00:30.545Z"
   },
   {
    "duration": 12,
    "start_time": "2024-07-08T21:00:30.594Z"
   },
   {
    "duration": 26,
    "start_time": "2024-07-08T21:00:30.608Z"
   },
   {
    "duration": 203,
    "start_time": "2024-07-08T21:00:30.637Z"
   },
   {
    "duration": 0,
    "start_time": "2024-07-08T21:00:30.845Z"
   },
   {
    "duration": 9,
    "start_time": "2024-07-08T21:00:39.337Z"
   },
   {
    "duration": 22,
    "start_time": "2024-07-08T21:00:40.046Z"
   },
   {
    "duration": 7,
    "start_time": "2024-07-08T21:07:09.735Z"
   },
   {
    "duration": 5,
    "start_time": "2024-07-08T21:07:14.729Z"
   },
   {
    "duration": 6,
    "start_time": "2024-07-08T21:07:19.905Z"
   },
   {
    "duration": 7,
    "start_time": "2024-07-08T21:07:33.670Z"
   },
   {
    "duration": 4,
    "start_time": "2024-07-08T21:07:38.906Z"
   },
   {
    "duration": 59,
    "start_time": "2024-07-08T21:07:38.914Z"
   },
   {
    "duration": 29,
    "start_time": "2024-07-08T21:07:38.976Z"
   },
   {
    "duration": 13,
    "start_time": "2024-07-08T21:07:39.010Z"
   },
   {
    "duration": 15,
    "start_time": "2024-07-08T21:07:39.029Z"
   },
   {
    "duration": 53,
    "start_time": "2024-07-08T21:07:39.048Z"
   },
   {
    "duration": 18,
    "start_time": "2024-07-08T21:07:39.104Z"
   },
   {
    "duration": 18,
    "start_time": "2024-07-08T21:07:39.126Z"
   },
   {
    "duration": 16,
    "start_time": "2024-07-08T21:07:39.192Z"
   },
   {
    "duration": 14,
    "start_time": "2024-07-08T21:07:39.212Z"
   },
   {
    "duration": 6,
    "start_time": "2024-07-08T21:07:39.230Z"
   },
   {
    "duration": 58,
    "start_time": "2024-07-08T21:07:39.241Z"
   },
   {
    "duration": 12,
    "start_time": "2024-07-08T21:07:39.303Z"
   },
   {
    "duration": 13,
    "start_time": "2024-07-08T21:07:39.322Z"
   },
   {
    "duration": 51,
    "start_time": "2024-07-08T21:07:39.340Z"
   },
   {
    "duration": 5,
    "start_time": "2024-07-08T21:07:39.395Z"
   },
   {
    "duration": 11,
    "start_time": "2024-07-08T21:07:39.403Z"
   },
   {
    "duration": 9,
    "start_time": "2024-07-08T21:07:39.417Z"
   },
   {
    "duration": 8,
    "start_time": "2024-07-08T21:07:39.430Z"
   },
   {
    "duration": 7,
    "start_time": "2024-07-08T21:07:39.492Z"
   },
   {
    "duration": 5,
    "start_time": "2024-07-08T21:07:39.503Z"
   },
   {
    "duration": 10,
    "start_time": "2024-07-08T21:07:39.511Z"
   },
   {
    "duration": 9,
    "start_time": "2024-07-08T21:07:39.525Z"
   },
   {
    "duration": 55,
    "start_time": "2024-07-08T21:07:39.538Z"
   },
   {
    "duration": 21,
    "start_time": "2024-07-08T21:07:39.597Z"
   },
   {
    "duration": 7,
    "start_time": "2024-07-08T21:07:39.622Z"
   },
   {
    "duration": 12,
    "start_time": "2024-07-08T21:07:39.632Z"
   },
   {
    "duration": 16,
    "start_time": "2024-07-08T21:07:39.692Z"
   },
   {
    "duration": 8,
    "start_time": "2024-07-08T21:07:39.712Z"
   },
   {
    "duration": 19,
    "start_time": "2024-07-08T21:07:39.723Z"
   },
   {
    "duration": 23,
    "start_time": "2024-07-08T21:07:53.288Z"
   },
   {
    "duration": 21,
    "start_time": "2024-07-08T21:08:20.668Z"
   },
   {
    "duration": 5,
    "start_time": "2024-07-08T21:08:34.467Z"
   },
   {
    "duration": 35,
    "start_time": "2024-07-08T21:08:34.597Z"
   },
   {
    "duration": 4,
    "start_time": "2024-07-08T21:08:49.573Z"
   },
   {
    "duration": 13,
    "start_time": "2024-07-08T21:08:50.062Z"
   },
   {
    "duration": 10,
    "start_time": "2024-07-08T21:09:37.926Z"
   },
   {
    "duration": 13,
    "start_time": "2024-07-08T21:09:54.372Z"
   },
   {
    "duration": 11,
    "start_time": "2024-07-08T21:10:02.486Z"
   },
   {
    "duration": 33,
    "start_time": "2024-07-08T21:19:08.135Z"
   },
   {
    "duration": 31,
    "start_time": "2024-07-08T21:19:14.520Z"
   },
   {
    "duration": 21,
    "start_time": "2024-07-08T21:19:32.414Z"
   },
   {
    "duration": 15,
    "start_time": "2024-07-08T21:20:29.475Z"
   },
   {
    "duration": 32,
    "start_time": "2024-07-08T21:20:37.355Z"
   },
   {
    "duration": 5,
    "start_time": "2024-07-08T22:05:15.444Z"
   },
   {
    "duration": 243,
    "start_time": "2024-07-08T22:05:40.568Z"
   },
   {
    "duration": 4,
    "start_time": "2024-07-08T22:06:16.740Z"
   },
   {
    "duration": 66,
    "start_time": "2024-07-08T22:06:16.748Z"
   },
   {
    "duration": 17,
    "start_time": "2024-07-08T22:06:16.818Z"
   },
   {
    "duration": 16,
    "start_time": "2024-07-08T22:06:16.840Z"
   },
   {
    "duration": 42,
    "start_time": "2024-07-08T22:06:16.859Z"
   },
   {
    "duration": 10,
    "start_time": "2024-07-08T22:06:16.903Z"
   },
   {
    "duration": 18,
    "start_time": "2024-07-08T22:06:16.917Z"
   },
   {
    "duration": 59,
    "start_time": "2024-07-08T22:06:16.938Z"
   },
   {
    "duration": 15,
    "start_time": "2024-07-08T22:06:17.000Z"
   },
   {
    "duration": 14,
    "start_time": "2024-07-08T22:06:17.020Z"
   },
   {
    "duration": 5,
    "start_time": "2024-07-08T22:06:17.038Z"
   },
   {
    "duration": 54,
    "start_time": "2024-07-08T22:06:17.046Z"
   },
   {
    "duration": 10,
    "start_time": "2024-07-08T22:06:17.103Z"
   },
   {
    "duration": 10,
    "start_time": "2024-07-08T22:06:17.116Z"
   },
   {
    "duration": 7,
    "start_time": "2024-07-08T22:06:17.129Z"
   },
   {
    "duration": 54,
    "start_time": "2024-07-08T22:06:17.140Z"
   },
   {
    "duration": 11,
    "start_time": "2024-07-08T22:06:17.197Z"
   },
   {
    "duration": 7,
    "start_time": "2024-07-08T22:06:17.212Z"
   },
   {
    "duration": 8,
    "start_time": "2024-07-08T22:06:17.222Z"
   },
   {
    "duration": 8,
    "start_time": "2024-07-08T22:06:17.233Z"
   },
   {
    "duration": 49,
    "start_time": "2024-07-08T22:06:17.244Z"
   },
   {
    "duration": 12,
    "start_time": "2024-07-08T22:06:17.297Z"
   },
   {
    "duration": 8,
    "start_time": "2024-07-08T22:06:17.312Z"
   },
   {
    "duration": 10,
    "start_time": "2024-07-08T22:06:17.323Z"
   },
   {
    "duration": 7,
    "start_time": "2024-07-08T22:06:17.335Z"
   },
   {
    "duration": 7,
    "start_time": "2024-07-08T22:06:17.392Z"
   },
   {
    "duration": 9,
    "start_time": "2024-07-08T22:06:17.402Z"
   },
   {
    "duration": 7,
    "start_time": "2024-07-08T22:06:17.418Z"
   },
   {
    "duration": 62,
    "start_time": "2024-07-08T22:06:17.428Z"
   },
   {
    "duration": 6,
    "start_time": "2024-07-08T22:06:17.493Z"
   },
   {
    "duration": 10,
    "start_time": "2024-07-08T22:06:17.502Z"
   },
   {
    "duration": 15,
    "start_time": "2024-07-08T22:06:17.515Z"
   },
   {
    "duration": 8,
    "start_time": "2024-07-08T22:06:17.533Z"
   },
   {
    "duration": 53,
    "start_time": "2024-07-08T22:06:17.544Z"
   },
   {
    "duration": 33,
    "start_time": "2024-07-08T22:06:17.600Z"
   },
   {
    "duration": 63,
    "start_time": "2024-07-08T22:06:17.635Z"
   },
   {
    "duration": 23,
    "start_time": "2024-07-08T22:06:17.702Z"
   },
   {
    "duration": 16,
    "start_time": "2024-07-08T22:06:17.728Z"
   },
   {
    "duration": 59,
    "start_time": "2024-07-08T22:06:17.746Z"
   },
   {
    "duration": 4,
    "start_time": "2024-07-08T22:06:17.812Z"
   },
   {
    "duration": 120,
    "start_time": "2024-07-08T22:06:17.819Z"
   },
   {
    "duration": 22,
    "start_time": "2024-07-08T22:06:17.943Z"
   },
   {
    "duration": 29,
    "start_time": "2024-07-08T22:06:28.227Z"
   },
   {
    "duration": 22,
    "start_time": "2024-07-08T22:09:30.067Z"
   },
   {
    "duration": 3,
    "start_time": "2024-07-08T22:09:34.930Z"
   },
   {
    "duration": 4,
    "start_time": "2024-07-08T22:09:35.253Z"
   },
   {
    "duration": 4,
    "start_time": "2024-07-08T22:10:18.173Z"
   },
   {
    "duration": 20,
    "start_time": "2024-07-08T22:13:02.753Z"
   },
   {
    "duration": 26,
    "start_time": "2024-07-08T22:14:26.742Z"
   },
   {
    "duration": 4,
    "start_time": "2024-07-08T22:17:16.775Z"
   },
   {
    "duration": 4508,
    "start_time": "2024-07-08T22:17:16.783Z"
   },
   {
    "duration": 53,
    "start_time": "2024-07-08T22:17:21.294Z"
   },
   {
    "duration": 16,
    "start_time": "2024-07-08T22:17:21.349Z"
   },
   {
    "duration": 29,
    "start_time": "2024-07-08T22:17:21.370Z"
   },
   {
    "duration": 15,
    "start_time": "2024-07-08T22:17:21.403Z"
   },
   {
    "duration": 10,
    "start_time": "2024-07-08T22:17:21.421Z"
   },
   {
    "duration": 59,
    "start_time": "2024-07-08T22:17:21.433Z"
   },
   {
    "duration": 15,
    "start_time": "2024-07-08T22:17:21.495Z"
   },
   {
    "duration": 16,
    "start_time": "2024-07-08T22:17:21.513Z"
   },
   {
    "duration": 57,
    "start_time": "2024-07-08T22:17:21.532Z"
   },
   {
    "duration": 9,
    "start_time": "2024-07-08T22:17:21.593Z"
   },
   {
    "duration": 16,
    "start_time": "2024-07-08T22:17:21.606Z"
   },
   {
    "duration": 9,
    "start_time": "2024-07-08T22:17:21.630Z"
   },
   {
    "duration": 52,
    "start_time": "2024-07-08T22:17:21.643Z"
   },
   {
    "duration": 7,
    "start_time": "2024-07-08T22:17:21.699Z"
   },
   {
    "duration": 5,
    "start_time": "2024-07-08T22:17:21.709Z"
   },
   {
    "duration": 9,
    "start_time": "2024-07-08T22:17:21.716Z"
   },
   {
    "duration": 8,
    "start_time": "2024-07-08T22:17:21.729Z"
   },
   {
    "duration": 8,
    "start_time": "2024-07-08T22:17:21.790Z"
   },
   {
    "duration": 5,
    "start_time": "2024-07-08T22:17:21.802Z"
   },
   {
    "duration": 4,
    "start_time": "2024-07-08T22:17:21.811Z"
   },
   {
    "duration": 14,
    "start_time": "2024-07-08T22:17:21.818Z"
   },
   {
    "duration": 56,
    "start_time": "2024-07-08T22:17:21.835Z"
   },
   {
    "duration": 11,
    "start_time": "2024-07-08T22:17:21.893Z"
   },
   {
    "duration": 6,
    "start_time": "2024-07-08T22:17:21.908Z"
   },
   {
    "duration": 7,
    "start_time": "2024-07-08T22:17:21.917Z"
   },
   {
    "duration": 9,
    "start_time": "2024-07-08T22:17:21.927Z"
   },
   {
    "duration": 59,
    "start_time": "2024-07-08T22:17:21.939Z"
   },
   {
    "duration": 20,
    "start_time": "2024-07-08T22:17:22.001Z"
   },
   {
    "duration": 5,
    "start_time": "2024-07-08T22:17:22.025Z"
   },
   {
    "duration": 11,
    "start_time": "2024-07-08T22:17:22.034Z"
   },
   {
    "duration": 17,
    "start_time": "2024-07-08T22:17:22.091Z"
   },
   {
    "duration": 7,
    "start_time": "2024-07-08T22:17:22.111Z"
   },
   {
    "duration": 17,
    "start_time": "2024-07-08T22:17:22.122Z"
   },
   {
    "duration": 71,
    "start_time": "2024-07-08T22:17:22.142Z"
   },
   {
    "duration": 31,
    "start_time": "2024-07-08T22:17:22.216Z"
   },
   {
    "duration": 45,
    "start_time": "2024-07-08T22:17:22.250Z"
   },
   {
    "duration": 18,
    "start_time": "2024-07-08T22:17:22.298Z"
   },
   {
    "duration": 25,
    "start_time": "2024-07-08T22:17:22.319Z"
   },
   {
    "duration": 4,
    "start_time": "2024-07-08T22:17:22.352Z"
   },
   {
    "duration": 3,
    "start_time": "2024-07-08T22:17:22.390Z"
   },
   {
    "duration": 110,
    "start_time": "2024-07-08T22:17:22.397Z"
   },
   {
    "duration": 23,
    "start_time": "2024-07-08T22:17:22.511Z"
   },
   {
    "duration": 26,
    "start_time": "2024-07-08T22:17:22.537Z"
   },
   {
    "duration": 45,
    "start_time": "2024-07-08T22:17:22.566Z"
   },
   {
    "duration": 26,
    "start_time": "2024-07-08T22:17:22.614Z"
   },
   {
    "duration": 7,
    "start_time": "2024-07-08T22:17:22.643Z"
   },
   {
    "duration": 393,
    "start_time": "2024-07-08T22:24:59.061Z"
   },
   {
    "duration": 217,
    "start_time": "2024-07-08T22:29:26.301Z"
   },
   {
    "duration": 141,
    "start_time": "2024-07-08T22:29:39.239Z"
   },
   {
    "duration": 30,
    "start_time": "2024-07-08T22:31:20.754Z"
   },
   {
    "duration": 6,
    "start_time": "2024-07-08T22:32:40.867Z"
   },
   {
    "duration": 6,
    "start_time": "2024-07-08T22:33:00.619Z"
   },
   {
    "duration": 25,
    "start_time": "2024-07-08T22:33:26.327Z"
   },
   {
    "duration": 3,
    "start_time": "2024-07-08T22:33:47.447Z"
   },
   {
    "duration": 5,
    "start_time": "2024-07-08T22:33:54.768Z"
   },
   {
    "duration": 4,
    "start_time": "2024-07-08T22:34:35.314Z"
   },
   {
    "duration": 4,
    "start_time": "2024-07-08T22:35:09.434Z"
   },
   {
    "duration": 5,
    "start_time": "2024-07-08T22:35:09.672Z"
   },
   {
    "duration": 5,
    "start_time": "2024-07-08T22:35:09.995Z"
   },
   {
    "duration": 5,
    "start_time": "2024-07-08T22:35:36.476Z"
   },
   {
    "duration": 57,
    "start_time": "2024-07-08T22:36:25.449Z"
   },
   {
    "duration": 12,
    "start_time": "2024-07-08T22:36:25.619Z"
   },
   {
    "duration": 6,
    "start_time": "2024-07-08T22:36:38.169Z"
   },
   {
    "duration": 6,
    "start_time": "2024-07-08T22:36:39.216Z"
   },
   {
    "duration": 5,
    "start_time": "2024-07-08T22:37:15.484Z"
   },
   {
    "duration": 6,
    "start_time": "2024-07-08T22:37:16.177Z"
   },
   {
    "duration": 6,
    "start_time": "2024-07-08T22:37:45.451Z"
   },
   {
    "duration": 6,
    "start_time": "2024-07-08T22:37:45.774Z"
   },
   {
    "duration": 10,
    "start_time": "2024-07-08T22:37:52.493Z"
   },
   {
    "duration": 7,
    "start_time": "2024-07-08T22:37:54.166Z"
   },
   {
    "duration": 236,
    "start_time": "2024-07-08T22:42:48.664Z"
   },
   {
    "duration": 199,
    "start_time": "2024-07-08T22:44:09.143Z"
   },
   {
    "duration": 202,
    "start_time": "2024-07-08T22:44:44.515Z"
   },
   {
    "duration": 203,
    "start_time": "2024-07-08T22:51:20.547Z"
   },
   {
    "duration": 358,
    "start_time": "2024-07-08T22:51:23.263Z"
   },
   {
    "duration": 222,
    "start_time": "2024-07-08T22:51:25.587Z"
   },
   {
    "duration": 224,
    "start_time": "2024-07-08T22:51:28.870Z"
   },
   {
    "duration": 214,
    "start_time": "2024-07-08T22:51:31.628Z"
   },
   {
    "duration": 206,
    "start_time": "2024-07-08T22:51:33.862Z"
   },
   {
    "duration": 211,
    "start_time": "2024-07-08T22:52:12.820Z"
   },
   {
    "duration": 198,
    "start_time": "2024-07-08T22:52:21.678Z"
   },
   {
    "duration": 3,
    "start_time": "2024-07-08T22:57:07.883Z"
   },
   {
    "duration": 5,
    "start_time": "2024-07-08T22:57:07.892Z"
   },
   {
    "duration": 93,
    "start_time": "2024-07-08T22:57:07.902Z"
   },
   {
    "duration": 15,
    "start_time": "2024-07-08T22:57:07.998Z"
   },
   {
    "duration": 13,
    "start_time": "2024-07-08T22:57:08.016Z"
   },
   {
    "duration": 14,
    "start_time": "2024-07-08T22:57:08.036Z"
   },
   {
    "duration": 10,
    "start_time": "2024-07-08T22:57:08.092Z"
   },
   {
    "duration": 17,
    "start_time": "2024-07-08T22:57:08.105Z"
   },
   {
    "duration": 17,
    "start_time": "2024-07-08T22:57:08.125Z"
   },
   {
    "duration": 57,
    "start_time": "2024-07-08T22:57:08.145Z"
   },
   {
    "duration": 13,
    "start_time": "2024-07-08T22:57:08.205Z"
   },
   {
    "duration": 5,
    "start_time": "2024-07-08T22:57:08.221Z"
   },
   {
    "duration": 13,
    "start_time": "2024-07-08T22:57:08.229Z"
   },
   {
    "duration": 52,
    "start_time": "2024-07-08T22:57:08.245Z"
   },
   {
    "duration": 10,
    "start_time": "2024-07-08T22:57:08.305Z"
   },
   {
    "duration": 8,
    "start_time": "2024-07-08T22:57:08.318Z"
   },
   {
    "duration": 5,
    "start_time": "2024-07-08T22:57:08.328Z"
   },
   {
    "duration": 57,
    "start_time": "2024-07-08T22:57:08.336Z"
   },
   {
    "duration": 8,
    "start_time": "2024-07-08T22:57:08.396Z"
   },
   {
    "duration": 8,
    "start_time": "2024-07-08T22:57:08.407Z"
   },
   {
    "duration": 7,
    "start_time": "2024-07-08T22:57:08.418Z"
   },
   {
    "duration": 5,
    "start_time": "2024-07-08T22:57:08.428Z"
   },
   {
    "duration": 65,
    "start_time": "2024-07-08T22:57:08.435Z"
   },
   {
    "duration": 11,
    "start_time": "2024-07-08T22:57:08.503Z"
   },
   {
    "duration": 18,
    "start_time": "2024-07-08T22:57:08.518Z"
   },
   {
    "duration": 7,
    "start_time": "2024-07-08T22:57:08.539Z"
   },
   {
    "duration": 6,
    "start_time": "2024-07-08T22:57:08.592Z"
   },
   {
    "duration": 10,
    "start_time": "2024-07-08T22:57:08.602Z"
   },
   {
    "duration": 6,
    "start_time": "2024-07-08T22:57:08.615Z"
   },
   {
    "duration": 21,
    "start_time": "2024-07-08T22:57:08.625Z"
   },
   {
    "duration": 47,
    "start_time": "2024-07-08T22:57:08.648Z"
   },
   {
    "duration": 16,
    "start_time": "2024-07-08T22:57:08.698Z"
   },
   {
    "duration": 15,
    "start_time": "2024-07-08T22:57:08.717Z"
   },
   {
    "duration": 9,
    "start_time": "2024-07-08T22:57:08.735Z"
   },
   {
    "duration": 47,
    "start_time": "2024-07-08T22:57:08.746Z"
   },
   {
    "duration": 36,
    "start_time": "2024-07-08T22:57:08.797Z"
   },
   {
    "duration": 63,
    "start_time": "2024-07-08T22:57:08.836Z"
   },
   {
    "duration": 23,
    "start_time": "2024-07-08T22:57:08.902Z"
   },
   {
    "duration": 14,
    "start_time": "2024-07-08T22:57:08.928Z"
   },
   {
    "duration": 61,
    "start_time": "2024-07-08T22:57:08.946Z"
   },
   {
    "duration": 5,
    "start_time": "2024-07-08T22:57:09.010Z"
   },
   {
    "duration": 3,
    "start_time": "2024-07-08T22:57:09.024Z"
   },
   {
    "duration": 116,
    "start_time": "2024-07-08T22:57:09.030Z"
   },
   {
    "duration": 19,
    "start_time": "2024-07-08T22:57:09.149Z"
   },
   {
    "duration": 43,
    "start_time": "2024-07-08T22:57:09.170Z"
   },
   {
    "duration": 20,
    "start_time": "2024-07-08T22:57:09.216Z"
   },
   {
    "duration": 57,
    "start_time": "2024-07-08T22:57:09.240Z"
   },
   {
    "duration": 143,
    "start_time": "2024-07-08T22:57:09.301Z"
   },
   {
    "duration": 6,
    "start_time": "2024-07-08T22:57:09.447Z"
   },
   {
    "duration": 6,
    "start_time": "2024-07-08T22:57:09.455Z"
   },
   {
    "duration": 226,
    "start_time": "2024-07-08T22:57:09.464Z"
   },
   {
    "duration": 215,
    "start_time": "2024-07-08T22:57:09.694Z"
   },
   {
    "duration": 296,
    "start_time": "2024-07-08T22:57:09.914Z"
   },
   {
    "duration": 276,
    "start_time": "2024-07-08T22:57:10.214Z"
   },
   {
    "duration": 219,
    "start_time": "2024-07-08T22:57:10.494Z"
   },
   {
    "duration": 212,
    "start_time": "2024-07-08T22:57:10.716Z"
   },
   {
    "duration": 236,
    "start_time": "2024-07-08T22:57:10.931Z"
   },
   {
    "duration": 213,
    "start_time": "2024-07-08T22:57:11.169Z"
   },
   {
    "duration": 4,
    "start_time": "2024-07-08T22:57:11.390Z"
   },
   {
    "duration": 236,
    "start_time": "2024-07-08T23:00:40.580Z"
   },
   {
    "duration": 210,
    "start_time": "2024-07-08T23:03:04.318Z"
   },
   {
    "duration": 208,
    "start_time": "2024-07-08T23:03:13.533Z"
   },
   {
    "duration": 194,
    "start_time": "2024-07-08T23:03:19.216Z"
   },
   {
    "duration": 240,
    "start_time": "2024-07-08T23:03:30.122Z"
   },
   {
    "duration": 257,
    "start_time": "2024-07-08T23:03:34.388Z"
   },
   {
    "duration": 272,
    "start_time": "2024-07-08T23:03:41.082Z"
   },
   {
    "duration": 203,
    "start_time": "2024-07-08T23:04:47.926Z"
   },
   {
    "duration": 29,
    "start_time": "2024-07-08T23:21:02.751Z"
   },
   {
    "duration": 3,
    "start_time": "2024-07-08T23:21:07.573Z"
   },
   {
    "duration": 26,
    "start_time": "2024-07-08T23:21:08.330Z"
   },
   {
    "duration": 6,
    "start_time": "2024-07-08T23:21:18.639Z"
   },
   {
    "duration": 4,
    "start_time": "2024-07-08T23:21:25.783Z"
   },
   {
    "duration": 29,
    "start_time": "2024-07-08T23:21:35.609Z"
   },
   {
    "duration": 4,
    "start_time": "2024-07-08T23:22:08.519Z"
   },
   {
    "duration": 28,
    "start_time": "2024-07-08T23:22:08.858Z"
   },
   {
    "duration": 4,
    "start_time": "2024-07-08T23:22:24.987Z"
   },
   {
    "duration": 4,
    "start_time": "2024-07-08T23:22:24.995Z"
   },
   {
    "duration": 96,
    "start_time": "2024-07-08T23:22:25.003Z"
   },
   {
    "duration": 16,
    "start_time": "2024-07-08T23:22:25.102Z"
   },
   {
    "duration": 12,
    "start_time": "2024-07-08T23:22:25.123Z"
   },
   {
    "duration": 15,
    "start_time": "2024-07-08T23:22:25.138Z"
   },
   {
    "duration": 10,
    "start_time": "2024-07-08T23:22:25.192Z"
   },
   {
    "duration": 17,
    "start_time": "2024-07-08T23:22:25.208Z"
   },
   {
    "duration": 16,
    "start_time": "2024-07-08T23:22:25.228Z"
   },
   {
    "duration": 56,
    "start_time": "2024-07-08T23:22:25.248Z"
   },
   {
    "duration": 18,
    "start_time": "2024-07-08T23:22:25.307Z"
   },
   {
    "duration": 6,
    "start_time": "2024-07-08T23:22:25.331Z"
   },
   {
    "duration": 55,
    "start_time": "2024-07-08T23:22:25.341Z"
   },
   {
    "duration": 10,
    "start_time": "2024-07-08T23:22:25.404Z"
   },
   {
    "duration": 13,
    "start_time": "2024-07-08T23:22:25.417Z"
   },
   {
    "duration": 8,
    "start_time": "2024-07-08T23:22:25.433Z"
   },
   {
    "duration": 49,
    "start_time": "2024-07-08T23:22:25.445Z"
   },
   {
    "duration": 8,
    "start_time": "2024-07-08T23:22:25.498Z"
   },
   {
    "duration": 9,
    "start_time": "2024-07-08T23:22:25.509Z"
   },
   {
    "duration": 8,
    "start_time": "2024-07-08T23:22:25.521Z"
   },
   {
    "duration": 7,
    "start_time": "2024-07-08T23:22:25.532Z"
   },
   {
    "duration": 4,
    "start_time": "2024-07-08T23:22:25.591Z"
   },
   {
    "duration": 11,
    "start_time": "2024-07-08T23:22:25.599Z"
   },
   {
    "duration": 9,
    "start_time": "2024-07-08T23:22:25.614Z"
   },
   {
    "duration": 10,
    "start_time": "2024-07-08T23:22:25.626Z"
   },
   {
    "duration": 55,
    "start_time": "2024-07-08T23:22:25.639Z"
   },
   {
    "duration": 7,
    "start_time": "2024-07-08T23:22:25.696Z"
   },
   {
    "duration": 9,
    "start_time": "2024-07-08T23:22:25.707Z"
   },
   {
    "duration": 8,
    "start_time": "2024-07-08T23:22:25.718Z"
   },
   {
    "duration": 68,
    "start_time": "2024-07-08T23:22:25.729Z"
   },
   {
    "duration": 5,
    "start_time": "2024-07-08T23:22:25.800Z"
   },
   {
    "duration": 11,
    "start_time": "2024-07-08T23:22:25.809Z"
   },
   {
    "duration": 17,
    "start_time": "2024-07-08T23:22:25.822Z"
   },
   {
    "duration": 48,
    "start_time": "2024-07-08T23:22:25.842Z"
   },
   {
    "duration": 17,
    "start_time": "2024-07-08T23:22:25.893Z"
   },
   {
    "duration": 34,
    "start_time": "2024-07-08T23:22:25.913Z"
   },
   {
    "duration": 62,
    "start_time": "2024-07-08T23:22:25.950Z"
   },
   {
    "duration": 21,
    "start_time": "2024-07-08T23:22:26.015Z"
   },
   {
    "duration": 14,
    "start_time": "2024-07-08T23:22:26.040Z"
   },
   {
    "duration": 57,
    "start_time": "2024-07-08T23:22:26.057Z"
   },
   {
    "duration": 5,
    "start_time": "2024-07-08T23:22:26.122Z"
   },
   {
    "duration": 5,
    "start_time": "2024-07-08T23:22:26.129Z"
   },
   {
    "duration": 121,
    "start_time": "2024-07-08T23:22:26.137Z"
   },
   {
    "duration": 31,
    "start_time": "2024-07-08T23:22:26.261Z"
   },
   {
    "duration": 25,
    "start_time": "2024-07-08T23:22:26.295Z"
   },
   {
    "duration": 20,
    "start_time": "2024-07-08T23:22:26.323Z"
   },
   {
    "duration": 60,
    "start_time": "2024-07-08T23:22:26.346Z"
   },
   {
    "duration": 156,
    "start_time": "2024-07-08T23:22:26.409Z"
   },
   {
    "duration": 9,
    "start_time": "2024-07-08T23:22:26.568Z"
   },
   {
    "duration": 6,
    "start_time": "2024-07-08T23:22:26.592Z"
   },
   {
    "duration": 217,
    "start_time": "2024-07-08T23:22:26.601Z"
   },
   {
    "duration": 236,
    "start_time": "2024-07-08T23:22:26.821Z"
   },
   {
    "duration": 237,
    "start_time": "2024-07-08T23:22:27.060Z"
   },
   {
    "duration": 221,
    "start_time": "2024-07-08T23:22:27.300Z"
   },
   {
    "duration": 229,
    "start_time": "2024-07-08T23:22:27.524Z"
   },
   {
    "duration": 213,
    "start_time": "2024-07-08T23:22:27.755Z"
   },
   {
    "duration": 419,
    "start_time": "2024-07-08T23:22:27.971Z"
   },
   {
    "duration": 215,
    "start_time": "2024-07-08T23:22:28.393Z"
   },
   {
    "duration": 228,
    "start_time": "2024-07-08T23:22:28.611Z"
   },
   {
    "duration": 227,
    "start_time": "2024-07-08T23:22:28.842Z"
   },
   {
    "duration": 205,
    "start_time": "2024-07-08T23:22:29.075Z"
   },
   {
    "duration": 262,
    "start_time": "2024-07-08T23:22:29.290Z"
   },
   {
    "duration": 5,
    "start_time": "2024-07-08T23:22:29.555Z"
   },
   {
    "duration": 45,
    "start_time": "2024-07-08T23:22:29.563Z"
   },
   {
    "duration": 4,
    "start_time": "2024-07-08T23:22:55.652Z"
   },
   {
    "duration": 24,
    "start_time": "2024-07-08T23:22:56.125Z"
   },
   {
    "duration": 272,
    "start_time": "2024-07-08T23:23:54.012Z"
   },
   {
    "duration": 27,
    "start_time": "2024-07-08T23:24:06.059Z"
   },
   {
    "duration": 26,
    "start_time": "2024-07-08T23:24:58.236Z"
   },
   {
    "duration": 73,
    "start_time": "2024-07-08T23:25:33.729Z"
   },
   {
    "duration": 71,
    "start_time": "2024-07-08T23:26:37.870Z"
   },
   {
    "duration": 33,
    "start_time": "2024-07-08T23:26:50.324Z"
   },
   {
    "duration": 27,
    "start_time": "2024-07-08T23:30:10.417Z"
   },
   {
    "duration": 14,
    "start_time": "2024-07-08T23:31:06.412Z"
   },
   {
    "duration": 18,
    "start_time": "2024-07-08T23:31:07.686Z"
   },
   {
    "duration": 3,
    "start_time": "2024-07-08T23:31:09.961Z"
   },
   {
    "duration": 4,
    "start_time": "2024-07-08T23:31:09.968Z"
   },
   {
    "duration": 53,
    "start_time": "2024-07-08T23:31:09.975Z"
   },
   {
    "duration": 16,
    "start_time": "2024-07-08T23:31:10.030Z"
   },
   {
    "duration": 51,
    "start_time": "2024-07-08T23:31:10.052Z"
   },
   {
    "duration": 15,
    "start_time": "2024-07-08T23:31:10.106Z"
   },
   {
    "duration": 10,
    "start_time": "2024-07-08T23:31:10.125Z"
   },
   {
    "duration": 51,
    "start_time": "2024-07-08T23:31:10.139Z"
   },
   {
    "duration": 16,
    "start_time": "2024-07-08T23:31:10.193Z"
   },
   {
    "duration": 16,
    "start_time": "2024-07-08T23:31:10.211Z"
   },
   {
    "duration": 14,
    "start_time": "2024-07-08T23:31:10.231Z"
   },
   {
    "duration": 45,
    "start_time": "2024-07-08T23:31:10.248Z"
   },
   {
    "duration": 13,
    "start_time": "2024-07-08T23:31:10.296Z"
   },
   {
    "duration": 9,
    "start_time": "2024-07-08T23:31:10.317Z"
   },
   {
    "duration": 11,
    "start_time": "2024-07-08T23:31:10.329Z"
   },
   {
    "duration": 52,
    "start_time": "2024-07-08T23:31:10.343Z"
   },
   {
    "duration": 7,
    "start_time": "2024-07-08T23:31:10.398Z"
   },
   {
    "duration": 8,
    "start_time": "2024-07-08T23:31:10.409Z"
   },
   {
    "duration": 8,
    "start_time": "2024-07-08T23:31:10.420Z"
   },
   {
    "duration": 9,
    "start_time": "2024-07-08T23:31:10.431Z"
   },
   {
    "duration": 54,
    "start_time": "2024-07-08T23:31:10.442Z"
   },
   {
    "duration": 5,
    "start_time": "2024-07-08T23:31:10.499Z"
   },
   {
    "duration": 12,
    "start_time": "2024-07-08T23:31:10.507Z"
   },
   {
    "duration": 8,
    "start_time": "2024-07-08T23:31:10.522Z"
   },
   {
    "duration": 63,
    "start_time": "2024-07-08T23:31:10.532Z"
   },
   {
    "duration": 7,
    "start_time": "2024-07-08T23:31:10.597Z"
   },
   {
    "duration": 7,
    "start_time": "2024-07-08T23:31:10.608Z"
   },
   {
    "duration": 9,
    "start_time": "2024-07-08T23:31:10.619Z"
   },
   {
    "duration": 8,
    "start_time": "2024-07-08T23:31:10.631Z"
   },
   {
    "duration": 22,
    "start_time": "2024-07-08T23:31:10.691Z"
   },
   {
    "duration": 6,
    "start_time": "2024-07-08T23:31:10.716Z"
   },
   {
    "duration": 11,
    "start_time": "2024-07-08T23:31:10.726Z"
   },
   {
    "duration": 55,
    "start_time": "2024-07-08T23:31:10.741Z"
   },
   {
    "duration": 8,
    "start_time": "2024-07-08T23:31:10.799Z"
   },
   {
    "duration": 19,
    "start_time": "2024-07-08T23:31:10.811Z"
   },
   {
    "duration": 72,
    "start_time": "2024-07-08T23:31:10.834Z"
   },
   {
    "duration": 31,
    "start_time": "2024-07-08T23:31:10.909Z"
   },
   {
    "duration": 53,
    "start_time": "2024-07-08T23:31:10.943Z"
   },
   {
    "duration": 15,
    "start_time": "2024-07-08T23:31:10.999Z"
   },
   {
    "duration": 27,
    "start_time": "2024-07-08T23:31:11.017Z"
   },
   {
    "duration": 37,
    "start_time": "2024-07-08T23:31:11.053Z"
   },
   {
    "duration": 4,
    "start_time": "2024-07-08T23:31:11.094Z"
   },
   {
    "duration": 8,
    "start_time": "2024-07-08T23:31:11.101Z"
   },
   {
    "duration": 19,
    "start_time": "2024-07-08T23:31:11.112Z"
   },
   {
    "duration": 65,
    "start_time": "2024-07-08T23:31:11.134Z"
   },
   {
    "duration": 20,
    "start_time": "2024-07-08T23:31:11.202Z"
   },
   {
    "duration": 26,
    "start_time": "2024-07-08T23:31:11.226Z"
   },
   {
    "duration": 180,
    "start_time": "2024-07-08T23:31:11.254Z"
   },
   {
    "duration": 7,
    "start_time": "2024-07-08T23:31:11.437Z"
   },
   {
    "duration": 6,
    "start_time": "2024-07-08T23:31:11.447Z"
   },
   {
    "duration": 220,
    "start_time": "2024-07-08T23:31:11.456Z"
   },
   {
    "duration": 220,
    "start_time": "2024-07-08T23:31:11.680Z"
   },
   {
    "duration": 250,
    "start_time": "2024-07-08T23:31:11.904Z"
   },
   {
    "duration": 220,
    "start_time": "2024-07-08T23:31:12.157Z"
   },
   {
    "duration": 229,
    "start_time": "2024-07-08T23:31:12.381Z"
   },
   {
    "duration": 222,
    "start_time": "2024-07-08T23:31:12.613Z"
   },
   {
    "duration": 222,
    "start_time": "2024-07-08T23:31:12.841Z"
   },
   {
    "duration": 225,
    "start_time": "2024-07-08T23:31:13.067Z"
   },
   {
    "duration": 210,
    "start_time": "2024-07-08T23:31:13.298Z"
   },
   {
    "duration": 224,
    "start_time": "2024-07-08T23:31:13.511Z"
   },
   {
    "duration": 214,
    "start_time": "2024-07-08T23:31:13.738Z"
   },
   {
    "duration": 292,
    "start_time": "2024-07-08T23:31:13.955Z"
   },
   {
    "duration": 4,
    "start_time": "2024-07-08T23:31:14.250Z"
   },
   {
    "duration": 46,
    "start_time": "2024-07-08T23:31:14.257Z"
   },
   {
    "duration": 87,
    "start_time": "2024-07-08T23:31:14.306Z"
   },
   {
    "duration": 0,
    "start_time": "2024-07-08T23:31:14.397Z"
   },
   {
    "duration": 4,
    "start_time": "2024-07-08T23:32:50.601Z"
   },
   {
    "duration": 4,
    "start_time": "2024-07-08T23:32:50.609Z"
   },
   {
    "duration": 81,
    "start_time": "2024-07-08T23:32:50.616Z"
   },
   {
    "duration": 15,
    "start_time": "2024-07-08T23:32:50.700Z"
   },
   {
    "duration": 12,
    "start_time": "2024-07-08T23:32:50.720Z"
   },
   {
    "duration": 17,
    "start_time": "2024-07-08T23:32:50.736Z"
   },
   {
    "duration": 42,
    "start_time": "2024-07-08T23:32:50.756Z"
   },
   {
    "duration": 16,
    "start_time": "2024-07-08T23:32:50.802Z"
   },
   {
    "duration": 18,
    "start_time": "2024-07-08T23:32:50.821Z"
   },
   {
    "duration": 56,
    "start_time": "2024-07-08T23:32:50.842Z"
   },
   {
    "duration": 19,
    "start_time": "2024-07-08T23:32:50.901Z"
   },
   {
    "duration": 7,
    "start_time": "2024-07-08T23:32:50.923Z"
   },
   {
    "duration": 14,
    "start_time": "2024-07-08T23:32:50.933Z"
   },
   {
    "duration": 9,
    "start_time": "2024-07-08T23:32:50.990Z"
   },
   {
    "duration": 11,
    "start_time": "2024-07-08T23:32:51.002Z"
   },
   {
    "duration": 8,
    "start_time": "2024-07-08T23:32:51.015Z"
   },
   {
    "duration": 5,
    "start_time": "2024-07-08T23:32:51.026Z"
   },
   {
    "duration": 58,
    "start_time": "2024-07-08T23:32:51.034Z"
   },
   {
    "duration": 8,
    "start_time": "2024-07-08T23:32:51.095Z"
   },
   {
    "duration": 8,
    "start_time": "2024-07-08T23:32:51.106Z"
   },
   {
    "duration": 7,
    "start_time": "2024-07-08T23:32:51.118Z"
   },
   {
    "duration": 6,
    "start_time": "2024-07-08T23:32:51.128Z"
   },
   {
    "duration": 64,
    "start_time": "2024-07-08T23:32:51.136Z"
   },
   {
    "duration": 9,
    "start_time": "2024-07-08T23:32:51.203Z"
   },
   {
    "duration": 12,
    "start_time": "2024-07-08T23:32:51.215Z"
   },
   {
    "duration": 15,
    "start_time": "2024-07-08T23:32:51.230Z"
   },
   {
    "duration": 39,
    "start_time": "2024-07-08T23:32:51.251Z"
   },
   {
    "duration": 9,
    "start_time": "2024-07-08T23:32:51.294Z"
   },
   {
    "duration": 9,
    "start_time": "2024-07-08T23:32:51.307Z"
   },
   {
    "duration": 26,
    "start_time": "2024-07-08T23:32:51.319Z"
   },
   {
    "duration": 43,
    "start_time": "2024-07-08T23:32:51.349Z"
   },
   {
    "duration": 10,
    "start_time": "2024-07-08T23:32:51.396Z"
   },
   {
    "duration": 20,
    "start_time": "2024-07-08T23:32:51.409Z"
   },
   {
    "duration": 8,
    "start_time": "2024-07-08T23:32:51.433Z"
   },
   {
    "duration": 59,
    "start_time": "2024-07-08T23:32:51.444Z"
   },
   {
    "duration": 34,
    "start_time": "2024-07-08T23:32:51.506Z"
   },
   {
    "duration": 58,
    "start_time": "2024-07-08T23:32:51.542Z"
   },
   {
    "duration": 23,
    "start_time": "2024-07-08T23:32:51.603Z"
   },
   {
    "duration": 16,
    "start_time": "2024-07-08T23:32:51.629Z"
   },
   {
    "duration": 57,
    "start_time": "2024-07-08T23:32:51.648Z"
   },
   {
    "duration": 11,
    "start_time": "2024-07-08T23:32:51.712Z"
   },
   {
    "duration": 4,
    "start_time": "2024-07-08T23:33:12.038Z"
   },
   {
    "duration": 9,
    "start_time": "2024-07-08T23:33:12.046Z"
   },
   {
    "duration": 52,
    "start_time": "2024-07-08T23:33:12.058Z"
   },
   {
    "duration": 15,
    "start_time": "2024-07-08T23:33:12.114Z"
   },
   {
    "duration": 13,
    "start_time": "2024-07-08T23:33:12.133Z"
   },
   {
    "duration": 42,
    "start_time": "2024-07-08T23:33:12.149Z"
   },
   {
    "duration": 11,
    "start_time": "2024-07-08T23:33:12.195Z"
   },
   {
    "duration": 18,
    "start_time": "2024-07-08T23:33:12.211Z"
   },
   {
    "duration": 58,
    "start_time": "2024-07-08T23:33:12.232Z"
   },
   {
    "duration": 16,
    "start_time": "2024-07-08T23:33:12.294Z"
   },
   {
    "duration": 13,
    "start_time": "2024-07-08T23:33:12.313Z"
   },
   {
    "duration": 5,
    "start_time": "2024-07-08T23:33:12.330Z"
   },
   {
    "duration": 58,
    "start_time": "2024-07-08T23:33:12.339Z"
   },
   {
    "duration": 10,
    "start_time": "2024-07-08T23:33:12.404Z"
   },
   {
    "duration": 11,
    "start_time": "2024-07-08T23:33:12.417Z"
   },
   {
    "duration": 8,
    "start_time": "2024-07-08T23:33:12.431Z"
   },
   {
    "duration": 47,
    "start_time": "2024-07-08T23:33:12.442Z"
   },
   {
    "duration": 10,
    "start_time": "2024-07-08T23:33:12.494Z"
   },
   {
    "duration": 19,
    "start_time": "2024-07-08T23:33:12.507Z"
   },
   {
    "duration": 15,
    "start_time": "2024-07-08T23:33:12.530Z"
   },
   {
    "duration": 7,
    "start_time": "2024-07-08T23:33:12.549Z"
   },
   {
    "duration": 6,
    "start_time": "2024-07-08T23:33:12.591Z"
   },
   {
    "duration": 13,
    "start_time": "2024-07-08T23:33:12.601Z"
   },
   {
    "duration": 8,
    "start_time": "2024-07-08T23:33:12.616Z"
   },
   {
    "duration": 11,
    "start_time": "2024-07-08T23:33:12.627Z"
   },
   {
    "duration": 7,
    "start_time": "2024-07-08T23:33:12.691Z"
   },
   {
    "duration": 7,
    "start_time": "2024-07-08T23:33:12.701Z"
   },
   {
    "duration": 14,
    "start_time": "2024-07-08T23:33:12.712Z"
   },
   {
    "duration": 8,
    "start_time": "2024-07-08T23:33:12.730Z"
   },
   {
    "duration": 63,
    "start_time": "2024-07-08T23:33:12.740Z"
   },
   {
    "duration": 6,
    "start_time": "2024-07-08T23:33:12.806Z"
   },
   {
    "duration": 10,
    "start_time": "2024-07-08T23:33:12.816Z"
   },
   {
    "duration": 16,
    "start_time": "2024-07-08T23:33:12.829Z"
   },
   {
    "duration": 8,
    "start_time": "2024-07-08T23:33:12.892Z"
   },
   {
    "duration": 16,
    "start_time": "2024-07-08T23:33:12.905Z"
   },
   {
    "duration": 67,
    "start_time": "2024-07-08T23:33:12.924Z"
   },
   {
    "duration": 31,
    "start_time": "2024-07-08T23:33:12.995Z"
   },
   {
    "duration": 24,
    "start_time": "2024-07-08T23:33:13.029Z"
   },
   {
    "duration": 49,
    "start_time": "2024-07-08T23:33:13.056Z"
   },
   {
    "duration": 26,
    "start_time": "2024-07-08T23:33:13.109Z"
   },
   {
    "duration": 12,
    "start_time": "2024-07-08T23:33:13.144Z"
   },
   {
    "duration": 26,
    "start_time": "2024-07-08T23:33:13.192Z"
   },
   {
    "duration": 20,
    "start_time": "2024-07-08T23:33:13.220Z"
   },
   {
    "duration": 60,
    "start_time": "2024-07-08T23:33:13.246Z"
   },
   {
    "duration": 169,
    "start_time": "2024-07-08T23:33:13.310Z"
   },
   {
    "duration": 13,
    "start_time": "2024-07-08T23:33:13.482Z"
   },
   {
    "duration": 5,
    "start_time": "2024-07-08T23:33:13.500Z"
   },
   {
    "duration": 219,
    "start_time": "2024-07-08T23:33:13.508Z"
   },
   {
    "duration": 221,
    "start_time": "2024-07-08T23:33:13.730Z"
   },
   {
    "duration": 430,
    "start_time": "2024-07-08T23:33:13.954Z"
   },
   {
    "duration": 237,
    "start_time": "2024-07-08T23:33:14.392Z"
   },
   {
    "duration": 235,
    "start_time": "2024-07-08T23:33:14.634Z"
   },
   {
    "duration": 227,
    "start_time": "2024-07-08T23:33:14.872Z"
   },
   {
    "duration": 222,
    "start_time": "2024-07-08T23:33:15.102Z"
   },
   {
    "duration": 214,
    "start_time": "2024-07-08T23:33:15.327Z"
   },
   {
    "duration": 229,
    "start_time": "2024-07-08T23:33:15.544Z"
   },
   {
    "duration": 224,
    "start_time": "2024-07-08T23:33:15.777Z"
   },
   {
    "duration": 232,
    "start_time": "2024-07-08T23:33:16.004Z"
   },
   {
    "duration": 273,
    "start_time": "2024-07-08T23:33:16.239Z"
   },
   {
    "duration": 4,
    "start_time": "2024-07-08T23:33:16.515Z"
   },
   {
    "duration": 31,
    "start_time": "2024-07-08T23:33:16.522Z"
   },
   {
    "duration": 39,
    "start_time": "2024-07-08T23:33:16.556Z"
   },
   {
    "duration": 10,
    "start_time": "2024-07-08T23:33:16.598Z"
   },
   {
    "duration": 4,
    "start_time": "2024-07-08T23:33:37.501Z"
   },
   {
    "duration": 10,
    "start_time": "2024-07-08T23:33:37.509Z"
   },
   {
    "duration": 88,
    "start_time": "2024-07-08T23:33:37.522Z"
   },
   {
    "duration": 20,
    "start_time": "2024-07-08T23:33:37.613Z"
   },
   {
    "duration": 17,
    "start_time": "2024-07-08T23:33:37.639Z"
   },
   {
    "duration": 47,
    "start_time": "2024-07-08T23:33:37.660Z"
   },
   {
    "duration": 12,
    "start_time": "2024-07-08T23:33:37.711Z"
   },
   {
    "duration": 19,
    "start_time": "2024-07-08T23:33:37.730Z"
   },
   {
    "duration": 48,
    "start_time": "2024-07-08T23:33:37.753Z"
   },
   {
    "duration": 15,
    "start_time": "2024-07-08T23:33:37.805Z"
   },
   {
    "duration": 16,
    "start_time": "2024-07-08T23:33:37.823Z"
   },
   {
    "duration": 5,
    "start_time": "2024-07-08T23:33:37.843Z"
   },
   {
    "duration": 15,
    "start_time": "2024-07-08T23:33:37.891Z"
   },
   {
    "duration": 9,
    "start_time": "2024-07-08T23:33:37.913Z"
   },
   {
    "duration": 11,
    "start_time": "2024-07-08T23:33:37.925Z"
   },
   {
    "duration": 53,
    "start_time": "2024-07-08T23:33:37.939Z"
   },
   {
    "duration": 5,
    "start_time": "2024-07-08T23:33:37.995Z"
   },
   {
    "duration": 10,
    "start_time": "2024-07-08T23:33:38.003Z"
   },
   {
    "duration": 7,
    "start_time": "2024-07-08T23:33:38.016Z"
   },
   {
    "duration": 8,
    "start_time": "2024-07-08T23:33:38.026Z"
   },
   {
    "duration": 56,
    "start_time": "2024-07-08T23:33:38.036Z"
   },
   {
    "duration": 4,
    "start_time": "2024-07-08T23:33:38.096Z"
   },
   {
    "duration": 14,
    "start_time": "2024-07-08T23:33:38.103Z"
   },
   {
    "duration": 8,
    "start_time": "2024-07-08T23:33:38.121Z"
   },
   {
    "duration": 63,
    "start_time": "2024-07-08T23:33:38.132Z"
   },
   {
    "duration": 7,
    "start_time": "2024-07-08T23:33:38.198Z"
   },
   {
    "duration": 7,
    "start_time": "2024-07-08T23:33:38.208Z"
   },
   {
    "duration": 8,
    "start_time": "2024-07-08T23:33:38.218Z"
   },
   {
    "duration": 8,
    "start_time": "2024-07-08T23:33:38.229Z"
   },
   {
    "duration": 22,
    "start_time": "2024-07-08T23:33:38.291Z"
   },
   {
    "duration": 5,
    "start_time": "2024-07-08T23:33:38.316Z"
   },
   {
    "duration": 11,
    "start_time": "2024-07-08T23:33:38.325Z"
   },
   {
    "duration": 59,
    "start_time": "2024-07-08T23:33:38.339Z"
   },
   {
    "duration": 7,
    "start_time": "2024-07-08T23:33:38.401Z"
   },
   {
    "duration": 17,
    "start_time": "2024-07-08T23:33:38.414Z"
   },
   {
    "duration": 67,
    "start_time": "2024-07-08T23:33:38.435Z"
   },
   {
    "duration": 31,
    "start_time": "2024-07-08T23:33:38.505Z"
   },
   {
    "duration": 52,
    "start_time": "2024-07-08T23:33:38.539Z"
   },
   {
    "duration": 15,
    "start_time": "2024-07-08T23:33:38.595Z"
   },
   {
    "duration": 25,
    "start_time": "2024-07-08T23:33:38.613Z"
   },
   {
    "duration": 43,
    "start_time": "2024-07-08T23:33:38.649Z"
   },
   {
    "duration": 26,
    "start_time": "2024-07-08T23:33:38.695Z"
   },
   {
    "duration": 21,
    "start_time": "2024-07-08T23:33:38.724Z"
   },
   {
    "duration": 66,
    "start_time": "2024-07-08T23:33:38.748Z"
   },
   {
    "duration": 157,
    "start_time": "2024-07-08T23:33:38.817Z"
   },
   {
    "duration": 14,
    "start_time": "2024-07-08T23:33:38.978Z"
   },
   {
    "duration": 5,
    "start_time": "2024-07-08T23:33:38.995Z"
   },
   {
    "duration": 215,
    "start_time": "2024-07-08T23:33:39.005Z"
   },
   {
    "duration": 212,
    "start_time": "2024-07-08T23:33:39.223Z"
   },
   {
    "duration": 239,
    "start_time": "2024-07-08T23:33:39.438Z"
   },
   {
    "duration": 232,
    "start_time": "2024-07-08T23:33:39.680Z"
   },
   {
    "duration": 223,
    "start_time": "2024-07-08T23:33:39.916Z"
   },
   {
    "duration": 212,
    "start_time": "2024-07-08T23:33:40.142Z"
   },
   {
    "duration": 216,
    "start_time": "2024-07-08T23:33:40.358Z"
   },
   {
    "duration": 217,
    "start_time": "2024-07-08T23:33:40.577Z"
   },
   {
    "duration": 210,
    "start_time": "2024-07-08T23:33:40.797Z"
   },
   {
    "duration": 245,
    "start_time": "2024-07-08T23:33:41.011Z"
   },
   {
    "duration": 215,
    "start_time": "2024-07-08T23:33:41.259Z"
   },
   {
    "duration": 270,
    "start_time": "2024-07-08T23:33:41.477Z"
   },
   {
    "duration": 4,
    "start_time": "2024-07-08T23:33:41.751Z"
   },
   {
    "duration": 51,
    "start_time": "2024-07-08T23:33:41.759Z"
   },
   {
    "duration": 10,
    "start_time": "2024-07-08T23:33:41.813Z"
   },
   {
    "duration": 32,
    "start_time": "2024-07-08T23:33:50.221Z"
   },
   {
    "duration": 636,
    "start_time": "2024-07-08T23:36:24.146Z"
   },
   {
    "duration": 888,
    "start_time": "2024-07-08T23:38:04.755Z"
   },
   {
    "duration": 684,
    "start_time": "2024-07-08T23:39:12.337Z"
   },
   {
    "duration": 618,
    "start_time": "2024-07-08T23:39:30.310Z"
   },
   {
    "duration": 5,
    "start_time": "2024-07-09T00:02:17.190Z"
   },
   {
    "duration": 81,
    "start_time": "2024-07-09T00:06:35.218Z"
   },
   {
    "duration": 5,
    "start_time": "2024-07-09T00:08:40.099Z"
   },
   {
    "duration": 17,
    "start_time": "2024-07-09T00:09:21.707Z"
   },
   {
    "duration": 29,
    "start_time": "2024-07-09T00:10:35.588Z"
   },
   {
    "duration": 4,
    "start_time": "2024-07-09T00:10:41.599Z"
   },
   {
    "duration": 4,
    "start_time": "2024-07-09T00:10:41.607Z"
   },
   {
    "duration": 249,
    "start_time": "2024-07-09T00:10:41.615Z"
   },
   {
    "duration": 65,
    "start_time": "2024-07-09T00:10:41.866Z"
   },
   {
    "duration": 16,
    "start_time": "2024-07-09T00:10:41.938Z"
   },
   {
    "duration": 12,
    "start_time": "2024-07-09T00:10:41.958Z"
   },
   {
    "duration": 15,
    "start_time": "2024-07-09T00:10:41.992Z"
   },
   {
    "duration": 11,
    "start_time": "2024-07-09T00:10:42.010Z"
   },
   {
    "duration": 18,
    "start_time": "2024-07-09T00:10:42.023Z"
   },
   {
    "duration": 59,
    "start_time": "2024-07-09T00:10:42.044Z"
   },
   {
    "duration": 15,
    "start_time": "2024-07-09T00:10:42.107Z"
   },
   {
    "duration": 14,
    "start_time": "2024-07-09T00:10:42.124Z"
   },
   {
    "duration": 4,
    "start_time": "2024-07-09T00:10:42.146Z"
   },
   {
    "duration": 14,
    "start_time": "2024-07-09T00:10:42.192Z"
   },
   {
    "duration": 10,
    "start_time": "2024-07-09T00:10:42.209Z"
   },
   {
    "duration": 10,
    "start_time": "2024-07-09T00:10:42.222Z"
   },
   {
    "duration": 8,
    "start_time": "2024-07-09T00:10:42.236Z"
   },
   {
    "duration": 45,
    "start_time": "2024-07-09T00:10:42.247Z"
   },
   {
    "duration": 9,
    "start_time": "2024-07-09T00:10:42.295Z"
   },
   {
    "duration": 8,
    "start_time": "2024-07-09T00:10:42.307Z"
   },
   {
    "duration": 14,
    "start_time": "2024-07-09T00:10:42.318Z"
   },
   {
    "duration": 57,
    "start_time": "2024-07-09T00:10:42.335Z"
   },
   {
    "duration": 5,
    "start_time": "2024-07-09T00:10:42.395Z"
   },
   {
    "duration": 12,
    "start_time": "2024-07-09T00:10:42.403Z"
   },
   {
    "duration": 9,
    "start_time": "2024-07-09T00:10:42.418Z"
   },
   {
    "duration": 10,
    "start_time": "2024-07-09T00:10:42.430Z"
   },
   {
    "duration": 51,
    "start_time": "2024-07-09T00:10:42.443Z"
   },
   {
    "duration": 8,
    "start_time": "2024-07-09T00:10:42.498Z"
   },
   {
    "duration": 13,
    "start_time": "2024-07-09T00:10:42.510Z"
   },
   {
    "duration": 10,
    "start_time": "2024-07-09T00:10:42.527Z"
   },
   {
    "duration": 69,
    "start_time": "2024-07-09T00:10:42.540Z"
   },
   {
    "duration": 6,
    "start_time": "2024-07-09T00:10:42.612Z"
   },
   {
    "duration": 12,
    "start_time": "2024-07-09T00:10:42.621Z"
   },
   {
    "duration": 19,
    "start_time": "2024-07-09T00:10:42.637Z"
   },
   {
    "duration": 9,
    "start_time": "2024-07-09T00:10:42.696Z"
   },
   {
    "duration": 16,
    "start_time": "2024-07-09T00:10:42.708Z"
   },
   {
    "duration": 57,
    "start_time": "2024-07-09T00:10:42.734Z"
   },
   {
    "duration": 34,
    "start_time": "2024-07-09T00:10:42.797Z"
   },
   {
    "duration": 22,
    "start_time": "2024-07-09T00:10:42.834Z"
   },
   {
    "duration": 18,
    "start_time": "2024-07-09T00:10:42.890Z"
   },
   {
    "duration": 25,
    "start_time": "2024-07-09T00:10:42.912Z"
   },
   {
    "duration": 11,
    "start_time": "2024-07-09T00:10:42.941Z"
   },
   {
    "duration": 63,
    "start_time": "2024-07-09T00:10:42.955Z"
   },
   {
    "duration": 20,
    "start_time": "2024-07-09T00:10:43.022Z"
   },
   {
    "duration": 55,
    "start_time": "2024-07-09T00:10:43.045Z"
   },
   {
    "duration": 151,
    "start_time": "2024-07-09T00:10:43.103Z"
   },
   {
    "duration": 6,
    "start_time": "2024-07-09T00:10:43.257Z"
   },
   {
    "duration": 6,
    "start_time": "2024-07-09T00:10:43.266Z"
   },
   {
    "duration": 206,
    "start_time": "2024-07-09T00:10:43.293Z"
   },
   {
    "duration": 227,
    "start_time": "2024-07-09T00:10:43.502Z"
   },
   {
    "duration": 238,
    "start_time": "2024-07-09T00:10:43.732Z"
   },
   {
    "duration": 222,
    "start_time": "2024-07-09T00:10:43.973Z"
   },
   {
    "duration": 217,
    "start_time": "2024-07-09T00:10:44.197Z"
   },
   {
    "duration": 219,
    "start_time": "2024-07-09T00:10:44.417Z"
   },
   {
    "duration": 233,
    "start_time": "2024-07-09T00:10:44.640Z"
   },
   {
    "duration": 223,
    "start_time": "2024-07-09T00:10:44.876Z"
   },
   {
    "duration": 225,
    "start_time": "2024-07-09T00:10:45.102Z"
   },
   {
    "duration": 227,
    "start_time": "2024-07-09T00:10:45.330Z"
   },
   {
    "duration": 207,
    "start_time": "2024-07-09T00:10:45.560Z"
   },
   {
    "duration": 294,
    "start_time": "2024-07-09T00:10:45.771Z"
   },
   {
    "duration": 22,
    "start_time": "2024-07-09T00:10:46.068Z"
   },
   {
    "duration": 10,
    "start_time": "2024-07-09T00:10:46.093Z"
   },
   {
    "duration": 85,
    "start_time": "2024-07-09T00:10:46.106Z"
   },
   {
    "duration": 892,
    "start_time": "2024-07-09T00:10:46.194Z"
   },
   {
    "duration": 6,
    "start_time": "2024-07-09T00:10:47.091Z"
   },
   {
    "duration": 5,
    "start_time": "2024-07-09T00:10:47.100Z"
   },
   {
    "duration": 16,
    "start_time": "2024-07-09T00:10:47.108Z"
   },
   {
    "duration": 75,
    "start_time": "2024-07-09T00:10:47.127Z"
   },
   {
    "duration": 26,
    "start_time": "2024-07-09T00:11:02.754Z"
   },
   {
    "duration": 22,
    "start_time": "2024-07-09T00:11:46.901Z"
   },
   {
    "duration": 31,
    "start_time": "2024-07-09T00:12:40.679Z"
   },
   {
    "duration": 4,
    "start_time": "2024-07-09T00:13:08.886Z"
   },
   {
    "duration": 4,
    "start_time": "2024-07-09T00:13:08.895Z"
   },
   {
    "duration": 4,
    "start_time": "2024-07-09T00:13:08.902Z"
   },
   {
    "duration": 100,
    "start_time": "2024-07-09T00:13:08.911Z"
   },
   {
    "duration": 15,
    "start_time": "2024-07-09T00:13:09.014Z"
   },
   {
    "duration": 24,
    "start_time": "2024-07-09T00:13:09.032Z"
   },
   {
    "duration": 43,
    "start_time": "2024-07-09T00:13:09.058Z"
   },
   {
    "duration": 11,
    "start_time": "2024-07-09T00:13:09.105Z"
   },
   {
    "duration": 18,
    "start_time": "2024-07-09T00:13:09.119Z"
   },
   {
    "duration": 57,
    "start_time": "2024-07-09T00:13:09.145Z"
   },
   {
    "duration": 15,
    "start_time": "2024-07-09T00:13:09.207Z"
   },
   {
    "duration": 16,
    "start_time": "2024-07-09T00:13:09.224Z"
   },
   {
    "duration": 5,
    "start_time": "2024-07-09T00:13:09.243Z"
   },
   {
    "duration": 52,
    "start_time": "2024-07-09T00:13:09.251Z"
   },
   {
    "duration": 9,
    "start_time": "2024-07-09T00:13:09.306Z"
   },
   {
    "duration": 11,
    "start_time": "2024-07-09T00:13:09.319Z"
   },
   {
    "duration": 60,
    "start_time": "2024-07-09T00:13:09.333Z"
   },
   {
    "duration": 6,
    "start_time": "2024-07-09T00:13:09.397Z"
   },
   {
    "duration": 10,
    "start_time": "2024-07-09T00:13:09.406Z"
   },
   {
    "duration": 8,
    "start_time": "2024-07-09T00:13:09.419Z"
   },
   {
    "duration": 8,
    "start_time": "2024-07-09T00:13:09.430Z"
   },
   {
    "duration": 51,
    "start_time": "2024-07-09T00:13:09.441Z"
   },
   {
    "duration": 5,
    "start_time": "2024-07-09T00:13:09.495Z"
   },
   {
    "duration": 12,
    "start_time": "2024-07-09T00:13:09.504Z"
   },
   {
    "duration": 9,
    "start_time": "2024-07-09T00:13:09.519Z"
   },
   {
    "duration": 60,
    "start_time": "2024-07-09T00:13:09.531Z"
   },
   {
    "duration": 6,
    "start_time": "2024-07-09T00:13:09.594Z"
   },
   {
    "duration": 6,
    "start_time": "2024-07-09T00:13:09.609Z"
   },
   {
    "duration": 9,
    "start_time": "2024-07-09T00:13:09.618Z"
   },
   {
    "duration": 8,
    "start_time": "2024-07-09T00:13:09.633Z"
   },
   {
    "duration": 63,
    "start_time": "2024-07-09T00:13:09.644Z"
   },
   {
    "duration": 6,
    "start_time": "2024-07-09T00:13:09.710Z"
   },
   {
    "duration": 11,
    "start_time": "2024-07-09T00:13:09.719Z"
   },
   {
    "duration": 59,
    "start_time": "2024-07-09T00:13:09.732Z"
   },
   {
    "duration": 7,
    "start_time": "2024-07-09T00:13:09.794Z"
   },
   {
    "duration": 16,
    "start_time": "2024-07-09T00:13:09.804Z"
   },
   {
    "duration": 72,
    "start_time": "2024-07-09T00:13:09.824Z"
   },
   {
    "duration": 32,
    "start_time": "2024-07-09T00:13:09.898Z"
   },
   {
    "duration": 25,
    "start_time": "2024-07-09T00:13:09.932Z"
   },
   {
    "duration": 15,
    "start_time": "2024-07-09T00:13:09.989Z"
   },
   {
    "duration": 25,
    "start_time": "2024-07-09T00:13:10.007Z"
   },
   {
    "duration": 11,
    "start_time": "2024-07-09T00:13:10.035Z"
   },
   {
    "duration": 57,
    "start_time": "2024-07-09T00:13:10.049Z"
   },
   {
    "duration": 20,
    "start_time": "2024-07-09T00:13:10.109Z"
   },
   {
    "duration": 58,
    "start_time": "2024-07-09T00:13:10.132Z"
   },
   {
    "duration": 150,
    "start_time": "2024-07-09T00:13:10.193Z"
   },
   {
    "duration": 6,
    "start_time": "2024-07-09T00:13:10.346Z"
   },
   {
    "duration": 6,
    "start_time": "2024-07-09T00:13:10.355Z"
   },
   {
    "duration": 197,
    "start_time": "2024-07-09T00:13:10.390Z"
   },
   {
    "duration": 223,
    "start_time": "2024-07-09T00:13:10.592Z"
   },
   {
    "duration": 234,
    "start_time": "2024-07-09T00:13:10.818Z"
   },
   {
    "duration": 213,
    "start_time": "2024-07-09T00:13:11.055Z"
   },
   {
    "duration": 218,
    "start_time": "2024-07-09T00:13:11.272Z"
   },
   {
    "duration": 210,
    "start_time": "2024-07-09T00:13:11.494Z"
   },
   {
    "duration": 214,
    "start_time": "2024-07-09T00:13:11.707Z"
   },
   {
    "duration": 213,
    "start_time": "2024-07-09T00:13:11.924Z"
   },
   {
    "duration": 215,
    "start_time": "2024-07-09T00:13:12.140Z"
   },
   {
    "duration": 240,
    "start_time": "2024-07-09T00:13:12.359Z"
   },
   {
    "duration": 215,
    "start_time": "2024-07-09T00:13:12.602Z"
   },
   {
    "duration": 277,
    "start_time": "2024-07-09T00:13:12.820Z"
   },
   {
    "duration": 5,
    "start_time": "2024-07-09T00:13:13.100Z"
   },
   {
    "duration": 9,
    "start_time": "2024-07-09T00:13:13.108Z"
   },
   {
    "duration": 31,
    "start_time": "2024-07-09T00:13:13.120Z"
   },
   {
    "duration": 629,
    "start_time": "2024-07-09T00:13:13.191Z"
   },
   {
    "duration": 5,
    "start_time": "2024-07-09T00:13:13.824Z"
   },
   {
    "duration": 6,
    "start_time": "2024-07-09T00:13:13.832Z"
   },
   {
    "duration": 48,
    "start_time": "2024-07-09T00:13:13.842Z"
   },
   {
    "duration": 30,
    "start_time": "2024-07-09T00:13:13.894Z"
   },
   {
    "duration": 30,
    "start_time": "2024-07-09T00:13:13.927Z"
   },
   {
    "duration": 3,
    "start_time": "2024-07-09T00:14:49.204Z"
   },
   {
    "duration": 22,
    "start_time": "2024-07-09T00:21:50.134Z"
   },
   {
    "duration": 4,
    "start_time": "2024-07-09T00:23:05.742Z"
   },
   {
    "duration": 3,
    "start_time": "2024-07-09T00:25:06.777Z"
   },
   {
    "duration": 36,
    "start_time": "2024-07-09T00:30:04.291Z"
   },
   {
    "duration": 5,
    "start_time": "2024-07-09T00:30:45.838Z"
   },
   {
    "duration": 4,
    "start_time": "2024-07-09T00:30:45.847Z"
   },
   {
    "duration": 5,
    "start_time": "2024-07-09T00:30:45.855Z"
   },
   {
    "duration": 33,
    "start_time": "2024-07-09T00:30:45.862Z"
   },
   {
    "duration": 58,
    "start_time": "2024-07-09T00:30:45.901Z"
   },
   {
    "duration": 31,
    "start_time": "2024-07-09T00:30:45.962Z"
   },
   {
    "duration": 12,
    "start_time": "2024-07-09T00:30:45.998Z"
   },
   {
    "duration": 14,
    "start_time": "2024-07-09T00:30:46.015Z"
   },
   {
    "duration": 11,
    "start_time": "2024-07-09T00:30:46.033Z"
   },
   {
    "duration": 18,
    "start_time": "2024-07-09T00:30:46.090Z"
   },
   {
    "duration": 17,
    "start_time": "2024-07-09T00:30:46.111Z"
   },
   {
    "duration": 63,
    "start_time": "2024-07-09T00:30:46.132Z"
   },
   {
    "duration": 15,
    "start_time": "2024-07-09T00:30:46.199Z"
   },
   {
    "duration": 5,
    "start_time": "2024-07-09T00:30:46.222Z"
   },
   {
    "duration": 16,
    "start_time": "2024-07-09T00:30:46.231Z"
   },
   {
    "duration": 49,
    "start_time": "2024-07-09T00:30:46.251Z"
   },
   {
    "duration": 12,
    "start_time": "2024-07-09T00:30:46.303Z"
   },
   {
    "duration": 10,
    "start_time": "2024-07-09T00:30:46.319Z"
   },
   {
    "duration": 57,
    "start_time": "2024-07-09T00:30:46.333Z"
   },
   {
    "duration": 15,
    "start_time": "2024-07-09T00:30:46.395Z"
   },
   {
    "duration": 10,
    "start_time": "2024-07-09T00:30:46.414Z"
   },
   {
    "duration": 7,
    "start_time": "2024-07-09T00:30:46.427Z"
   },
   {
    "duration": 11,
    "start_time": "2024-07-09T00:30:46.438Z"
   },
   {
    "duration": 6,
    "start_time": "2024-07-09T00:30:46.490Z"
   },
   {
    "duration": 13,
    "start_time": "2024-07-09T00:30:46.500Z"
   },
   {
    "duration": 10,
    "start_time": "2024-07-09T00:30:46.517Z"
   },
   {
    "duration": 62,
    "start_time": "2024-07-09T00:30:46.530Z"
   },
   {
    "duration": 6,
    "start_time": "2024-07-09T00:30:46.595Z"
   },
   {
    "duration": 10,
    "start_time": "2024-07-09T00:30:46.604Z"
   },
   {
    "duration": 8,
    "start_time": "2024-07-09T00:30:46.617Z"
   },
   {
    "duration": 8,
    "start_time": "2024-07-09T00:30:46.629Z"
   },
   {
    "duration": 67,
    "start_time": "2024-07-09T00:30:46.640Z"
   },
   {
    "duration": 5,
    "start_time": "2024-07-09T00:30:46.710Z"
   },
   {
    "duration": 10,
    "start_time": "2024-07-09T00:30:46.719Z"
   },
   {
    "duration": 61,
    "start_time": "2024-07-09T00:30:46.732Z"
   },
   {
    "duration": 7,
    "start_time": "2024-07-09T00:30:46.796Z"
   },
   {
    "duration": 17,
    "start_time": "2024-07-09T00:30:46.806Z"
   },
   {
    "duration": 70,
    "start_time": "2024-07-09T00:30:46.826Z"
   },
   {
    "duration": 32,
    "start_time": "2024-07-09T00:30:46.900Z"
   },
   {
    "duration": 23,
    "start_time": "2024-07-09T00:30:46.936Z"
   },
   {
    "duration": 15,
    "start_time": "2024-07-09T00:30:46.997Z"
   },
   {
    "duration": 28,
    "start_time": "2024-07-09T00:30:47.015Z"
   },
   {
    "duration": 46,
    "start_time": "2024-07-09T00:30:47.047Z"
   },
   {
    "duration": 28,
    "start_time": "2024-07-09T00:30:47.097Z"
   },
   {
    "duration": 19,
    "start_time": "2024-07-09T00:30:47.128Z"
   },
   {
    "duration": 25,
    "start_time": "2024-07-09T00:30:47.190Z"
   },
   {
    "duration": 234,
    "start_time": "2024-07-09T00:30:47.219Z"
   },
   {
    "duration": 31,
    "start_time": "2024-07-09T00:30:47.458Z"
   },
   {
    "duration": 5,
    "start_time": "2024-07-09T00:30:47.493Z"
   },
   {
    "duration": 216,
    "start_time": "2024-07-09T00:30:47.501Z"
   },
   {
    "duration": 220,
    "start_time": "2024-07-09T00:30:47.720Z"
   },
   {
    "duration": 246,
    "start_time": "2024-07-09T00:30:47.944Z"
   },
   {
    "duration": 218,
    "start_time": "2024-07-09T00:30:48.193Z"
   },
   {
    "duration": 225,
    "start_time": "2024-07-09T00:30:48.414Z"
   },
   {
    "duration": 224,
    "start_time": "2024-07-09T00:30:48.643Z"
   },
   {
    "duration": 214,
    "start_time": "2024-07-09T00:30:48.870Z"
   },
   {
    "duration": 446,
    "start_time": "2024-07-09T00:30:49.090Z"
   },
   {
    "duration": 229,
    "start_time": "2024-07-09T00:30:49.539Z"
   },
   {
    "duration": 223,
    "start_time": "2024-07-09T00:30:49.771Z"
   },
   {
    "duration": 213,
    "start_time": "2024-07-09T00:30:49.997Z"
   },
   {
    "duration": 267,
    "start_time": "2024-07-09T00:30:50.213Z"
   },
   {
    "duration": 4,
    "start_time": "2024-07-09T00:30:50.490Z"
   },
   {
    "duration": 8,
    "start_time": "2024-07-09T00:30:50.498Z"
   },
   {
    "duration": 31,
    "start_time": "2024-07-09T00:30:50.509Z"
   },
   {
    "duration": 683,
    "start_time": "2024-07-09T00:30:50.543Z"
   },
   {
    "duration": 5,
    "start_time": "2024-07-09T00:30:51.229Z"
   },
   {
    "duration": 6,
    "start_time": "2024-07-09T00:30:51.237Z"
   },
   {
    "duration": 53,
    "start_time": "2024-07-09T00:30:51.246Z"
   },
   {
    "duration": 32,
    "start_time": "2024-07-09T00:30:51.302Z"
   },
   {
    "duration": 28,
    "start_time": "2024-07-09T00:30:51.337Z"
   },
   {
    "duration": 43,
    "start_time": "2024-07-09T00:30:51.368Z"
   },
   {
    "duration": 17,
    "start_time": "2024-07-09T00:30:51.414Z"
   },
   {
    "duration": 4,
    "start_time": "2024-07-09T00:31:22.466Z"
   },
   {
    "duration": 4,
    "start_time": "2024-07-09T00:31:22.475Z"
   },
   {
    "duration": 4,
    "start_time": "2024-07-09T00:31:22.482Z"
   },
   {
    "duration": 6,
    "start_time": "2024-07-09T00:31:22.489Z"
   },
   {
    "duration": 104,
    "start_time": "2024-07-09T00:31:22.500Z"
   },
   {
    "duration": 15,
    "start_time": "2024-07-09T00:31:22.608Z"
   },
   {
    "duration": 12,
    "start_time": "2024-07-09T00:31:22.626Z"
   },
   {
    "duration": 15,
    "start_time": "2024-07-09T00:31:22.641Z"
   },
   {
    "duration": 16,
    "start_time": "2024-07-09T00:31:22.694Z"
   },
   {
    "duration": 21,
    "start_time": "2024-07-09T00:31:22.714Z"
   },
   {
    "duration": 52,
    "start_time": "2024-07-09T00:31:22.739Z"
   },
   {
    "duration": 21,
    "start_time": "2024-07-09T00:31:22.795Z"
   },
   {
    "duration": 13,
    "start_time": "2024-07-09T00:31:22.820Z"
   },
   {
    "duration": 5,
    "start_time": "2024-07-09T00:31:22.841Z"
   },
   {
    "duration": 48,
    "start_time": "2024-07-09T00:31:22.855Z"
   },
   {
    "duration": 10,
    "start_time": "2024-07-09T00:31:22.906Z"
   },
   {
    "duration": 10,
    "start_time": "2024-07-09T00:31:22.919Z"
   },
   {
    "duration": 7,
    "start_time": "2024-07-09T00:31:22.932Z"
   },
   {
    "duration": 9,
    "start_time": "2024-07-09T00:31:22.990Z"
   },
   {
    "duration": 11,
    "start_time": "2024-07-09T00:31:23.002Z"
   },
   {
    "duration": 8,
    "start_time": "2024-07-09T00:31:23.016Z"
   },
   {
    "duration": 9,
    "start_time": "2024-07-09T00:31:23.027Z"
   },
   {
    "duration": 52,
    "start_time": "2024-07-09T00:31:23.040Z"
   },
   {
    "duration": 6,
    "start_time": "2024-07-09T00:31:23.096Z"
   },
   {
    "duration": 13,
    "start_time": "2024-07-09T00:31:23.106Z"
   },
   {
    "duration": 9,
    "start_time": "2024-07-09T00:31:23.123Z"
   },
   {
    "duration": 59,
    "start_time": "2024-07-09T00:31:23.135Z"
   },
   {
    "duration": 7,
    "start_time": "2024-07-09T00:31:23.197Z"
   },
   {
    "duration": 6,
    "start_time": "2024-07-09T00:31:23.207Z"
   },
   {
    "duration": 9,
    "start_time": "2024-07-09T00:31:23.217Z"
   },
   {
    "duration": 8,
    "start_time": "2024-07-09T00:31:23.229Z"
   },
   {
    "duration": 69,
    "start_time": "2024-07-09T00:31:23.241Z"
   },
   {
    "duration": 6,
    "start_time": "2024-07-09T00:31:23.313Z"
   },
   {
    "duration": 10,
    "start_time": "2024-07-09T00:31:23.322Z"
   },
   {
    "duration": 64,
    "start_time": "2024-07-09T00:31:23.335Z"
   },
   {
    "duration": 6,
    "start_time": "2024-07-09T00:31:23.402Z"
   },
   {
    "duration": 16,
    "start_time": "2024-07-09T00:31:23.412Z"
   },
   {
    "duration": 69,
    "start_time": "2024-07-09T00:31:23.433Z"
   },
   {
    "duration": 34,
    "start_time": "2024-07-09T00:31:23.505Z"
   },
   {
    "duration": 22,
    "start_time": "2024-07-09T00:31:23.542Z"
   },
   {
    "duration": 15,
    "start_time": "2024-07-09T00:31:23.602Z"
   },
   {
    "duration": 28,
    "start_time": "2024-07-09T00:31:23.620Z"
   },
   {
    "duration": 43,
    "start_time": "2024-07-09T00:31:23.651Z"
   },
   {
    "duration": 26,
    "start_time": "2024-07-09T00:31:23.699Z"
   },
   {
    "duration": 20,
    "start_time": "2024-07-09T00:31:23.728Z"
   },
   {
    "duration": 60,
    "start_time": "2024-07-09T00:31:23.751Z"
   },
   {
    "duration": 160,
    "start_time": "2024-07-09T00:31:23.814Z"
   },
   {
    "duration": 15,
    "start_time": "2024-07-09T00:31:23.977Z"
   },
   {
    "duration": 6,
    "start_time": "2024-07-09T00:31:23.994Z"
   },
   {
    "duration": 217,
    "start_time": "2024-07-09T00:31:24.003Z"
   },
   {
    "duration": 225,
    "start_time": "2024-07-09T00:31:24.223Z"
   },
   {
    "duration": 241,
    "start_time": "2024-07-09T00:31:24.451Z"
   },
   {
    "duration": 233,
    "start_time": "2024-07-09T00:31:24.696Z"
   },
   {
    "duration": 224,
    "start_time": "2024-07-09T00:31:24.932Z"
   },
   {
    "duration": 222,
    "start_time": "2024-07-09T00:31:25.159Z"
   },
   {
    "duration": 206,
    "start_time": "2024-07-09T00:31:25.392Z"
   },
   {
    "duration": 217,
    "start_time": "2024-07-09T00:31:25.601Z"
   },
   {
    "duration": 209,
    "start_time": "2024-07-09T00:31:25.822Z"
   },
   {
    "duration": 240,
    "start_time": "2024-07-09T00:31:26.034Z"
   },
   {
    "duration": 216,
    "start_time": "2024-07-09T00:31:26.277Z"
   },
   {
    "duration": 273,
    "start_time": "2024-07-09T00:31:26.496Z"
   },
   {
    "duration": 7,
    "start_time": "2024-07-09T00:31:26.772Z"
   },
   {
    "duration": 14,
    "start_time": "2024-07-09T00:31:26.782Z"
   },
   {
    "duration": 32,
    "start_time": "2024-07-09T00:31:26.799Z"
   },
   {
    "duration": 703,
    "start_time": "2024-07-09T00:31:26.835Z"
   },
   {
    "duration": 5,
    "start_time": "2024-07-09T00:31:27.541Z"
   },
   {
    "duration": 5,
    "start_time": "2024-07-09T00:31:27.550Z"
   },
   {
    "duration": 45,
    "start_time": "2024-07-09T00:31:27.558Z"
   },
   {
    "duration": 32,
    "start_time": "2024-07-09T00:31:27.606Z"
   },
   {
    "duration": 53,
    "start_time": "2024-07-09T00:31:27.641Z"
   },
   {
    "duration": 21,
    "start_time": "2024-07-09T00:31:27.697Z"
   },
   {
    "duration": 13,
    "start_time": "2024-07-09T00:31:27.721Z"
   },
   {
    "duration": 8,
    "start_time": "2024-07-09T00:41:19.013Z"
   },
   {
    "duration": 262,
    "start_time": "2024-07-09T00:41:24.955Z"
   },
   {
    "duration": 12,
    "start_time": "2024-07-09T00:43:46.663Z"
   },
   {
    "duration": 5,
    "start_time": "2024-07-09T00:45:05.511Z"
   },
   {
    "duration": 5,
    "start_time": "2024-07-09T00:45:05.521Z"
   },
   {
    "duration": 5,
    "start_time": "2024-07-09T00:45:05.530Z"
   },
   {
    "duration": 4,
    "start_time": "2024-07-09T00:45:05.539Z"
   },
   {
    "duration": 109,
    "start_time": "2024-07-09T00:45:05.551Z"
   },
   {
    "duration": 32,
    "start_time": "2024-07-09T00:45:05.663Z"
   },
   {
    "duration": 17,
    "start_time": "2024-07-09T00:45:05.698Z"
   },
   {
    "duration": 21,
    "start_time": "2024-07-09T00:45:05.718Z"
   },
   {
    "duration": 54,
    "start_time": "2024-07-09T00:45:05.743Z"
   },
   {
    "duration": 20,
    "start_time": "2024-07-09T00:45:05.801Z"
   },
   {
    "duration": 24,
    "start_time": "2024-07-09T00:45:05.826Z"
   },
   {
    "duration": 293,
    "start_time": "2024-07-09T00:45:05.853Z"
   },
   {
    "duration": 13,
    "start_time": "2024-07-09T00:45:06.151Z"
   },
   {
    "duration": 4,
    "start_time": "2024-07-09T00:45:06.191Z"
   },
   {
    "duration": 13,
    "start_time": "2024-07-09T00:45:06.198Z"
   },
   {
    "duration": 9,
    "start_time": "2024-07-09T00:45:06.215Z"
   },
   {
    "duration": 12,
    "start_time": "2024-07-09T00:45:06.227Z"
   },
   {
    "duration": 49,
    "start_time": "2024-07-09T00:45:06.243Z"
   },
   {
    "duration": 7,
    "start_time": "2024-07-09T00:45:06.295Z"
   },
   {
    "duration": 9,
    "start_time": "2024-07-09T00:45:06.305Z"
   },
   {
    "duration": 8,
    "start_time": "2024-07-09T00:45:06.317Z"
   },
   {
    "duration": 7,
    "start_time": "2024-07-09T00:45:06.329Z"
   },
   {
    "duration": 7,
    "start_time": "2024-07-09T00:45:06.392Z"
   },
   {
    "duration": 5,
    "start_time": "2024-07-09T00:45:06.404Z"
   },
   {
    "duration": 21,
    "start_time": "2024-07-09T00:45:06.412Z"
   },
   {
    "duration": 9,
    "start_time": "2024-07-09T00:45:06.437Z"
   },
   {
    "duration": 46,
    "start_time": "2024-07-09T00:45:06.449Z"
   },
   {
    "duration": 7,
    "start_time": "2024-07-09T00:45:06.498Z"
   },
   {
    "duration": 6,
    "start_time": "2024-07-09T00:45:06.508Z"
   },
   {
    "duration": 9,
    "start_time": "2024-07-09T00:45:06.518Z"
   },
   {
    "duration": 8,
    "start_time": "2024-07-09T00:45:06.530Z"
   },
   {
    "duration": 22,
    "start_time": "2024-07-09T00:45:06.592Z"
   },
   {
    "duration": 6,
    "start_time": "2024-07-09T00:45:06.616Z"
   },
   {
    "duration": 10,
    "start_time": "2024-07-09T00:45:06.625Z"
   },
   {
    "duration": 58,
    "start_time": "2024-07-09T00:45:06.638Z"
   },
   {
    "duration": 7,
    "start_time": "2024-07-09T00:45:06.701Z"
   },
   {
    "duration": 17,
    "start_time": "2024-07-09T00:45:06.711Z"
   },
   {
    "duration": 70,
    "start_time": "2024-07-09T00:45:06.731Z"
   },
   {
    "duration": 31,
    "start_time": "2024-07-09T00:45:06.804Z"
   },
   {
    "duration": 55,
    "start_time": "2024-07-09T00:45:06.838Z"
   },
   {
    "duration": 17,
    "start_time": "2024-07-09T00:45:06.903Z"
   },
   {
    "duration": 30,
    "start_time": "2024-07-09T00:45:06.926Z"
   },
   {
    "duration": 38,
    "start_time": "2024-07-09T00:45:06.960Z"
   },
   {
    "duration": 25,
    "start_time": "2024-07-09T00:45:07.000Z"
   },
   {
    "duration": 21,
    "start_time": "2024-07-09T00:45:07.028Z"
   },
   {
    "duration": 25,
    "start_time": "2024-07-09T00:45:07.093Z"
   },
   {
    "duration": 185,
    "start_time": "2024-07-09T00:45:07.121Z"
   },
   {
    "duration": 7,
    "start_time": "2024-07-09T00:45:07.309Z"
   },
   {
    "duration": 7,
    "start_time": "2024-07-09T00:45:07.320Z"
   },
   {
    "duration": 227,
    "start_time": "2024-07-09T00:45:07.332Z"
   },
   {
    "duration": 219,
    "start_time": "2024-07-09T00:45:07.562Z"
   },
   {
    "duration": 259,
    "start_time": "2024-07-09T00:45:07.785Z"
   },
   {
    "duration": 253,
    "start_time": "2024-07-09T00:45:08.048Z"
   },
   {
    "duration": 245,
    "start_time": "2024-07-09T00:45:08.306Z"
   },
   {
    "duration": 257,
    "start_time": "2024-07-09T00:45:08.554Z"
   },
   {
    "duration": 226,
    "start_time": "2024-07-09T00:45:08.815Z"
   },
   {
    "duration": 230,
    "start_time": "2024-07-09T00:45:09.045Z"
   },
   {
    "duration": 212,
    "start_time": "2024-07-09T00:45:09.279Z"
   },
   {
    "duration": 259,
    "start_time": "2024-07-09T00:45:09.494Z"
   },
   {
    "duration": 220,
    "start_time": "2024-07-09T00:45:09.756Z"
   },
   {
    "duration": 304,
    "start_time": "2024-07-09T00:45:09.978Z"
   },
   {
    "duration": 4,
    "start_time": "2024-07-09T00:45:10.293Z"
   },
   {
    "duration": 12,
    "start_time": "2024-07-09T00:45:10.301Z"
   },
   {
    "duration": 73,
    "start_time": "2024-07-09T00:45:10.317Z"
   },
   {
    "duration": 639,
    "start_time": "2024-07-09T00:45:10.394Z"
   },
   {
    "duration": 5,
    "start_time": "2024-07-09T00:45:11.037Z"
   },
   {
    "duration": 5,
    "start_time": "2024-07-09T00:45:11.046Z"
   },
   {
    "duration": 46,
    "start_time": "2024-07-09T00:45:11.054Z"
   },
   {
    "duration": 32,
    "start_time": "2024-07-09T00:45:11.103Z"
   },
   {
    "duration": 54,
    "start_time": "2024-07-09T00:45:11.138Z"
   },
   {
    "duration": 22,
    "start_time": "2024-07-09T00:45:11.195Z"
   },
   {
    "duration": 15,
    "start_time": "2024-07-09T00:45:11.220Z"
   },
   {
    "duration": 5,
    "start_time": "2024-07-09T00:46:45.372Z"
   },
   {
    "duration": 4,
    "start_time": "2024-07-09T00:46:45.382Z"
   },
   {
    "duration": 4,
    "start_time": "2024-07-09T00:46:45.389Z"
   },
   {
    "duration": 4,
    "start_time": "2024-07-09T00:46:45.396Z"
   },
   {
    "duration": 89,
    "start_time": "2024-07-09T00:46:45.405Z"
   },
   {
    "duration": 15,
    "start_time": "2024-07-09T00:46:45.497Z"
   },
   {
    "duration": 13,
    "start_time": "2024-07-09T00:46:45.515Z"
   },
   {
    "duration": 17,
    "start_time": "2024-07-09T00:46:45.531Z"
   },
   {
    "duration": 47,
    "start_time": "2024-07-09T00:46:45.551Z"
   },
   {
    "duration": 17,
    "start_time": "2024-07-09T00:46:45.602Z"
   },
   {
    "duration": 17,
    "start_time": "2024-07-09T00:46:45.622Z"
   },
   {
    "duration": 57,
    "start_time": "2024-07-09T00:46:45.643Z"
   },
   {
    "duration": 14,
    "start_time": "2024-07-09T00:46:45.703Z"
   },
   {
    "duration": 5,
    "start_time": "2024-07-09T00:46:45.724Z"
   },
   {
    "duration": 15,
    "start_time": "2024-07-09T00:46:45.732Z"
   },
   {
    "duration": 11,
    "start_time": "2024-07-09T00:46:45.790Z"
   },
   {
    "duration": 11,
    "start_time": "2024-07-09T00:46:45.804Z"
   },
   {
    "duration": 8,
    "start_time": "2024-07-09T00:46:45.818Z"
   },
   {
    "duration": 5,
    "start_time": "2024-07-09T00:46:45.829Z"
   },
   {
    "duration": 58,
    "start_time": "2024-07-09T00:46:45.838Z"
   },
   {
    "duration": 9,
    "start_time": "2024-07-09T00:46:45.900Z"
   },
   {
    "duration": 8,
    "start_time": "2024-07-09T00:46:45.912Z"
   },
   {
    "duration": 7,
    "start_time": "2024-07-09T00:46:45.924Z"
   },
   {
    "duration": 5,
    "start_time": "2024-07-09T00:46:45.934Z"
   },
   {
    "duration": 56,
    "start_time": "2024-07-09T00:46:45.942Z"
   },
   {
    "duration": 9,
    "start_time": "2024-07-09T00:46:46.001Z"
   },
   {
    "duration": 11,
    "start_time": "2024-07-09T00:46:46.013Z"
   },
   {
    "duration": 7,
    "start_time": "2024-07-09T00:46:46.029Z"
   },
   {
    "duration": 56,
    "start_time": "2024-07-09T00:46:46.039Z"
   },
   {
    "duration": 9,
    "start_time": "2024-07-09T00:46:46.099Z"
   },
   {
    "duration": 7,
    "start_time": "2024-07-09T00:46:46.111Z"
   },
   {
    "duration": 22,
    "start_time": "2024-07-09T00:46:46.122Z"
   },
   {
    "duration": 5,
    "start_time": "2024-07-09T00:46:46.192Z"
   },
   {
    "duration": 13,
    "start_time": "2024-07-09T00:46:46.200Z"
   },
   {
    "duration": 20,
    "start_time": "2024-07-09T00:46:46.217Z"
   },
   {
    "duration": 7,
    "start_time": "2024-07-09T00:46:46.240Z"
   },
   {
    "duration": 18,
    "start_time": "2024-07-09T00:46:46.291Z"
   },
   {
    "duration": 34,
    "start_time": "2024-07-09T00:46:46.314Z"
   },
   {
    "duration": 66,
    "start_time": "2024-07-09T00:46:46.352Z"
   },
   {
    "duration": 23,
    "start_time": "2024-07-09T00:46:46.421Z"
   },
   {
    "duration": 42,
    "start_time": "2024-07-09T00:46:46.455Z"
   },
   {
    "duration": 26,
    "start_time": "2024-07-09T00:46:46.500Z"
   },
   {
    "duration": 11,
    "start_time": "2024-07-09T00:46:46.530Z"
   },
   {
    "duration": 57,
    "start_time": "2024-07-09T00:46:46.543Z"
   },
   {
    "duration": 21,
    "start_time": "2024-07-09T00:46:46.604Z"
   },
   {
    "duration": 26,
    "start_time": "2024-07-09T00:46:46.627Z"
   },
   {
    "duration": 177,
    "start_time": "2024-07-09T00:46:46.656Z"
   },
   {
    "duration": 7,
    "start_time": "2024-07-09T00:46:46.836Z"
   },
   {
    "duration": 6,
    "start_time": "2024-07-09T00:46:46.847Z"
   },
   {
    "duration": 227,
    "start_time": "2024-07-09T00:46:46.856Z"
   },
   {
    "duration": 212,
    "start_time": "2024-07-09T00:46:47.090Z"
   },
   {
    "duration": 266,
    "start_time": "2024-07-09T00:46:47.307Z"
   },
   {
    "duration": 223,
    "start_time": "2024-07-09T00:46:47.575Z"
   },
   {
    "duration": 215,
    "start_time": "2024-07-09T00:46:47.801Z"
   },
   {
    "duration": 225,
    "start_time": "2024-07-09T00:46:48.020Z"
   },
   {
    "duration": 318,
    "start_time": "2024-07-09T00:46:48.248Z"
   },
   {
    "duration": 240,
    "start_time": "2024-07-09T00:46:48.569Z"
   },
   {
    "duration": 211,
    "start_time": "2024-07-09T00:46:48.812Z"
   },
   {
    "duration": 224,
    "start_time": "2024-07-09T00:46:49.026Z"
   },
   {
    "duration": 210,
    "start_time": "2024-07-09T00:46:49.254Z"
   },
   {
    "duration": 279,
    "start_time": "2024-07-09T00:46:49.467Z"
   },
   {
    "duration": 4,
    "start_time": "2024-07-09T00:46:49.749Z"
   },
   {
    "duration": 34,
    "start_time": "2024-07-09T00:46:49.756Z"
   },
   {
    "duration": 32,
    "start_time": "2024-07-09T00:46:49.793Z"
   },
   {
    "duration": 890,
    "start_time": "2024-07-09T00:46:49.829Z"
   },
   {
    "duration": 6,
    "start_time": "2024-07-09T00:46:50.722Z"
   },
   {
    "duration": 6,
    "start_time": "2024-07-09T00:46:50.732Z"
   },
   {
    "duration": 54,
    "start_time": "2024-07-09T00:46:50.743Z"
   },
   {
    "duration": 32,
    "start_time": "2024-07-09T00:46:50.800Z"
   },
   {
    "duration": 29,
    "start_time": "2024-07-09T00:46:50.835Z"
   },
   {
    "duration": 22,
    "start_time": "2024-07-09T00:46:50.891Z"
   },
   {
    "duration": 8,
    "start_time": "2024-07-09T00:46:50.916Z"
   },
   {
    "duration": 12,
    "start_time": "2024-07-09T00:46:50.927Z"
   },
   {
    "duration": 130,
    "start_time": "2024-07-09T00:46:50.942Z"
   },
   {
    "duration": 10,
    "start_time": "2024-07-09T00:49:09.773Z"
   },
   {
    "duration": 5,
    "start_time": "2024-07-09T01:04:26.729Z"
   },
   {
    "duration": 6,
    "start_time": "2024-07-09T01:04:26.738Z"
   },
   {
    "duration": 10,
    "start_time": "2024-07-09T01:04:26.748Z"
   },
   {
    "duration": 83,
    "start_time": "2024-07-09T01:04:26.763Z"
   },
   {
    "duration": 164,
    "start_time": "2024-07-09T01:04:26.851Z"
   },
   {
    "duration": 26,
    "start_time": "2024-07-09T01:04:27.019Z"
   },
   {
    "duration": 19,
    "start_time": "2024-07-09T01:04:27.051Z"
   },
   {
    "duration": 19,
    "start_time": "2024-07-09T01:04:27.093Z"
   },
   {
    "duration": 12,
    "start_time": "2024-07-09T01:04:27.116Z"
   },
   {
    "duration": 58,
    "start_time": "2024-07-09T01:04:27.138Z"
   },
   {
    "duration": 23,
    "start_time": "2024-07-09T01:04:27.200Z"
   },
   {
    "duration": 26,
    "start_time": "2024-07-09T01:04:27.227Z"
   },
   {
    "duration": 52,
    "start_time": "2024-07-09T01:04:27.258Z"
   },
   {
    "duration": 5,
    "start_time": "2024-07-09T01:04:27.314Z"
   },
   {
    "duration": 20,
    "start_time": "2024-07-09T01:04:27.324Z"
   },
   {
    "duration": 46,
    "start_time": "2024-07-09T01:04:27.348Z"
   },
   {
    "duration": 12,
    "start_time": "2024-07-09T01:04:27.398Z"
   },
   {
    "duration": 14,
    "start_time": "2024-07-09T01:04:27.414Z"
   },
   {
    "duration": 7,
    "start_time": "2024-07-09T01:04:27.435Z"
   },
   {
    "duration": 47,
    "start_time": "2024-07-09T01:04:27.450Z"
   },
   {
    "duration": 11,
    "start_time": "2024-07-09T01:04:27.502Z"
   },
   {
    "duration": 11,
    "start_time": "2024-07-09T01:04:27.516Z"
   },
   {
    "duration": 60,
    "start_time": "2024-07-09T01:04:27.531Z"
   },
   {
    "duration": 6,
    "start_time": "2024-07-09T01:04:27.595Z"
   },
   {
    "duration": 18,
    "start_time": "2024-07-09T01:04:27.606Z"
   },
   {
    "duration": 11,
    "start_time": "2024-07-09T01:04:27.628Z"
   },
   {
    "duration": 54,
    "start_time": "2024-07-09T01:04:27.642Z"
   },
   {
    "duration": 10,
    "start_time": "2024-07-09T01:04:27.708Z"
   },
   {
    "duration": 9,
    "start_time": "2024-07-09T01:04:27.722Z"
   },
   {
    "duration": 58,
    "start_time": "2024-07-09T01:04:27.735Z"
   },
   {
    "duration": 9,
    "start_time": "2024-07-09T01:04:27.797Z"
   },
   {
    "duration": 30,
    "start_time": "2024-07-09T01:04:27.809Z"
   },
   {
    "duration": 7,
    "start_time": "2024-07-09T01:04:27.843Z"
   },
   {
    "duration": 12,
    "start_time": "2024-07-09T01:04:27.894Z"
   },
   {
    "duration": 22,
    "start_time": "2024-07-09T01:04:27.910Z"
   },
   {
    "duration": 9,
    "start_time": "2024-07-09T01:04:27.936Z"
   },
   {
    "duration": 63,
    "start_time": "2024-07-09T01:04:27.948Z"
   },
   {
    "duration": 76,
    "start_time": "2024-07-09T01:04:28.015Z"
   },
   {
    "duration": 43,
    "start_time": "2024-07-09T01:04:28.094Z"
   },
   {
    "duration": 64,
    "start_time": "2024-07-09T01:04:28.141Z"
   },
   {
    "duration": 21,
    "start_time": "2024-07-09T01:04:28.209Z"
   },
   {
    "duration": 54,
    "start_time": "2024-07-09T01:04:28.237Z"
   },
   {
    "duration": 13,
    "start_time": "2024-07-09T01:04:28.295Z"
   },
   {
    "duration": 29,
    "start_time": "2024-07-09T01:04:28.311Z"
   },
   {
    "duration": 63,
    "start_time": "2024-07-09T01:04:28.343Z"
   },
   {
    "duration": 36,
    "start_time": "2024-07-09T01:04:28.413Z"
   },
   {
    "duration": 191,
    "start_time": "2024-07-09T01:04:28.453Z"
   },
   {
    "duration": 9,
    "start_time": "2024-07-09T01:04:28.648Z"
   },
   {
    "duration": 32,
    "start_time": "2024-07-09T01:04:28.661Z"
   },
   {
    "duration": 257,
    "start_time": "2024-07-09T01:04:28.697Z"
   },
   {
    "duration": 261,
    "start_time": "2024-07-09T01:04:28.958Z"
   },
   {
    "duration": 310,
    "start_time": "2024-07-09T01:04:29.222Z"
   },
   {
    "duration": 258,
    "start_time": "2024-07-09T01:04:29.537Z"
   },
   {
    "duration": 246,
    "start_time": "2024-07-09T01:04:29.799Z"
   },
   {
    "duration": 251,
    "start_time": "2024-07-09T01:04:30.049Z"
   },
   {
    "duration": 301,
    "start_time": "2024-07-09T01:04:30.303Z"
   },
   {
    "duration": 257,
    "start_time": "2024-07-09T01:04:30.609Z"
   },
   {
    "duration": 251,
    "start_time": "2024-07-09T01:04:30.870Z"
   },
   {
    "duration": 265,
    "start_time": "2024-07-09T01:04:31.126Z"
   },
   {
    "duration": 240,
    "start_time": "2024-07-09T01:04:31.394Z"
   },
   {
    "duration": 349,
    "start_time": "2024-07-09T01:04:31.641Z"
   },
   {
    "duration": 6,
    "start_time": "2024-07-09T01:04:31.993Z"
   },
   {
    "duration": 9,
    "start_time": "2024-07-09T01:04:32.004Z"
   },
   {
    "duration": 73,
    "start_time": "2024-07-09T01:04:32.019Z"
   },
   {
    "duration": 741,
    "start_time": "2024-07-09T01:04:32.099Z"
   },
   {
    "duration": 7,
    "start_time": "2024-07-09T01:04:32.844Z"
   },
   {
    "duration": 6,
    "start_time": "2024-07-09T01:04:32.857Z"
   },
   {
    "duration": 49,
    "start_time": "2024-07-09T01:04:32.867Z"
   },
   {
    "duration": 76,
    "start_time": "2024-07-09T01:04:32.921Z"
   },
   {
    "duration": 36,
    "start_time": "2024-07-09T01:04:33.003Z"
   },
   {
    "duration": 26,
    "start_time": "2024-07-09T01:04:33.043Z"
   },
   {
    "duration": 29,
    "start_time": "2024-07-09T01:04:33.073Z"
   },
   {
    "duration": 12,
    "start_time": "2024-07-09T01:04:33.106Z"
   },
   {
    "duration": 11,
    "start_time": "2024-07-09T01:04:33.121Z"
   },
   {
    "duration": 689,
    "start_time": "2024-07-09T01:07:29.687Z"
   },
   {
    "duration": 698,
    "start_time": "2024-07-09T01:07:38.764Z"
   },
   {
    "duration": 83,
    "start_time": "2024-07-09T01:07:57.045Z"
   },
   {
    "duration": 4,
    "start_time": "2024-07-09T01:08:42.375Z"
   },
   {
    "duration": 24913,
    "start_time": "2024-07-09T01:09:08.478Z"
   },
   {
    "duration": 572,
    "start_time": "2024-07-09T01:09:53.689Z"
   },
   {
    "duration": 1012,
    "start_time": "2024-07-09T01:09:54.265Z"
   },
   {
    "duration": 256,
    "start_time": "2024-07-09T01:09:55.290Z"
   },
   {
    "duration": 170,
    "start_time": "2024-07-09T01:09:55.553Z"
   },
   {
    "duration": 64,
    "start_time": "2024-07-09T01:09:55.727Z"
   },
   {
    "duration": 24,
    "start_time": "2024-07-09T01:09:55.795Z"
   },
   {
    "duration": 15,
    "start_time": "2024-07-09T01:09:55.822Z"
   },
   {
    "duration": 52,
    "start_time": "2024-07-09T01:09:55.841Z"
   },
   {
    "duration": 12,
    "start_time": "2024-07-09T01:09:55.897Z"
   },
   {
    "duration": 22,
    "start_time": "2024-07-09T01:09:55.917Z"
   },
   {
    "duration": 60,
    "start_time": "2024-07-09T01:09:55.943Z"
   },
   {
    "duration": 20,
    "start_time": "2024-07-09T01:09:56.007Z"
   },
   {
    "duration": 17,
    "start_time": "2024-07-09T01:09:56.031Z"
   },
   {
    "duration": 42,
    "start_time": "2024-07-09T01:09:56.051Z"
   },
   {
    "duration": 15,
    "start_time": "2024-07-09T01:09:56.097Z"
   },
   {
    "duration": 11,
    "start_time": "2024-07-09T01:09:56.115Z"
   },
   {
    "duration": 62,
    "start_time": "2024-07-09T01:09:56.131Z"
   },
   {
    "duration": 11,
    "start_time": "2024-07-09T01:09:56.198Z"
   },
   {
    "duration": 6,
    "start_time": "2024-07-09T01:09:56.212Z"
   },
   {
    "duration": 12,
    "start_time": "2024-07-09T01:09:56.222Z"
   },
   {
    "duration": 56,
    "start_time": "2024-07-09T01:09:56.238Z"
   },
   {
    "duration": 10,
    "start_time": "2024-07-09T01:09:56.298Z"
   },
   {
    "duration": 7,
    "start_time": "2024-07-09T01:09:56.314Z"
   },
   {
    "duration": 6,
    "start_time": "2024-07-09T01:09:56.325Z"
   },
   {
    "duration": 66,
    "start_time": "2024-07-09T01:09:56.336Z"
   },
   {
    "duration": 12,
    "start_time": "2024-07-09T01:09:56.406Z"
   },
   {
    "duration": 14,
    "start_time": "2024-07-09T01:09:56.424Z"
   },
   {
    "duration": 7,
    "start_time": "2024-07-09T01:09:56.495Z"
   },
   {
    "duration": 8,
    "start_time": "2024-07-09T01:09:56.507Z"
   },
   {
    "duration": 9,
    "start_time": "2024-07-09T01:09:56.520Z"
   },
   {
    "duration": 14,
    "start_time": "2024-07-09T01:09:56.537Z"
   },
   {
    "duration": 29,
    "start_time": "2024-07-09T01:09:56.594Z"
   },
   {
    "duration": 6,
    "start_time": "2024-07-09T01:09:56.628Z"
   },
   {
    "duration": 13,
    "start_time": "2024-07-09T01:09:56.639Z"
   },
   {
    "duration": 23,
    "start_time": "2024-07-09T01:09:56.691Z"
   },
   {
    "duration": 9,
    "start_time": "2024-07-09T01:09:56.719Z"
   },
   {
    "duration": 23,
    "start_time": "2024-07-09T01:09:56.732Z"
   },
   {
    "duration": 66,
    "start_time": "2024-07-09T01:09:56.758Z"
   },
   {
    "duration": 66,
    "start_time": "2024-07-09T01:09:56.828Z"
   },
   {
    "duration": 34,
    "start_time": "2024-07-09T01:09:56.899Z"
   },
   {
    "duration": 18,
    "start_time": "2024-07-09T01:09:56.938Z"
   },
   {
    "duration": 55,
    "start_time": "2024-07-09T01:09:56.964Z"
   },
   {
    "duration": 15,
    "start_time": "2024-07-09T01:09:57.023Z"
   },
   {
    "duration": 63,
    "start_time": "2024-07-09T01:09:57.042Z"
   },
   {
    "duration": 27,
    "start_time": "2024-07-09T01:09:57.111Z"
   },
   {
    "duration": 65,
    "start_time": "2024-07-09T01:09:57.142Z"
   },
   {
    "duration": 183,
    "start_time": "2024-07-09T01:09:57.213Z"
   },
   {
    "duration": 9,
    "start_time": "2024-07-09T01:09:57.400Z"
   },
   {
    "duration": 7,
    "start_time": "2024-07-09T01:09:57.412Z"
   },
   {
    "duration": 269,
    "start_time": "2024-07-09T01:09:57.424Z"
   },
   {
    "duration": 303,
    "start_time": "2024-07-09T01:09:57.697Z"
   },
   {
    "duration": 281,
    "start_time": "2024-07-09T01:09:58.004Z"
   },
   {
    "duration": 250,
    "start_time": "2024-07-09T01:09:58.291Z"
   },
   {
    "duration": 256,
    "start_time": "2024-07-09T01:09:58.544Z"
   },
   {
    "duration": 294,
    "start_time": "2024-07-09T01:09:58.804Z"
   },
   {
    "duration": 256,
    "start_time": "2024-07-09T01:09:59.102Z"
   },
   {
    "duration": 254,
    "start_time": "2024-07-09T01:09:59.363Z"
   },
   {
    "duration": 265,
    "start_time": "2024-07-09T01:09:59.620Z"
   },
   {
    "duration": 404,
    "start_time": "2024-07-09T01:09:59.892Z"
   },
   {
    "duration": 242,
    "start_time": "2024-07-09T01:10:00.300Z"
   },
   {
    "duration": 322,
    "start_time": "2024-07-09T01:10:00.546Z"
   },
   {
    "duration": 5,
    "start_time": "2024-07-09T01:10:00.871Z"
   },
   {
    "duration": 10,
    "start_time": "2024-07-09T01:10:00.892Z"
   },
   {
    "duration": 37,
    "start_time": "2024-07-09T01:10:00.906Z"
   },
   {
    "duration": 1133,
    "start_time": "2024-07-09T01:10:00.946Z"
   },
   {
    "duration": 11,
    "start_time": "2024-07-09T01:10:02.083Z"
   },
   {
    "duration": 5,
    "start_time": "2024-07-09T01:10:02.098Z"
   },
   {
    "duration": 20,
    "start_time": "2024-07-09T01:10:02.107Z"
   },
   {
    "duration": 77,
    "start_time": "2024-07-09T01:10:02.130Z"
   },
   {
    "duration": 37,
    "start_time": "2024-07-09T01:10:02.211Z"
   },
   {
    "duration": 45,
    "start_time": "2024-07-09T01:10:02.255Z"
   },
   {
    "duration": 9,
    "start_time": "2024-07-09T01:10:02.304Z"
   },
   {
    "duration": 13,
    "start_time": "2024-07-09T01:10:02.318Z"
   },
   {
    "duration": 12,
    "start_time": "2024-07-09T01:10:02.335Z"
   },
   {
    "duration": 760,
    "start_time": "2024-07-09T01:10:02.391Z"
   },
   {
    "duration": 102,
    "start_time": "2024-07-09T01:10:03.156Z"
   },
   {
    "duration": 56512,
    "start_time": "2024-07-09T01:10:03.262Z"
   },
   {
    "duration": 11765,
    "start_time": "2024-07-09T01:11:01.144Z"
   },
   {
    "duration": 12151,
    "start_time": "2024-07-09T01:12:53.373Z"
   },
   {
    "duration": 5,
    "start_time": "2024-07-09T01:20:54.315Z"
   },
   {
    "duration": 5,
    "start_time": "2024-07-09T01:20:54.325Z"
   },
   {
    "duration": 4,
    "start_time": "2024-07-09T01:20:54.334Z"
   },
   {
    "duration": 9,
    "start_time": "2024-07-09T01:20:54.341Z"
   },
   {
    "duration": 100,
    "start_time": "2024-07-09T01:20:54.356Z"
   },
   {
    "duration": 35,
    "start_time": "2024-07-09T01:20:54.460Z"
   },
   {
    "duration": 18,
    "start_time": "2024-07-09T01:20:54.499Z"
   },
   {
    "duration": 17,
    "start_time": "2024-07-09T01:20:54.520Z"
   },
   {
    "duration": 51,
    "start_time": "2024-07-09T01:20:54.540Z"
   },
   {
    "duration": 19,
    "start_time": "2024-07-09T01:20:54.594Z"
   },
   {
    "duration": 19,
    "start_time": "2024-07-09T01:20:54.617Z"
   },
   {
    "duration": 60,
    "start_time": "2024-07-09T01:20:54.640Z"
   },
   {
    "duration": 18,
    "start_time": "2024-07-09T01:20:54.704Z"
   },
   {
    "duration": 6,
    "start_time": "2024-07-09T01:20:54.731Z"
   },
   {
    "duration": 58,
    "start_time": "2024-07-09T01:20:54.741Z"
   },
   {
    "duration": 16,
    "start_time": "2024-07-09T01:20:54.803Z"
   },
   {
    "duration": 18,
    "start_time": "2024-07-09T01:20:54.825Z"
   },
   {
    "duration": 47,
    "start_time": "2024-07-09T01:20:54.846Z"
   },
   {
    "duration": 7,
    "start_time": "2024-07-09T01:20:54.897Z"
   },
   {
    "duration": 13,
    "start_time": "2024-07-09T01:20:54.908Z"
   },
   {
    "duration": 11,
    "start_time": "2024-07-09T01:20:54.925Z"
   },
   {
    "duration": 59,
    "start_time": "2024-07-09T01:20:54.940Z"
   },
   {
    "duration": 9,
    "start_time": "2024-07-09T01:20:55.002Z"
   },
   {
    "duration": 5,
    "start_time": "2024-07-09T01:20:55.014Z"
   },
   {
    "duration": 16,
    "start_time": "2024-07-09T01:20:55.023Z"
   },
   {
    "duration": 10,
    "start_time": "2024-07-09T01:20:55.043Z"
   },
   {
    "duration": 14,
    "start_time": "2024-07-09T01:20:55.090Z"
   },
   {
    "duration": 8,
    "start_time": "2024-07-09T01:20:55.108Z"
   },
   {
    "duration": 9,
    "start_time": "2024-07-09T01:20:55.121Z"
   },
   {
    "duration": 13,
    "start_time": "2024-07-09T01:20:55.191Z"
   },
   {
    "duration": 9,
    "start_time": "2024-07-09T01:20:55.212Z"
   },
   {
    "duration": 71,
    "start_time": "2024-07-09T01:20:55.226Z"
   },
   {
    "duration": 7,
    "start_time": "2024-07-09T01:20:55.302Z"
   },
   {
    "duration": 15,
    "start_time": "2024-07-09T01:20:55.313Z"
   },
   {
    "duration": 73,
    "start_time": "2024-07-09T01:20:55.332Z"
   },
   {
    "duration": 8,
    "start_time": "2024-07-09T01:20:55.409Z"
   },
   {
    "duration": 73,
    "start_time": "2024-07-09T01:20:55.420Z"
   },
   {
    "duration": 94,
    "start_time": "2024-07-09T01:20:55.498Z"
   },
   {
    "duration": 36,
    "start_time": "2024-07-09T01:20:55.596Z"
   },
   {
    "duration": 69,
    "start_time": "2024-07-09T01:20:55.635Z"
   },
   {
    "duration": 16,
    "start_time": "2024-07-09T01:20:55.717Z"
   },
   {
    "duration": 56,
    "start_time": "2024-07-09T01:20:55.741Z"
   },
   {
    "duration": 15,
    "start_time": "2024-07-09T01:20:55.802Z"
   },
   {
    "duration": 29,
    "start_time": "2024-07-09T01:20:55.821Z"
   },
   {
    "duration": 27,
    "start_time": "2024-07-09T01:20:55.890Z"
   },
   {
    "duration": 33,
    "start_time": "2024-07-09T01:20:55.921Z"
   },
   {
    "duration": 320,
    "start_time": "2024-07-09T01:20:55.958Z"
   },
   {
    "duration": 9,
    "start_time": "2024-07-09T01:20:56.290Z"
   },
   {
    "duration": 7,
    "start_time": "2024-07-09T01:20:56.302Z"
   },
   {
    "duration": 286,
    "start_time": "2024-07-09T01:20:56.312Z"
   },
   {
    "duration": 259,
    "start_time": "2024-07-09T01:20:56.602Z"
   },
   {
    "duration": 319,
    "start_time": "2024-07-09T01:20:56.865Z"
   },
   {
    "duration": 254,
    "start_time": "2024-07-09T01:20:57.192Z"
   },
   {
    "duration": 282,
    "start_time": "2024-07-09T01:20:57.451Z"
   },
   {
    "duration": 256,
    "start_time": "2024-07-09T01:20:57.737Z"
   },
   {
    "duration": 254,
    "start_time": "2024-07-09T01:20:57.998Z"
   },
   {
    "duration": 254,
    "start_time": "2024-07-09T01:20:58.256Z"
   },
   {
    "duration": 267,
    "start_time": "2024-07-09T01:20:58.514Z"
   },
   {
    "duration": 303,
    "start_time": "2024-07-09T01:20:58.794Z"
   },
   {
    "duration": 255,
    "start_time": "2024-07-09T01:20:59.102Z"
   },
   {
    "duration": 308,
    "start_time": "2024-07-09T01:20:59.361Z"
   },
   {
    "duration": 17,
    "start_time": "2024-07-09T01:20:59.673Z"
   },
   {
    "duration": 14,
    "start_time": "2024-07-09T01:20:59.694Z"
   },
   {
    "duration": 39,
    "start_time": "2024-07-09T01:20:59.712Z"
   },
   {
    "duration": 727,
    "start_time": "2024-07-09T01:20:59.790Z"
   },
   {
    "duration": 7,
    "start_time": "2024-07-09T01:21:00.521Z"
   },
   {
    "duration": 5,
    "start_time": "2024-07-09T01:21:00.532Z"
   },
   {
    "duration": 52,
    "start_time": "2024-07-09T01:21:00.541Z"
   },
   {
    "duration": 36,
    "start_time": "2024-07-09T01:21:00.597Z"
   },
   {
    "duration": 57,
    "start_time": "2024-07-09T01:21:00.638Z"
   },
   {
    "duration": 28,
    "start_time": "2024-07-09T01:21:00.700Z"
   },
   {
    "duration": 9,
    "start_time": "2024-07-09T01:21:00.733Z"
   },
   {
    "duration": 51,
    "start_time": "2024-07-09T01:21:00.750Z"
   },
   {
    "duration": 13,
    "start_time": "2024-07-09T01:21:00.806Z"
   },
   {
    "duration": 718,
    "start_time": "2024-07-09T01:21:00.823Z"
   },
   {
    "duration": 97,
    "start_time": "2024-07-09T01:21:01.550Z"
   },
   {
    "duration": 11830,
    "start_time": "2024-07-09T01:21:01.651Z"
   },
   {
    "duration": 5,
    "start_time": "2024-07-09T01:23:23.745Z"
   },
   {
    "duration": 34,
    "start_time": "2024-07-09T01:24:14.479Z"
   },
   {
    "duration": 209,
    "start_time": "2024-07-09T01:24:55.206Z"
   },
   {
    "duration": 4,
    "start_time": "2024-07-09T01:25:01.403Z"
   },
   {
    "duration": 320,
    "start_time": "2024-07-09T01:25:04.774Z"
   },
   {
    "duration": 19,
    "start_time": "2024-07-09T01:27:49.593Z"
   },
   {
    "duration": 80,
    "start_time": "2024-07-09T01:34:57.407Z"
   },
   {
    "duration": 2530,
    "start_time": "2024-07-09T01:37:12.201Z"
   },
   {
    "duration": 28,
    "start_time": "2024-07-09T01:37:51.137Z"
   },
   {
    "duration": 20,
    "start_time": "2024-07-09T01:38:31.119Z"
   },
   {
    "duration": 23,
    "start_time": "2024-07-09T01:38:42.923Z"
   },
   {
    "duration": 46,
    "start_time": "2024-07-09T01:40:27.161Z"
   },
   {
    "duration": 41376,
    "start_time": "2024-07-09T01:40:47.177Z"
   },
   {
    "duration": 4,
    "start_time": "2024-07-09T01:41:33.096Z"
   },
   {
    "duration": 2028,
    "start_time": "2024-07-09T01:41:33.105Z"
   },
   {
    "duration": 56,
    "start_time": "2024-07-09T01:41:35.135Z"
   },
   {
    "duration": 21978,
    "start_time": "2024-07-09T01:41:35.195Z"
   },
   {
    "duration": 10972,
    "start_time": "2024-07-09T01:42:12.293Z"
   },
   {
    "duration": 41594,
    "start_time": "2024-07-09T01:42:32.667Z"
   },
   {
    "duration": 4,
    "start_time": "2024-07-09T01:44:46.230Z"
   },
   {
    "duration": 3,
    "start_time": "2024-07-09T01:44:48.823Z"
   },
   {
    "duration": 3,
    "start_time": "2024-07-09T01:45:54.588Z"
   },
   {
    "duration": 29,
    "start_time": "2024-07-09T01:54:14.548Z"
   },
   {
    "duration": 6,
    "start_time": "2024-07-09T01:58:39.766Z"
   },
   {
    "duration": 8,
    "start_time": "2024-07-09T01:59:32.894Z"
   },
   {
    "duration": 32,
    "start_time": "2024-07-09T01:59:56.627Z"
   },
   {
    "duration": 7,
    "start_time": "2024-07-09T02:00:56.643Z"
   },
   {
    "duration": 68,
    "start_time": "2024-07-09T02:00:57.128Z"
   },
   {
    "duration": 6,
    "start_time": "2024-07-09T02:02:25.978Z"
   },
   {
    "duration": 59,
    "start_time": "2024-07-09T02:02:26.507Z"
   },
   {
    "duration": 8,
    "start_time": "2024-07-09T02:03:37.798Z"
   },
   {
    "duration": 7,
    "start_time": "2024-07-09T02:03:57.963Z"
   },
   {
    "duration": 5,
    "start_time": "2024-07-09T02:06:13.143Z"
   },
   {
    "duration": 29311,
    "start_time": "2024-07-09T02:06:15.885Z"
   },
   {
    "duration": 29,
    "start_time": "2024-07-09T02:09:07.708Z"
   },
   {
    "duration": 57,
    "start_time": "2024-07-09T02:10:11.350Z"
   },
   {
    "duration": 26,
    "start_time": "2024-07-09T02:10:23.977Z"
   },
   {
    "duration": 8,
    "start_time": "2024-07-09T02:12:09.202Z"
   },
   {
    "duration": 24,
    "start_time": "2024-07-09T02:21:50.952Z"
   },
   {
    "duration": 5,
    "start_time": "2024-07-09T02:22:13.535Z"
   },
   {
    "duration": 407,
    "start_time": "2024-07-09T02:22:57.684Z"
   },
   {
    "duration": 6,
    "start_time": "2024-07-09T02:26:42.500Z"
   },
   {
    "duration": 417,
    "start_time": "2024-07-09T02:27:16.022Z"
   },
   {
    "duration": 461,
    "start_time": "2024-07-09T02:27:27.766Z"
   },
   {
    "duration": 461,
    "start_time": "2024-07-10T19:52:48.355Z"
   },
   {
    "duration": 4597,
    "start_time": "2024-07-10T19:52:48.820Z"
   },
   {
    "duration": 216,
    "start_time": "2024-07-10T19:52:53.421Z"
   },
   {
    "duration": 92,
    "start_time": "2024-07-10T19:52:53.640Z"
   },
   {
    "duration": 96,
    "start_time": "2024-07-10T19:52:53.738Z"
   },
   {
    "duration": 18,
    "start_time": "2024-07-10T19:52:53.837Z"
   },
   {
    "duration": 12,
    "start_time": "2024-07-10T19:52:53.859Z"
   },
   {
    "duration": 15,
    "start_time": "2024-07-10T19:52:53.874Z"
   },
   {
    "duration": 11,
    "start_time": "2024-07-10T19:52:53.912Z"
   },
   {
    "duration": 17,
    "start_time": "2024-07-10T19:52:53.927Z"
   },
   {
    "duration": 16,
    "start_time": "2024-07-10T19:52:53.948Z"
   },
   {
    "duration": 58,
    "start_time": "2024-07-10T19:52:53.967Z"
   },
   {
    "duration": 13,
    "start_time": "2024-07-10T19:52:54.029Z"
   },
   {
    "duration": 5,
    "start_time": "2024-07-10T19:52:54.049Z"
   },
   {
    "duration": 13,
    "start_time": "2024-07-10T19:52:54.057Z"
   },
   {
    "duration": 12,
    "start_time": "2024-07-10T19:52:54.111Z"
   },
   {
    "duration": 12,
    "start_time": "2024-07-10T19:52:54.126Z"
   },
   {
    "duration": 8,
    "start_time": "2024-07-10T19:52:54.143Z"
   },
   {
    "duration": 8,
    "start_time": "2024-07-10T19:52:54.154Z"
   },
   {
    "duration": 48,
    "start_time": "2024-07-10T19:52:54.165Z"
   },
   {
    "duration": 10,
    "start_time": "2024-07-10T19:52:54.216Z"
   },
   {
    "duration": 7,
    "start_time": "2024-07-10T19:52:54.229Z"
   },
   {
    "duration": 6,
    "start_time": "2024-07-10T19:52:54.240Z"
   },
   {
    "duration": 8,
    "start_time": "2024-07-10T19:52:54.248Z"
   },
   {
    "duration": 60,
    "start_time": "2024-07-10T19:52:54.259Z"
   },
   {
    "duration": 8,
    "start_time": "2024-07-10T19:52:54.325Z"
   },
   {
    "duration": 10,
    "start_time": "2024-07-10T19:52:54.336Z"
   },
   {
    "duration": 10,
    "start_time": "2024-07-10T19:52:54.348Z"
   },
   {
    "duration": 51,
    "start_time": "2024-07-10T19:52:54.361Z"
   },
   {
    "duration": 9,
    "start_time": "2024-07-10T19:52:54.415Z"
   },
   {
    "duration": 7,
    "start_time": "2024-07-10T19:52:54.427Z"
   },
   {
    "duration": 25,
    "start_time": "2024-07-10T19:52:54.437Z"
   },
   {
    "duration": 5,
    "start_time": "2024-07-10T19:52:54.465Z"
   },
   {
    "duration": 12,
    "start_time": "2024-07-10T19:52:54.513Z"
   },
   {
    "duration": 16,
    "start_time": "2024-07-10T19:52:54.528Z"
   },
   {
    "duration": 8,
    "start_time": "2024-07-10T19:52:54.547Z"
   },
   {
    "duration": 117,
    "start_time": "2024-07-10T19:52:54.558Z"
   },
   {
    "duration": 50,
    "start_time": "2024-07-10T19:52:54.679Z"
   },
   {
    "duration": 34,
    "start_time": "2024-07-10T19:52:54.731Z"
   },
   {
    "duration": 50,
    "start_time": "2024-07-10T19:52:54.769Z"
   },
   {
    "duration": 18,
    "start_time": "2024-07-10T19:52:54.831Z"
   },
   {
    "duration": 25,
    "start_time": "2024-07-10T19:52:54.853Z"
   },
   {
    "duration": 40,
    "start_time": "2024-07-10T19:52:54.881Z"
   },
   {
    "duration": 26,
    "start_time": "2024-07-10T19:52:54.926Z"
   },
   {
    "duration": 19,
    "start_time": "2024-07-10T19:52:54.954Z"
   },
   {
    "duration": 24,
    "start_time": "2024-07-10T19:52:55.014Z"
   },
   {
    "duration": 174,
    "start_time": "2024-07-10T19:52:55.041Z"
   },
   {
    "duration": 6,
    "start_time": "2024-07-10T19:52:55.218Z"
   },
   {
    "duration": 4,
    "start_time": "2024-07-10T19:52:55.229Z"
   },
   {
    "duration": 224,
    "start_time": "2024-07-10T19:52:55.237Z"
   },
   {
    "duration": 212,
    "start_time": "2024-07-10T19:52:55.464Z"
   },
   {
    "duration": 256,
    "start_time": "2024-07-10T19:52:55.679Z"
   },
   {
    "duration": 222,
    "start_time": "2024-07-10T19:52:55.938Z"
   },
   {
    "duration": 212,
    "start_time": "2024-07-10T19:52:56.164Z"
   },
   {
    "duration": 209,
    "start_time": "2024-07-10T19:52:56.379Z"
   },
   {
    "duration": 217,
    "start_time": "2024-07-10T19:52:56.591Z"
   },
   {
    "duration": 230,
    "start_time": "2024-07-10T19:52:56.814Z"
   },
   {
    "duration": 216,
    "start_time": "2024-07-10T19:52:57.051Z"
   },
   {
    "duration": 223,
    "start_time": "2024-07-10T19:52:57.271Z"
   },
   {
    "duration": 205,
    "start_time": "2024-07-10T19:52:57.497Z"
   },
   {
    "duration": 262,
    "start_time": "2024-07-10T19:52:57.705Z"
   },
   {
    "duration": 5,
    "start_time": "2024-07-10T19:52:57.970Z"
   },
   {
    "duration": 9,
    "start_time": "2024-07-10T19:52:57.978Z"
   },
   {
    "duration": 33,
    "start_time": "2024-07-10T19:52:58.014Z"
   },
   {
    "duration": 746,
    "start_time": "2024-07-10T19:52:58.051Z"
   },
   {
    "duration": 14,
    "start_time": "2024-07-10T19:52:58.800Z"
   },
   {
    "duration": 4,
    "start_time": "2024-07-10T19:52:58.818Z"
   },
   {
    "duration": 16,
    "start_time": "2024-07-10T19:52:58.826Z"
   },
   {
    "duration": 31,
    "start_time": "2024-07-10T19:52:58.845Z"
   },
   {
    "duration": 27,
    "start_time": "2024-07-10T19:52:58.913Z"
   },
   {
    "duration": 21,
    "start_time": "2024-07-10T19:52:58.943Z"
   },
   {
    "duration": 45,
    "start_time": "2024-07-10T19:52:58.967Z"
   },
   {
    "duration": 11,
    "start_time": "2024-07-10T19:52:59.015Z"
   },
   {
    "duration": 10,
    "start_time": "2024-07-10T19:52:59.028Z"
   },
   {
    "duration": 628,
    "start_time": "2024-07-10T19:52:59.041Z"
   },
   {
    "duration": 88,
    "start_time": "2024-07-10T19:52:59.672Z"
   },
   {
    "duration": 10221,
    "start_time": "2024-07-10T19:52:59.763Z"
   },
   {
    "duration": 4,
    "start_time": "2024-07-10T19:53:09.987Z"
   },
   {
    "duration": 110,
    "start_time": "2024-07-10T19:53:10.013Z"
   },
   {
    "duration": 87,
    "start_time": "2024-07-10T19:53:10.126Z"
   },
   {
    "duration": 153,
    "start_time": "2024-07-10T19:53:10.216Z"
   },
   {
    "duration": 1784,
    "start_time": "2024-07-10T19:53:10.372Z"
   },
   {
    "duration": 64,
    "start_time": "2024-07-10T19:53:12.159Z"
   },
   {
    "duration": 39032,
    "start_time": "2024-07-10T19:53:12.228Z"
   },
   {
    "duration": 6,
    "start_time": "2024-07-10T19:53:51.266Z"
   },
   {
    "duration": 29181,
    "start_time": "2024-07-10T19:53:51.276Z"
   },
   {
    "duration": 65,
    "start_time": "2024-07-10T19:54:20.461Z"
   },
   {
    "duration": 5,
    "start_time": "2024-07-10T19:54:20.529Z"
   },
   {
    "duration": 470,
    "start_time": "2024-07-10T19:54:20.537Z"
   },
   {
    "duration": 451,
    "start_time": "2024-07-22T19:11:45.016Z"
   },
   {
    "duration": 4575,
    "start_time": "2024-07-22T19:11:45.471Z"
   },
   {
    "duration": 209,
    "start_time": "2024-07-22T19:11:50.048Z"
   },
   {
    "duration": 78,
    "start_time": "2024-07-22T19:11:50.260Z"
   },
   {
    "duration": 82,
    "start_time": "2024-07-22T19:11:50.342Z"
   },
   {
    "duration": 21,
    "start_time": "2024-07-22T19:11:50.427Z"
   },
   {
    "duration": 16,
    "start_time": "2024-07-22T19:11:50.451Z"
   },
   {
    "duration": 14,
    "start_time": "2024-07-22T19:11:50.472Z"
   },
   {
    "duration": 10,
    "start_time": "2024-07-22T19:11:50.490Z"
   },
   {
    "duration": 18,
    "start_time": "2024-07-22T19:11:50.504Z"
   },
   {
    "duration": 52,
    "start_time": "2024-07-22T19:11:50.524Z"
   },
   {
    "duration": 15,
    "start_time": "2024-07-22T19:11:50.580Z"
   },
   {
    "duration": 15,
    "start_time": "2024-07-22T19:11:50.598Z"
   },
   {
    "duration": 4,
    "start_time": "2024-07-22T19:11:50.620Z"
   },
   {
    "duration": 48,
    "start_time": "2024-07-22T19:11:50.628Z"
   },
   {
    "duration": 11,
    "start_time": "2024-07-22T19:11:50.679Z"
   },
   {
    "duration": 12,
    "start_time": "2024-07-22T19:11:50.692Z"
   },
   {
    "duration": 8,
    "start_time": "2024-07-22T19:11:50.706Z"
   },
   {
    "duration": 53,
    "start_time": "2024-07-22T19:11:50.717Z"
   },
   {
    "duration": 9,
    "start_time": "2024-07-22T19:11:50.773Z"
   },
   {
    "duration": 8,
    "start_time": "2024-07-22T19:11:50.784Z"
   },
   {
    "duration": 7,
    "start_time": "2024-07-22T19:11:50.796Z"
   },
   {
    "duration": 7,
    "start_time": "2024-07-22T19:11:50.806Z"
   },
   {
    "duration": 5,
    "start_time": "2024-07-22T19:11:50.867Z"
   },
   {
    "duration": 14,
    "start_time": "2024-07-22T19:11:50.875Z"
   },
   {
    "duration": 8,
    "start_time": "2024-07-22T19:11:50.892Z"
   },
   {
    "duration": 11,
    "start_time": "2024-07-22T19:11:50.902Z"
   },
   {
    "duration": 54,
    "start_time": "2024-07-22T19:11:50.916Z"
   },
   {
    "duration": 7,
    "start_time": "2024-07-22T19:11:50.974Z"
   },
   {
    "duration": 9,
    "start_time": "2024-07-22T19:11:50.984Z"
   },
   {
    "duration": 8,
    "start_time": "2024-07-22T19:11:50.996Z"
   },
   {
    "duration": 61,
    "start_time": "2024-07-22T19:11:51.008Z"
   },
   {
    "duration": 6,
    "start_time": "2024-07-22T19:11:51.072Z"
   },
   {
    "duration": 14,
    "start_time": "2024-07-22T19:11:51.081Z"
   },
   {
    "duration": 19,
    "start_time": "2024-07-22T19:11:51.097Z"
   },
   {
    "duration": 6,
    "start_time": "2024-07-22T19:11:51.119Z"
   },
   {
    "duration": 83,
    "start_time": "2024-07-22T19:11:51.167Z"
   },
   {
    "duration": 45,
    "start_time": "2024-07-22T19:11:51.253Z"
   },
   {
    "duration": 29,
    "start_time": "2024-07-22T19:11:51.301Z"
   },
   {
    "duration": 51,
    "start_time": "2024-07-22T19:11:51.333Z"
   },
   {
    "duration": 14,
    "start_time": "2024-07-22T19:11:51.395Z"
   },
   {
    "duration": 25,
    "start_time": "2024-07-22T19:11:51.412Z"
   },
   {
    "duration": 13,
    "start_time": "2024-07-22T19:11:51.472Z"
   },
   {
    "duration": 28,
    "start_time": "2024-07-22T19:11:51.488Z"
   },
   {
    "duration": 20,
    "start_time": "2024-07-22T19:11:51.518Z"
   },
   {
    "duration": 50,
    "start_time": "2024-07-22T19:11:51.540Z"
   },
   {
    "duration": 164,
    "start_time": "2024-07-22T19:11:51.594Z"
   },
   {
    "duration": 10,
    "start_time": "2024-07-22T19:11:51.761Z"
   },
   {
    "duration": 4,
    "start_time": "2024-07-22T19:11:51.775Z"
   },
   {
    "duration": 222,
    "start_time": "2024-07-22T19:11:51.782Z"
   },
   {
    "duration": 226,
    "start_time": "2024-07-22T19:11:52.007Z"
   },
   {
    "duration": 235,
    "start_time": "2024-07-22T19:11:52.239Z"
   },
   {
    "duration": 216,
    "start_time": "2024-07-22T19:11:52.477Z"
   },
   {
    "duration": 211,
    "start_time": "2024-07-22T19:11:52.697Z"
   },
   {
    "duration": 213,
    "start_time": "2024-07-22T19:11:52.911Z"
   },
   {
    "duration": 211,
    "start_time": "2024-07-22T19:11:53.127Z"
   },
   {
    "duration": 211,
    "start_time": "2024-07-22T19:11:53.341Z"
   },
   {
    "duration": 222,
    "start_time": "2024-07-22T19:11:53.555Z"
   },
   {
    "duration": 222,
    "start_time": "2024-07-22T19:11:53.782Z"
   },
   {
    "duration": 203,
    "start_time": "2024-07-22T19:11:54.007Z"
   },
   {
    "duration": 271,
    "start_time": "2024-07-22T19:11:54.214Z"
   },
   {
    "duration": 4,
    "start_time": "2024-07-22T19:11:54.488Z"
   },
   {
    "duration": 9,
    "start_time": "2024-07-22T19:11:54.495Z"
   },
   {
    "duration": 29,
    "start_time": "2024-07-22T19:11:54.508Z"
   },
   {
    "duration": 751,
    "start_time": "2024-07-22T19:11:54.569Z"
   },
   {
    "duration": 5,
    "start_time": "2024-07-22T19:11:55.323Z"
   },
   {
    "duration": 5,
    "start_time": "2024-07-22T19:11:55.332Z"
   },
   {
    "duration": 42,
    "start_time": "2024-07-22T19:11:55.340Z"
   },
   {
    "duration": 40,
    "start_time": "2024-07-22T19:11:55.386Z"
   },
   {
    "duration": 60,
    "start_time": "2024-07-22T19:11:55.429Z"
   },
   {
    "duration": 20,
    "start_time": "2024-07-22T19:11:55.493Z"
   },
   {
    "duration": 7,
    "start_time": "2024-07-22T19:11:55.516Z"
   },
   {
    "duration": 44,
    "start_time": "2024-07-22T19:11:55.526Z"
   },
   {
    "duration": 11,
    "start_time": "2024-07-22T19:11:55.573Z"
   },
   {
    "duration": 630,
    "start_time": "2024-07-22T19:11:55.587Z"
   },
   {
    "duration": 92,
    "start_time": "2024-07-22T19:11:56.221Z"
   },
   {
    "duration": 10443,
    "start_time": "2024-07-22T19:11:56.317Z"
   },
   {
    "duration": 4,
    "start_time": "2024-07-22T19:12:06.764Z"
   },
   {
    "duration": 108,
    "start_time": "2024-07-22T19:12:06.772Z"
   },
   {
    "duration": 91,
    "start_time": "2024-07-22T19:12:06.887Z"
   },
   {
    "duration": 224,
    "start_time": "2024-07-22T19:12:06.987Z"
   },
   {
    "duration": 2104,
    "start_time": "2024-07-22T19:12:07.214Z"
   },
   {
    "duration": 65,
    "start_time": "2024-07-22T19:12:09.321Z"
   },
   {
    "duration": 41744,
    "start_time": "2024-07-22T19:12:09.389Z"
   },
   {
    "duration": 5,
    "start_time": "2024-07-22T19:12:51.137Z"
   },
   {
    "duration": 28496,
    "start_time": "2024-07-22T19:12:51.146Z"
   },
   {
    "duration": 47,
    "start_time": "2024-07-22T19:13:19.645Z"
   },
   {
    "duration": 5,
    "start_time": "2024-07-22T19:13:19.696Z"
   },
   {
    "duration": 468,
    "start_time": "2024-07-22T19:13:19.704Z"
   }
  ],
  "kernelspec": {
   "display_name": "Python 3 (ipykernel)",
   "language": "python",
   "name": "python3"
  },
  "language_info": {
   "codemirror_mode": {
    "name": "ipython",
    "version": 3
   },
   "file_extension": ".py",
   "mimetype": "text/x-python",
   "name": "python",
   "nbconvert_exporter": "python",
   "pygments_lexer": "ipython3",
   "version": "3.9.19"
  },
  "toc": {
   "base_numbering": 1,
   "nav_menu": {},
   "number_sections": true,
   "sideBar": true,
   "skip_h1_title": true,
   "title_cell": "Table of Contents",
   "title_sidebar": "Contents",
   "toc_cell": false,
   "toc_position": {
    "height": "calc(100% - 180px)",
    "left": "10px",
    "top": "150px",
    "width": "364.2px"
   },
   "toc_section_display": true,
   "toc_window_display": true
  }
 },
 "nbformat": 4,
 "nbformat_minor": 2
}
